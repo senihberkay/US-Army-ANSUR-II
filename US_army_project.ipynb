{
 "cells": [
  {
   "cell_type": "markdown",
   "metadata": {
    "cell_style": "split",
    "heading_collapsed": true,
    "id": "laCRtJs51b6z"
   },
   "source": [
    "# Determines"
   ]
  },
  {
   "cell_type": "markdown",
   "metadata": {
    "cell_style": "split",
    "hidden": true,
    "id": "iixh9Bej1b6z"
   },
   "source": [
    "The 2012 US Army Anthropometric Survey (ANSUR II) was executed by the Natick Soldier Research, Development and Engineering Center (NSRDEC) from October 2010 to April 2012 and comprises personnel representing the total US Army force including the US Army Active Duty, Reserves, and National Guard. In addition to the anthropometric and demographic data described below, the ANSUR II database also consists of the 3D whole body, foot, and head scans of Soldier participants. These 3D data are not publicly available out of respect for the privacy of ANSUR II participants. The data from this survey are used for a wide range of equipment design, sizing, and tariffing applications within the military and have many potential commercial, industrial, and academic applications.\n",
    "\n",
    "The ANSUR II working databases contain 93 anthropometric measurements which were directly measured, and 15 demographic/administrative variables explained below. The ANSUR II Male working database includes a total sample of 4,082 subjects. The ANSUR II Female working database contains a total sample of 1,986 subjects.\n",
    "\n",
    "\n",
    "DATA DICT:\n",
    "https://data.world/datamil/ansur-ii-data-dictionary/workspace/file?filename=ANSUR+II+Databases+Overview.pdf\n",
    "\n",
    "---\n"
   ]
  },
  {
   "cell_type": "markdown",
   "metadata": {
    "cell_style": "split",
    "hidden": true,
    "id": "gCVDEsGB1b60"
   },
   "source": [
    "#### 1. Exploratory Data Analysis (EDA)\n",
    "- Import Libraries, Load Dataset, Exploring Data\n",
    "\n",
    "    *i. Imported Libraries*\n",
    "    \n",
    "    *ii. Ingested Data *\n",
    "    \n",
    "    *iii. Explored Data*\n",
    "    \n",
    "    *iv. Outlier Detection*\n",
    "    \n",
    "    *v.  Dropped unnecessary features*\n",
    "\n",
    "#### 2. Data Preprocessing\n",
    "- Scale (if needed)\n",
    "- Separeted the data frame for evaluation purposes\n",
    "\n",
    "#### 3. Multi-class Classification\n",
    "- Imported libraries\n",
    "- Implemented SVM Classifer\n",
    "- Implemented Decision Tree Classifier\n",
    "- Implemented Random Forest Classifer\n",
    "- Implemented XGBoost Classifer\n",
    "- Compared The Models\n",
    "\n"
   ]
  },
  {
   "cell_type": "markdown",
   "metadata": {
    "heading_collapsed": true,
    "id": "Y5-Kay1Eqvdj"
   },
   "source": [
    "# EDA\n",
    "- Droped unnecessary colums\n",
    "- Droped DODRace class if value count below 500 (we assume that our data model can't learn if it is below 500)"
   ]
  },
  {
   "cell_type": "markdown",
   "metadata": {
    "heading_collapsed": true,
    "hidden": true,
    "id": "K7UZHtvu1b62"
   },
   "source": [
    "## Import Libraries\n",
    "\n",
    "*Note: Other libraries were also imported as needed.*"
   ]
  },
  {
   "cell_type": "code",
   "execution_count": 1,
   "metadata": {
    "hidden": true,
    "id": "OqnRjwHB1b64"
   },
   "outputs": [],
   "source": [
    "import numpy as np\n",
    "import pandas as pd\n",
    "import seaborn as sns\n",
    "import matplotlib.pyplot as plt\n",
    "\n",
    "%matplotlib inline\n",
    "#%matplotlib notebook\n",
    "plt.rcParams[\"figure.figsize\"] = (10,6)\n",
    "import warnings\n",
    "warnings.filterwarnings(\"ignore\")\n",
    "warnings.warn(\"this will not show\")\n",
    "pd.set_option('display.float_format', lambda x: '%.3f' % x)"
   ]
  },
  {
   "cell_type": "markdown",
   "metadata": {
    "heading_collapsed": true,
    "hidden": true,
    "id": "C5lJeTBu1b65"
   },
   "source": [
    "## Ingest Data from links below and make a dataframe\n",
    "- Soldiers Male : https://query.data.world/s/h3pbhckz5ck4rc7qmt2wlknlnn7esr\n",
    "- Soldiers Female : https://query.data.world/s/sq27zz4hawg32yfxksqwijxmpwmynq"
   ]
  },
  {
   "cell_type": "code",
   "execution_count": 2,
   "metadata": {
    "colab": {
     "base_uri": "https://localhost:8080/",
     "height": 17
    },
    "hidden": true,
    "id": "tG5BsWraqX_y",
    "outputId": "a6e730fa-6848-4cfc-becb-284fc8cc99e5"
   },
   "outputs": [],
   "source": [
    "df_f = pd.read_csv(\"ANSUR II FEMALE Public.csv\", encoding=\"utf-8\")"
   ]
  },
  {
   "cell_type": "code",
   "execution_count": 3,
   "metadata": {},
   "outputs": [
    {
     "data": {
      "text/html": [
       "<div>\n",
       "<style scoped>\n",
       "    .dataframe tbody tr th:only-of-type {\n",
       "        vertical-align: middle;\n",
       "    }\n",
       "\n",
       "    .dataframe tbody tr th {\n",
       "        vertical-align: top;\n",
       "    }\n",
       "\n",
       "    .dataframe thead th {\n",
       "        text-align: right;\n",
       "    }\n",
       "</style>\n",
       "<table border=\"1\" class=\"dataframe\">\n",
       "  <thead>\n",
       "    <tr style=\"text-align: right;\">\n",
       "      <th></th>\n",
       "      <th>SubjectId</th>\n",
       "      <th>abdominalextensiondepthsitting</th>\n",
       "      <th>acromialheight</th>\n",
       "      <th>acromionradialelength</th>\n",
       "      <th>anklecircumference</th>\n",
       "      <th>axillaheight</th>\n",
       "      <th>balloffootcircumference</th>\n",
       "      <th>balloffootlength</th>\n",
       "      <th>biacromialbreadth</th>\n",
       "      <th>bicepscircumferenceflexed</th>\n",
       "      <th>...</th>\n",
       "      <th>Branch</th>\n",
       "      <th>PrimaryMOS</th>\n",
       "      <th>SubjectsBirthLocation</th>\n",
       "      <th>SubjectNumericRace</th>\n",
       "      <th>Ethnicity</th>\n",
       "      <th>DODRace</th>\n",
       "      <th>Age</th>\n",
       "      <th>Heightin</th>\n",
       "      <th>Weightlbs</th>\n",
       "      <th>WritingPreference</th>\n",
       "    </tr>\n",
       "  </thead>\n",
       "  <tbody>\n",
       "    <tr>\n",
       "      <th>0</th>\n",
       "      <td>10037</td>\n",
       "      <td>231</td>\n",
       "      <td>1282</td>\n",
       "      <td>301</td>\n",
       "      <td>204</td>\n",
       "      <td>1180</td>\n",
       "      <td>222</td>\n",
       "      <td>177</td>\n",
       "      <td>373</td>\n",
       "      <td>315</td>\n",
       "      <td>...</td>\n",
       "      <td>Combat Support</td>\n",
       "      <td>92Y</td>\n",
       "      <td>Germany</td>\n",
       "      <td>2</td>\n",
       "      <td>NaN</td>\n",
       "      <td>2</td>\n",
       "      <td>26</td>\n",
       "      <td>61</td>\n",
       "      <td>142</td>\n",
       "      <td>Right hand</td>\n",
       "    </tr>\n",
       "    <tr>\n",
       "      <th>1</th>\n",
       "      <td>10038</td>\n",
       "      <td>194</td>\n",
       "      <td>1379</td>\n",
       "      <td>320</td>\n",
       "      <td>207</td>\n",
       "      <td>1292</td>\n",
       "      <td>225</td>\n",
       "      <td>178</td>\n",
       "      <td>372</td>\n",
       "      <td>272</td>\n",
       "      <td>...</td>\n",
       "      <td>Combat Service Support</td>\n",
       "      <td>25U</td>\n",
       "      <td>California</td>\n",
       "      <td>3</td>\n",
       "      <td>Mexican</td>\n",
       "      <td>3</td>\n",
       "      <td>21</td>\n",
       "      <td>64</td>\n",
       "      <td>120</td>\n",
       "      <td>Right hand</td>\n",
       "    </tr>\n",
       "    <tr>\n",
       "      <th>2</th>\n",
       "      <td>10042</td>\n",
       "      <td>183</td>\n",
       "      <td>1369</td>\n",
       "      <td>329</td>\n",
       "      <td>233</td>\n",
       "      <td>1271</td>\n",
       "      <td>237</td>\n",
       "      <td>196</td>\n",
       "      <td>397</td>\n",
       "      <td>300</td>\n",
       "      <td>...</td>\n",
       "      <td>Combat Service Support</td>\n",
       "      <td>35D</td>\n",
       "      <td>Texas</td>\n",
       "      <td>1</td>\n",
       "      <td>NaN</td>\n",
       "      <td>1</td>\n",
       "      <td>23</td>\n",
       "      <td>68</td>\n",
       "      <td>147</td>\n",
       "      <td>Right hand</td>\n",
       "    </tr>\n",
       "    <tr>\n",
       "      <th>3</th>\n",
       "      <td>10043</td>\n",
       "      <td>261</td>\n",
       "      <td>1356</td>\n",
       "      <td>306</td>\n",
       "      <td>214</td>\n",
       "      <td>1250</td>\n",
       "      <td>240</td>\n",
       "      <td>188</td>\n",
       "      <td>384</td>\n",
       "      <td>364</td>\n",
       "      <td>...</td>\n",
       "      <td>Combat Service Support</td>\n",
       "      <td>25U</td>\n",
       "      <td>District of Columbia</td>\n",
       "      <td>8</td>\n",
       "      <td>Caribbean Islander</td>\n",
       "      <td>2</td>\n",
       "      <td>22</td>\n",
       "      <td>66</td>\n",
       "      <td>175</td>\n",
       "      <td>Right hand</td>\n",
       "    </tr>\n",
       "    <tr>\n",
       "      <th>4</th>\n",
       "      <td>10051</td>\n",
       "      <td>309</td>\n",
       "      <td>1303</td>\n",
       "      <td>308</td>\n",
       "      <td>214</td>\n",
       "      <td>1210</td>\n",
       "      <td>217</td>\n",
       "      <td>182</td>\n",
       "      <td>378</td>\n",
       "      <td>320</td>\n",
       "      <td>...</td>\n",
       "      <td>Combat Arms</td>\n",
       "      <td>42A</td>\n",
       "      <td>Texas</td>\n",
       "      <td>1</td>\n",
       "      <td>NaN</td>\n",
       "      <td>1</td>\n",
       "      <td>45</td>\n",
       "      <td>63</td>\n",
       "      <td>195</td>\n",
       "      <td>Right hand</td>\n",
       "    </tr>\n",
       "    <tr>\n",
       "      <th>5</th>\n",
       "      <td>10053</td>\n",
       "      <td>272</td>\n",
       "      <td>1428</td>\n",
       "      <td>326</td>\n",
       "      <td>228</td>\n",
       "      <td>1326</td>\n",
       "      <td>229</td>\n",
       "      <td>201</td>\n",
       "      <td>356</td>\n",
       "      <td>342</td>\n",
       "      <td>...</td>\n",
       "      <td>Combat Service Support</td>\n",
       "      <td>88M</td>\n",
       "      <td>Germany</td>\n",
       "      <td>2</td>\n",
       "      <td>NaN</td>\n",
       "      <td>2</td>\n",
       "      <td>44</td>\n",
       "      <td>67</td>\n",
       "      <td>180</td>\n",
       "      <td>Left hand</td>\n",
       "    </tr>\n",
       "    <tr>\n",
       "      <th>6</th>\n",
       "      <td>10061</td>\n",
       "      <td>261</td>\n",
       "      <td>1352</td>\n",
       "      <td>306</td>\n",
       "      <td>223</td>\n",
       "      <td>1246</td>\n",
       "      <td>232</td>\n",
       "      <td>172</td>\n",
       "      <td>358</td>\n",
       "      <td>320</td>\n",
       "      <td>...</td>\n",
       "      <td>Combat Service Support</td>\n",
       "      <td>35F</td>\n",
       "      <td>New Mexico</td>\n",
       "      <td>1</td>\n",
       "      <td>NaN</td>\n",
       "      <td>1</td>\n",
       "      <td>21</td>\n",
       "      <td>65</td>\n",
       "      <td>165</td>\n",
       "      <td>Right hand</td>\n",
       "    </tr>\n",
       "    <tr>\n",
       "      <th>7</th>\n",
       "      <td>10070</td>\n",
       "      <td>229</td>\n",
       "      <td>1383</td>\n",
       "      <td>327</td>\n",
       "      <td>205</td>\n",
       "      <td>1281</td>\n",
       "      <td>234</td>\n",
       "      <td>194</td>\n",
       "      <td>365</td>\n",
       "      <td>337</td>\n",
       "      <td>...</td>\n",
       "      <td>Combat Service Support</td>\n",
       "      <td>92Y</td>\n",
       "      <td>American Samoa</td>\n",
       "      <td>6</td>\n",
       "      <td>Polynesian Samoan</td>\n",
       "      <td>6</td>\n",
       "      <td>23</td>\n",
       "      <td>66</td>\n",
       "      <td>168</td>\n",
       "      <td>Right hand</td>\n",
       "    </tr>\n",
       "    <tr>\n",
       "      <th>8</th>\n",
       "      <td>10077</td>\n",
       "      <td>213</td>\n",
       "      <td>1237</td>\n",
       "      <td>308</td>\n",
       "      <td>193</td>\n",
       "      <td>1135</td>\n",
       "      <td>208</td>\n",
       "      <td>175</td>\n",
       "      <td>355</td>\n",
       "      <td>283</td>\n",
       "      <td>...</td>\n",
       "      <td>Combat Service Support</td>\n",
       "      <td>92F</td>\n",
       "      <td>Virginia</td>\n",
       "      <td>2</td>\n",
       "      <td>NaN</td>\n",
       "      <td>2</td>\n",
       "      <td>24</td>\n",
       "      <td>59</td>\n",
       "      <td>118</td>\n",
       "      <td>Left hand</td>\n",
       "    </tr>\n",
       "    <tr>\n",
       "      <th>9</th>\n",
       "      <td>10080</td>\n",
       "      <td>281</td>\n",
       "      <td>1301</td>\n",
       "      <td>278</td>\n",
       "      <td>208</td>\n",
       "      <td>1194</td>\n",
       "      <td>221</td>\n",
       "      <td>178</td>\n",
       "      <td>323</td>\n",
       "      <td>290</td>\n",
       "      <td>...</td>\n",
       "      <td>Combat Service Support</td>\n",
       "      <td>31B</td>\n",
       "      <td>South Korea</td>\n",
       "      <td>1</td>\n",
       "      <td>NaN</td>\n",
       "      <td>1</td>\n",
       "      <td>37</td>\n",
       "      <td>63</td>\n",
       "      <td>150</td>\n",
       "      <td>Right hand</td>\n",
       "    </tr>\n",
       "  </tbody>\n",
       "</table>\n",
       "<p>10 rows × 108 columns</p>\n",
       "</div>"
      ],
      "text/plain": [
       "   SubjectId  abdominalextensiondepthsitting  acromialheight  \\\n",
       "0      10037                             231            1282   \n",
       "1      10038                             194            1379   \n",
       "2      10042                             183            1369   \n",
       "3      10043                             261            1356   \n",
       "4      10051                             309            1303   \n",
       "5      10053                             272            1428   \n",
       "6      10061                             261            1352   \n",
       "7      10070                             229            1383   \n",
       "8      10077                             213            1237   \n",
       "9      10080                             281            1301   \n",
       "\n",
       "   acromionradialelength  anklecircumference  axillaheight  \\\n",
       "0                    301                 204          1180   \n",
       "1                    320                 207          1292   \n",
       "2                    329                 233          1271   \n",
       "3                    306                 214          1250   \n",
       "4                    308                 214          1210   \n",
       "5                    326                 228          1326   \n",
       "6                    306                 223          1246   \n",
       "7                    327                 205          1281   \n",
       "8                    308                 193          1135   \n",
       "9                    278                 208          1194   \n",
       "\n",
       "   balloffootcircumference  balloffootlength  biacromialbreadth  \\\n",
       "0                      222               177                373   \n",
       "1                      225               178                372   \n",
       "2                      237               196                397   \n",
       "3                      240               188                384   \n",
       "4                      217               182                378   \n",
       "5                      229               201                356   \n",
       "6                      232               172                358   \n",
       "7                      234               194                365   \n",
       "8                      208               175                355   \n",
       "9                      221               178                323   \n",
       "\n",
       "   bicepscircumferenceflexed  ...                  Branch  PrimaryMOS  \\\n",
       "0                        315  ...          Combat Support         92Y   \n",
       "1                        272  ...  Combat Service Support         25U   \n",
       "2                        300  ...  Combat Service Support         35D   \n",
       "3                        364  ...  Combat Service Support         25U   \n",
       "4                        320  ...             Combat Arms         42A   \n",
       "5                        342  ...  Combat Service Support         88M   \n",
       "6                        320  ...  Combat Service Support         35F   \n",
       "7                        337  ...  Combat Service Support         92Y   \n",
       "8                        283  ...  Combat Service Support         92F   \n",
       "9                        290  ...  Combat Service Support         31B   \n",
       "\n",
       "   SubjectsBirthLocation  SubjectNumericRace           Ethnicity  DODRace  \\\n",
       "0                Germany                   2                 NaN        2   \n",
       "1             California                   3             Mexican        3   \n",
       "2                  Texas                   1                 NaN        1   \n",
       "3   District of Columbia                   8  Caribbean Islander        2   \n",
       "4                  Texas                   1                 NaN        1   \n",
       "5                Germany                   2                 NaN        2   \n",
       "6             New Mexico                   1                 NaN        1   \n",
       "7         American Samoa                   6   Polynesian Samoan        6   \n",
       "8               Virginia                   2                 NaN        2   \n",
       "9            South Korea                   1                 NaN        1   \n",
       "\n",
       "   Age  Heightin  Weightlbs  WritingPreference  \n",
       "0   26        61        142         Right hand  \n",
       "1   21        64        120         Right hand  \n",
       "2   23        68        147         Right hand  \n",
       "3   22        66        175         Right hand  \n",
       "4   45        63        195         Right hand  \n",
       "5   44        67        180          Left hand  \n",
       "6   21        65        165         Right hand  \n",
       "7   23        66        168         Right hand  \n",
       "8   24        59        118          Left hand  \n",
       "9   37        63        150         Right hand  \n",
       "\n",
       "[10 rows x 108 columns]"
      ]
     },
     "execution_count": 3,
     "metadata": {},
     "output_type": "execute_result"
    }
   ],
   "source": [
    "df_f.head(10)"
   ]
  },
  {
   "cell_type": "code",
   "execution_count": 4,
   "metadata": {},
   "outputs": [
    {
     "data": {
      "text/html": [
       "<div>\n",
       "<style scoped>\n",
       "    .dataframe tbody tr th:only-of-type {\n",
       "        vertical-align: middle;\n",
       "    }\n",
       "\n",
       "    .dataframe tbody tr th {\n",
       "        vertical-align: top;\n",
       "    }\n",
       "\n",
       "    .dataframe thead th {\n",
       "        text-align: right;\n",
       "    }\n",
       "</style>\n",
       "<table border=\"1\" class=\"dataframe\">\n",
       "  <thead>\n",
       "    <tr style=\"text-align: right;\">\n",
       "      <th></th>\n",
       "      <th>SubjectId</th>\n",
       "      <th>abdominalextensiondepthsitting</th>\n",
       "      <th>acromialheight</th>\n",
       "      <th>acromionradialelength</th>\n",
       "      <th>anklecircumference</th>\n",
       "      <th>axillaheight</th>\n",
       "      <th>balloffootcircumference</th>\n",
       "      <th>balloffootlength</th>\n",
       "      <th>biacromialbreadth</th>\n",
       "      <th>bicepscircumferenceflexed</th>\n",
       "      <th>...</th>\n",
       "      <th>Branch</th>\n",
       "      <th>PrimaryMOS</th>\n",
       "      <th>SubjectsBirthLocation</th>\n",
       "      <th>SubjectNumericRace</th>\n",
       "      <th>Ethnicity</th>\n",
       "      <th>DODRace</th>\n",
       "      <th>Age</th>\n",
       "      <th>Heightin</th>\n",
       "      <th>Weightlbs</th>\n",
       "      <th>WritingPreference</th>\n",
       "    </tr>\n",
       "  </thead>\n",
       "  <tbody>\n",
       "    <tr>\n",
       "      <th>1976</th>\n",
       "      <td>29494</td>\n",
       "      <td>251</td>\n",
       "      <td>1303</td>\n",
       "      <td>314</td>\n",
       "      <td>204</td>\n",
       "      <td>1193</td>\n",
       "      <td>227</td>\n",
       "      <td>173</td>\n",
       "      <td>357</td>\n",
       "      <td>294</td>\n",
       "      <td>...</td>\n",
       "      <td>Combat Service Support</td>\n",
       "      <td>35D</td>\n",
       "      <td>California</td>\n",
       "      <td>3</td>\n",
       "      <td>Mexican</td>\n",
       "      <td>3</td>\n",
       "      <td>41</td>\n",
       "      <td>62</td>\n",
       "      <td>141</td>\n",
       "      <td>Right hand</td>\n",
       "    </tr>\n",
       "    <tr>\n",
       "      <th>1977</th>\n",
       "      <td>29495</td>\n",
       "      <td>236</td>\n",
       "      <td>1298</td>\n",
       "      <td>280</td>\n",
       "      <td>211</td>\n",
       "      <td>1194</td>\n",
       "      <td>222</td>\n",
       "      <td>172</td>\n",
       "      <td>360</td>\n",
       "      <td>336</td>\n",
       "      <td>...</td>\n",
       "      <td>Combat Support</td>\n",
       "      <td>56M</td>\n",
       "      <td>Texas</td>\n",
       "      <td>1</td>\n",
       "      <td>NaN</td>\n",
       "      <td>1</td>\n",
       "      <td>30</td>\n",
       "      <td>64</td>\n",
       "      <td>140</td>\n",
       "      <td>Right hand</td>\n",
       "    </tr>\n",
       "    <tr>\n",
       "      <th>1978</th>\n",
       "      <td>29496</td>\n",
       "      <td>196</td>\n",
       "      <td>1250</td>\n",
       "      <td>285</td>\n",
       "      <td>177</td>\n",
       "      <td>1169</td>\n",
       "      <td>206</td>\n",
       "      <td>163</td>\n",
       "      <td>343</td>\n",
       "      <td>263</td>\n",
       "      <td>...</td>\n",
       "      <td>Combat Service Support</td>\n",
       "      <td>92Y</td>\n",
       "      <td>Indiana</td>\n",
       "      <td>1</td>\n",
       "      <td>NaN</td>\n",
       "      <td>1</td>\n",
       "      <td>30</td>\n",
       "      <td>61</td>\n",
       "      <td>105</td>\n",
       "      <td>Right hand</td>\n",
       "    </tr>\n",
       "    <tr>\n",
       "      <th>1979</th>\n",
       "      <td>29497</td>\n",
       "      <td>201</td>\n",
       "      <td>1297</td>\n",
       "      <td>310</td>\n",
       "      <td>213</td>\n",
       "      <td>1203</td>\n",
       "      <td>204</td>\n",
       "      <td>181</td>\n",
       "      <td>360</td>\n",
       "      <td>268</td>\n",
       "      <td>...</td>\n",
       "      <td>Combat Support</td>\n",
       "      <td>90A</td>\n",
       "      <td>New York</td>\n",
       "      <td>1</td>\n",
       "      <td>NaN</td>\n",
       "      <td>1</td>\n",
       "      <td>32</td>\n",
       "      <td>63</td>\n",
       "      <td>124</td>\n",
       "      <td>Left hand</td>\n",
       "    </tr>\n",
       "    <tr>\n",
       "      <th>1980</th>\n",
       "      <td>29498</td>\n",
       "      <td>238</td>\n",
       "      <td>1414</td>\n",
       "      <td>336</td>\n",
       "      <td>207</td>\n",
       "      <td>1304</td>\n",
       "      <td>218</td>\n",
       "      <td>183</td>\n",
       "      <td>385</td>\n",
       "      <td>305</td>\n",
       "      <td>...</td>\n",
       "      <td>Combat Service Support</td>\n",
       "      <td>35D</td>\n",
       "      <td>Texas</td>\n",
       "      <td>3</td>\n",
       "      <td>Mexican</td>\n",
       "      <td>3</td>\n",
       "      <td>25</td>\n",
       "      <td>68</td>\n",
       "      <td>166</td>\n",
       "      <td>Right hand</td>\n",
       "    </tr>\n",
       "    <tr>\n",
       "      <th>1981</th>\n",
       "      <td>29501</td>\n",
       "      <td>285</td>\n",
       "      <td>1392</td>\n",
       "      <td>335</td>\n",
       "      <td>223</td>\n",
       "      <td>1297</td>\n",
       "      <td>252</td>\n",
       "      <td>196</td>\n",
       "      <td>368</td>\n",
       "      <td>299</td>\n",
       "      <td>...</td>\n",
       "      <td>Combat Support</td>\n",
       "      <td>42A</td>\n",
       "      <td>Texas</td>\n",
       "      <td>3</td>\n",
       "      <td>Mexican</td>\n",
       "      <td>3</td>\n",
       "      <td>51</td>\n",
       "      <td>67</td>\n",
       "      <td>180</td>\n",
       "      <td>Right hand</td>\n",
       "    </tr>\n",
       "    <tr>\n",
       "      <th>1982</th>\n",
       "      <td>29502</td>\n",
       "      <td>262</td>\n",
       "      <td>1324</td>\n",
       "      <td>301</td>\n",
       "      <td>202</td>\n",
       "      <td>1204</td>\n",
       "      <td>236</td>\n",
       "      <td>181</td>\n",
       "      <td>378</td>\n",
       "      <td>294</td>\n",
       "      <td>...</td>\n",
       "      <td>Combat Support</td>\n",
       "      <td>25U</td>\n",
       "      <td>Texas</td>\n",
       "      <td>3</td>\n",
       "      <td>Mexican</td>\n",
       "      <td>3</td>\n",
       "      <td>40</td>\n",
       "      <td>63</td>\n",
       "      <td>150</td>\n",
       "      <td>Right hand</td>\n",
       "    </tr>\n",
       "    <tr>\n",
       "      <th>1983</th>\n",
       "      <td>29503</td>\n",
       "      <td>260</td>\n",
       "      <td>1334</td>\n",
       "      <td>318</td>\n",
       "      <td>213</td>\n",
       "      <td>1259</td>\n",
       "      <td>234</td>\n",
       "      <td>183</td>\n",
       "      <td>363</td>\n",
       "      <td>332</td>\n",
       "      <td>...</td>\n",
       "      <td>Combat Support</td>\n",
       "      <td>42A</td>\n",
       "      <td>Texas</td>\n",
       "      <td>2</td>\n",
       "      <td>NaN</td>\n",
       "      <td>2</td>\n",
       "      <td>40</td>\n",
       "      <td>66</td>\n",
       "      <td>168</td>\n",
       "      <td>Right hand</td>\n",
       "    </tr>\n",
       "    <tr>\n",
       "      <th>1984</th>\n",
       "      <td>29511</td>\n",
       "      <td>205</td>\n",
       "      <td>1293</td>\n",
       "      <td>302</td>\n",
       "      <td>199</td>\n",
       "      <td>1207</td>\n",
       "      <td>213</td>\n",
       "      <td>163</td>\n",
       "      <td>376</td>\n",
       "      <td>276</td>\n",
       "      <td>...</td>\n",
       "      <td>Combat Support</td>\n",
       "      <td>92Y</td>\n",
       "      <td>Texas</td>\n",
       "      <td>3</td>\n",
       "      <td>Mexican</td>\n",
       "      <td>3</td>\n",
       "      <td>31</td>\n",
       "      <td>63</td>\n",
       "      <td>133</td>\n",
       "      <td>Right hand</td>\n",
       "    </tr>\n",
       "    <tr>\n",
       "      <th>1985</th>\n",
       "      <td>920103</td>\n",
       "      <td>238</td>\n",
       "      <td>1346</td>\n",
       "      <td>308</td>\n",
       "      <td>210</td>\n",
       "      <td>1256</td>\n",
       "      <td>236</td>\n",
       "      <td>188</td>\n",
       "      <td>361</td>\n",
       "      <td>285</td>\n",
       "      <td>...</td>\n",
       "      <td>Combat Support</td>\n",
       "      <td>92F</td>\n",
       "      <td>Texas</td>\n",
       "      <td>3</td>\n",
       "      <td>Mexican</td>\n",
       "      <td>3</td>\n",
       "      <td>27</td>\n",
       "      <td>66</td>\n",
       "      <td>132</td>\n",
       "      <td>Right hand</td>\n",
       "    </tr>\n",
       "  </tbody>\n",
       "</table>\n",
       "<p>10 rows × 108 columns</p>\n",
       "</div>"
      ],
      "text/plain": [
       "      SubjectId  abdominalextensiondepthsitting  acromialheight  \\\n",
       "1976      29494                             251            1303   \n",
       "1977      29495                             236            1298   \n",
       "1978      29496                             196            1250   \n",
       "1979      29497                             201            1297   \n",
       "1980      29498                             238            1414   \n",
       "1981      29501                             285            1392   \n",
       "1982      29502                             262            1324   \n",
       "1983      29503                             260            1334   \n",
       "1984      29511                             205            1293   \n",
       "1985     920103                             238            1346   \n",
       "\n",
       "      acromionradialelength  anklecircumference  axillaheight  \\\n",
       "1976                    314                 204          1193   \n",
       "1977                    280                 211          1194   \n",
       "1978                    285                 177          1169   \n",
       "1979                    310                 213          1203   \n",
       "1980                    336                 207          1304   \n",
       "1981                    335                 223          1297   \n",
       "1982                    301                 202          1204   \n",
       "1983                    318                 213          1259   \n",
       "1984                    302                 199          1207   \n",
       "1985                    308                 210          1256   \n",
       "\n",
       "      balloffootcircumference  balloffootlength  biacromialbreadth  \\\n",
       "1976                      227               173                357   \n",
       "1977                      222               172                360   \n",
       "1978                      206               163                343   \n",
       "1979                      204               181                360   \n",
       "1980                      218               183                385   \n",
       "1981                      252               196                368   \n",
       "1982                      236               181                378   \n",
       "1983                      234               183                363   \n",
       "1984                      213               163                376   \n",
       "1985                      236               188                361   \n",
       "\n",
       "      bicepscircumferenceflexed  ...                  Branch  PrimaryMOS  \\\n",
       "1976                        294  ...  Combat Service Support         35D   \n",
       "1977                        336  ...          Combat Support         56M   \n",
       "1978                        263  ...  Combat Service Support         92Y   \n",
       "1979                        268  ...          Combat Support         90A   \n",
       "1980                        305  ...  Combat Service Support         35D   \n",
       "1981                        299  ...          Combat Support         42A   \n",
       "1982                        294  ...          Combat Support         25U   \n",
       "1983                        332  ...          Combat Support         42A   \n",
       "1984                        276  ...          Combat Support         92Y   \n",
       "1985                        285  ...          Combat Support         92F   \n",
       "\n",
       "      SubjectsBirthLocation  SubjectNumericRace  Ethnicity  DODRace  Age  \\\n",
       "1976             California                   3    Mexican        3   41   \n",
       "1977                  Texas                   1        NaN        1   30   \n",
       "1978                Indiana                   1        NaN        1   30   \n",
       "1979               New York                   1        NaN        1   32   \n",
       "1980                  Texas                   3    Mexican        3   25   \n",
       "1981                  Texas                   3    Mexican        3   51   \n",
       "1982                  Texas                   3    Mexican        3   40   \n",
       "1983                  Texas                   2        NaN        2   40   \n",
       "1984                  Texas                   3    Mexican        3   31   \n",
       "1985                  Texas                   3    Mexican        3   27   \n",
       "\n",
       "      Heightin  Weightlbs  WritingPreference  \n",
       "1976        62        141         Right hand  \n",
       "1977        64        140         Right hand  \n",
       "1978        61        105         Right hand  \n",
       "1979        63        124          Left hand  \n",
       "1980        68        166         Right hand  \n",
       "1981        67        180         Right hand  \n",
       "1982        63        150         Right hand  \n",
       "1983        66        168         Right hand  \n",
       "1984        63        133         Right hand  \n",
       "1985        66        132         Right hand  \n",
       "\n",
       "[10 rows x 108 columns]"
      ]
     },
     "execution_count": 4,
     "metadata": {},
     "output_type": "execute_result"
    }
   ],
   "source": [
    "df_f.tail(10)"
   ]
  },
  {
   "cell_type": "code",
   "execution_count": 5,
   "metadata": {},
   "outputs": [],
   "source": [
    "df_m = pd.read_csv(\"ANSUR II MALE Public.csv\", encoding=\"latin-1\") \n",
    "# 'utf-8' codec can't decode"
   ]
  },
  {
   "cell_type": "code",
   "execution_count": 6,
   "metadata": {},
   "outputs": [
    {
     "data": {
      "text/html": [
       "<div>\n",
       "<style scoped>\n",
       "    .dataframe tbody tr th:only-of-type {\n",
       "        vertical-align: middle;\n",
       "    }\n",
       "\n",
       "    .dataframe tbody tr th {\n",
       "        vertical-align: top;\n",
       "    }\n",
       "\n",
       "    .dataframe thead th {\n",
       "        text-align: right;\n",
       "    }\n",
       "</style>\n",
       "<table border=\"1\" class=\"dataframe\">\n",
       "  <thead>\n",
       "    <tr style=\"text-align: right;\">\n",
       "      <th></th>\n",
       "      <th>subjectid</th>\n",
       "      <th>abdominalextensiondepthsitting</th>\n",
       "      <th>acromialheight</th>\n",
       "      <th>acromionradialelength</th>\n",
       "      <th>anklecircumference</th>\n",
       "      <th>axillaheight</th>\n",
       "      <th>balloffootcircumference</th>\n",
       "      <th>balloffootlength</th>\n",
       "      <th>biacromialbreadth</th>\n",
       "      <th>bicepscircumferenceflexed</th>\n",
       "      <th>...</th>\n",
       "      <th>Branch</th>\n",
       "      <th>PrimaryMOS</th>\n",
       "      <th>SubjectsBirthLocation</th>\n",
       "      <th>SubjectNumericRace</th>\n",
       "      <th>Ethnicity</th>\n",
       "      <th>DODRace</th>\n",
       "      <th>Age</th>\n",
       "      <th>Heightin</th>\n",
       "      <th>Weightlbs</th>\n",
       "      <th>WritingPreference</th>\n",
       "    </tr>\n",
       "  </thead>\n",
       "  <tbody>\n",
       "    <tr>\n",
       "      <th>0</th>\n",
       "      <td>10027</td>\n",
       "      <td>266</td>\n",
       "      <td>1467</td>\n",
       "      <td>337</td>\n",
       "      <td>222</td>\n",
       "      <td>1347</td>\n",
       "      <td>253</td>\n",
       "      <td>202</td>\n",
       "      <td>401</td>\n",
       "      <td>369</td>\n",
       "      <td>...</td>\n",
       "      <td>Combat Arms</td>\n",
       "      <td>19D</td>\n",
       "      <td>North Dakota</td>\n",
       "      <td>1</td>\n",
       "      <td>NaN</td>\n",
       "      <td>1</td>\n",
       "      <td>41</td>\n",
       "      <td>71</td>\n",
       "      <td>180</td>\n",
       "      <td>Right hand</td>\n",
       "    </tr>\n",
       "    <tr>\n",
       "      <th>1</th>\n",
       "      <td>10032</td>\n",
       "      <td>233</td>\n",
       "      <td>1395</td>\n",
       "      <td>326</td>\n",
       "      <td>220</td>\n",
       "      <td>1293</td>\n",
       "      <td>245</td>\n",
       "      <td>193</td>\n",
       "      <td>394</td>\n",
       "      <td>338</td>\n",
       "      <td>...</td>\n",
       "      <td>Combat Support</td>\n",
       "      <td>68W</td>\n",
       "      <td>New York</td>\n",
       "      <td>1</td>\n",
       "      <td>NaN</td>\n",
       "      <td>1</td>\n",
       "      <td>35</td>\n",
       "      <td>68</td>\n",
       "      <td>160</td>\n",
       "      <td>Left hand</td>\n",
       "    </tr>\n",
       "    <tr>\n",
       "      <th>2</th>\n",
       "      <td>10033</td>\n",
       "      <td>287</td>\n",
       "      <td>1430</td>\n",
       "      <td>341</td>\n",
       "      <td>230</td>\n",
       "      <td>1327</td>\n",
       "      <td>256</td>\n",
       "      <td>196</td>\n",
       "      <td>427</td>\n",
       "      <td>408</td>\n",
       "      <td>...</td>\n",
       "      <td>Combat Support</td>\n",
       "      <td>68W</td>\n",
       "      <td>New York</td>\n",
       "      <td>2</td>\n",
       "      <td>NaN</td>\n",
       "      <td>2</td>\n",
       "      <td>42</td>\n",
       "      <td>68</td>\n",
       "      <td>205</td>\n",
       "      <td>Left hand</td>\n",
       "    </tr>\n",
       "    <tr>\n",
       "      <th>3</th>\n",
       "      <td>10092</td>\n",
       "      <td>234</td>\n",
       "      <td>1347</td>\n",
       "      <td>310</td>\n",
       "      <td>230</td>\n",
       "      <td>1239</td>\n",
       "      <td>262</td>\n",
       "      <td>199</td>\n",
       "      <td>401</td>\n",
       "      <td>359</td>\n",
       "      <td>...</td>\n",
       "      <td>Combat Service Support</td>\n",
       "      <td>88M</td>\n",
       "      <td>Wisconsin</td>\n",
       "      <td>1</td>\n",
       "      <td>NaN</td>\n",
       "      <td>1</td>\n",
       "      <td>31</td>\n",
       "      <td>66</td>\n",
       "      <td>175</td>\n",
       "      <td>Right hand</td>\n",
       "    </tr>\n",
       "    <tr>\n",
       "      <th>4</th>\n",
       "      <td>10093</td>\n",
       "      <td>250</td>\n",
       "      <td>1585</td>\n",
       "      <td>372</td>\n",
       "      <td>247</td>\n",
       "      <td>1478</td>\n",
       "      <td>267</td>\n",
       "      <td>224</td>\n",
       "      <td>435</td>\n",
       "      <td>356</td>\n",
       "      <td>...</td>\n",
       "      <td>Combat Service Support</td>\n",
       "      <td>92G</td>\n",
       "      <td>North Carolina</td>\n",
       "      <td>2</td>\n",
       "      <td>NaN</td>\n",
       "      <td>2</td>\n",
       "      <td>21</td>\n",
       "      <td>77</td>\n",
       "      <td>213</td>\n",
       "      <td>Right hand</td>\n",
       "    </tr>\n",
       "    <tr>\n",
       "      <th>5</th>\n",
       "      <td>10115</td>\n",
       "      <td>263</td>\n",
       "      <td>1407</td>\n",
       "      <td>344</td>\n",
       "      <td>216</td>\n",
       "      <td>1293</td>\n",
       "      <td>228</td>\n",
       "      <td>184</td>\n",
       "      <td>404</td>\n",
       "      <td>340</td>\n",
       "      <td>...</td>\n",
       "      <td>Combat Service Support</td>\n",
       "      <td>91L</td>\n",
       "      <td>Kentucky</td>\n",
       "      <td>1</td>\n",
       "      <td>NaN</td>\n",
       "      <td>1</td>\n",
       "      <td>39</td>\n",
       "      <td>69</td>\n",
       "      <td>175</td>\n",
       "      <td>Right hand</td>\n",
       "    </tr>\n",
       "    <tr>\n",
       "      <th>6</th>\n",
       "      <td>10117</td>\n",
       "      <td>314</td>\n",
       "      <td>1476</td>\n",
       "      <td>343</td>\n",
       "      <td>257</td>\n",
       "      <td>1378</td>\n",
       "      <td>280</td>\n",
       "      <td>207</td>\n",
       "      <td>453</td>\n",
       "      <td>452</td>\n",
       "      <td>...</td>\n",
       "      <td>Combat Service Support</td>\n",
       "      <td>91D</td>\n",
       "      <td>Mississippi</td>\n",
       "      <td>2</td>\n",
       "      <td>NaN</td>\n",
       "      <td>2</td>\n",
       "      <td>32</td>\n",
       "      <td>72</td>\n",
       "      <td>250</td>\n",
       "      <td>Right hand</td>\n",
       "    </tr>\n",
       "    <tr>\n",
       "      <th>7</th>\n",
       "      <td>10237</td>\n",
       "      <td>304</td>\n",
       "      <td>1529</td>\n",
       "      <td>360</td>\n",
       "      <td>254</td>\n",
       "      <td>1402</td>\n",
       "      <td>247</td>\n",
       "      <td>206</td>\n",
       "      <td>425</td>\n",
       "      <td>332</td>\n",
       "      <td>...</td>\n",
       "      <td>Combat Service Support</td>\n",
       "      <td>88M</td>\n",
       "      <td>Romania</td>\n",
       "      <td>1</td>\n",
       "      <td>NaN</td>\n",
       "      <td>1</td>\n",
       "      <td>23</td>\n",
       "      <td>74</td>\n",
       "      <td>211</td>\n",
       "      <td>Right hand</td>\n",
       "    </tr>\n",
       "    <tr>\n",
       "      <th>8</th>\n",
       "      <td>10242</td>\n",
       "      <td>321</td>\n",
       "      <td>1457</td>\n",
       "      <td>339</td>\n",
       "      <td>230</td>\n",
       "      <td>1345</td>\n",
       "      <td>257</td>\n",
       "      <td>198</td>\n",
       "      <td>415</td>\n",
       "      <td>379</td>\n",
       "      <td>...</td>\n",
       "      <td>Combat Service Support</td>\n",
       "      <td>92F</td>\n",
       "      <td>Arkansas</td>\n",
       "      <td>1</td>\n",
       "      <td>NaN</td>\n",
       "      <td>1</td>\n",
       "      <td>36</td>\n",
       "      <td>70</td>\n",
       "      <td>220</td>\n",
       "      <td>Right hand</td>\n",
       "    </tr>\n",
       "    <tr>\n",
       "      <th>9</th>\n",
       "      <td>10244</td>\n",
       "      <td>227</td>\n",
       "      <td>1481</td>\n",
       "      <td>345</td>\n",
       "      <td>233</td>\n",
       "      <td>1372</td>\n",
       "      <td>264</td>\n",
       "      <td>204</td>\n",
       "      <td>406</td>\n",
       "      <td>325</td>\n",
       "      <td>...</td>\n",
       "      <td>Combat Support</td>\n",
       "      <td>25L</td>\n",
       "      <td>Maryland</td>\n",
       "      <td>1</td>\n",
       "      <td>NaN</td>\n",
       "      <td>1</td>\n",
       "      <td>23</td>\n",
       "      <td>72</td>\n",
       "      <td>160</td>\n",
       "      <td>Left hand</td>\n",
       "    </tr>\n",
       "  </tbody>\n",
       "</table>\n",
       "<p>10 rows × 108 columns</p>\n",
       "</div>"
      ],
      "text/plain": [
       "   subjectid  abdominalextensiondepthsitting  acromialheight  \\\n",
       "0      10027                             266            1467   \n",
       "1      10032                             233            1395   \n",
       "2      10033                             287            1430   \n",
       "3      10092                             234            1347   \n",
       "4      10093                             250            1585   \n",
       "5      10115                             263            1407   \n",
       "6      10117                             314            1476   \n",
       "7      10237                             304            1529   \n",
       "8      10242                             321            1457   \n",
       "9      10244                             227            1481   \n",
       "\n",
       "   acromionradialelength  anklecircumference  axillaheight  \\\n",
       "0                    337                 222          1347   \n",
       "1                    326                 220          1293   \n",
       "2                    341                 230          1327   \n",
       "3                    310                 230          1239   \n",
       "4                    372                 247          1478   \n",
       "5                    344                 216          1293   \n",
       "6                    343                 257          1378   \n",
       "7                    360                 254          1402   \n",
       "8                    339                 230          1345   \n",
       "9                    345                 233          1372   \n",
       "\n",
       "   balloffootcircumference  balloffootlength  biacromialbreadth  \\\n",
       "0                      253               202                401   \n",
       "1                      245               193                394   \n",
       "2                      256               196                427   \n",
       "3                      262               199                401   \n",
       "4                      267               224                435   \n",
       "5                      228               184                404   \n",
       "6                      280               207                453   \n",
       "7                      247               206                425   \n",
       "8                      257               198                415   \n",
       "9                      264               204                406   \n",
       "\n",
       "   bicepscircumferenceflexed  ...                  Branch  PrimaryMOS  \\\n",
       "0                        369  ...             Combat Arms         19D   \n",
       "1                        338  ...          Combat Support         68W   \n",
       "2                        408  ...          Combat Support         68W   \n",
       "3                        359  ...  Combat Service Support         88M   \n",
       "4                        356  ...  Combat Service Support         92G   \n",
       "5                        340  ...  Combat Service Support         91L   \n",
       "6                        452  ...  Combat Service Support         91D   \n",
       "7                        332  ...  Combat Service Support         88M   \n",
       "8                        379  ...  Combat Service Support         92F   \n",
       "9                        325  ...          Combat Support         25L   \n",
       "\n",
       "   SubjectsBirthLocation  SubjectNumericRace  Ethnicity  DODRace  Age  \\\n",
       "0           North Dakota                   1        NaN        1   41   \n",
       "1               New York                   1        NaN        1   35   \n",
       "2               New York                   2        NaN        2   42   \n",
       "3              Wisconsin                   1        NaN        1   31   \n",
       "4         North Carolina                   2        NaN        2   21   \n",
       "5               Kentucky                   1        NaN        1   39   \n",
       "6            Mississippi                   2        NaN        2   32   \n",
       "7                Romania                   1        NaN        1   23   \n",
       "8               Arkansas                   1        NaN        1   36   \n",
       "9               Maryland                   1        NaN        1   23   \n",
       "\n",
       "   Heightin  Weightlbs  WritingPreference  \n",
       "0        71        180         Right hand  \n",
       "1        68        160          Left hand  \n",
       "2        68        205          Left hand  \n",
       "3        66        175         Right hand  \n",
       "4        77        213         Right hand  \n",
       "5        69        175         Right hand  \n",
       "6        72        250         Right hand  \n",
       "7        74        211         Right hand  \n",
       "8        70        220         Right hand  \n",
       "9        72        160          Left hand  \n",
       "\n",
       "[10 rows x 108 columns]"
      ]
     },
     "execution_count": 6,
     "metadata": {},
     "output_type": "execute_result"
    }
   ],
   "source": [
    "df_m.head(10)"
   ]
  },
  {
   "cell_type": "code",
   "execution_count": 7,
   "metadata": {},
   "outputs": [
    {
     "data": {
      "text/html": [
       "<div>\n",
       "<style scoped>\n",
       "    .dataframe tbody tr th:only-of-type {\n",
       "        vertical-align: middle;\n",
       "    }\n",
       "\n",
       "    .dataframe tbody tr th {\n",
       "        vertical-align: top;\n",
       "    }\n",
       "\n",
       "    .dataframe thead th {\n",
       "        text-align: right;\n",
       "    }\n",
       "</style>\n",
       "<table border=\"1\" class=\"dataframe\">\n",
       "  <thead>\n",
       "    <tr style=\"text-align: right;\">\n",
       "      <th></th>\n",
       "      <th>subjectid</th>\n",
       "      <th>abdominalextensiondepthsitting</th>\n",
       "      <th>acromialheight</th>\n",
       "      <th>acromionradialelength</th>\n",
       "      <th>anklecircumference</th>\n",
       "      <th>axillaheight</th>\n",
       "      <th>balloffootcircumference</th>\n",
       "      <th>balloffootlength</th>\n",
       "      <th>biacromialbreadth</th>\n",
       "      <th>bicepscircumferenceflexed</th>\n",
       "      <th>...</th>\n",
       "      <th>Branch</th>\n",
       "      <th>PrimaryMOS</th>\n",
       "      <th>SubjectsBirthLocation</th>\n",
       "      <th>SubjectNumericRace</th>\n",
       "      <th>Ethnicity</th>\n",
       "      <th>DODRace</th>\n",
       "      <th>Age</th>\n",
       "      <th>Heightin</th>\n",
       "      <th>Weightlbs</th>\n",
       "      <th>WritingPreference</th>\n",
       "    </tr>\n",
       "  </thead>\n",
       "  <tbody>\n",
       "    <tr>\n",
       "      <th>4072</th>\n",
       "      <td>29434</td>\n",
       "      <td>210</td>\n",
       "      <td>1377</td>\n",
       "      <td>342</td>\n",
       "      <td>226</td>\n",
       "      <td>1283</td>\n",
       "      <td>254</td>\n",
       "      <td>200</td>\n",
       "      <td>398</td>\n",
       "      <td>345</td>\n",
       "      <td>...</td>\n",
       "      <td>Combat Arms</td>\n",
       "      <td>11B</td>\n",
       "      <td>New York</td>\n",
       "      <td>1</td>\n",
       "      <td>NaN</td>\n",
       "      <td>1</td>\n",
       "      <td>22</td>\n",
       "      <td>67</td>\n",
       "      <td>160</td>\n",
       "      <td>Right hand</td>\n",
       "    </tr>\n",
       "    <tr>\n",
       "      <th>4073</th>\n",
       "      <td>29437</td>\n",
       "      <td>224</td>\n",
       "      <td>1386</td>\n",
       "      <td>331</td>\n",
       "      <td>233</td>\n",
       "      <td>1265</td>\n",
       "      <td>245</td>\n",
       "      <td>195</td>\n",
       "      <td>401</td>\n",
       "      <td>426</td>\n",
       "      <td>...</td>\n",
       "      <td>Combat Arms</td>\n",
       "      <td>11B</td>\n",
       "      <td>Texas</td>\n",
       "      <td>1</td>\n",
       "      <td>NaN</td>\n",
       "      <td>1</td>\n",
       "      <td>28</td>\n",
       "      <td>69</td>\n",
       "      <td>185</td>\n",
       "      <td>Right hand</td>\n",
       "    </tr>\n",
       "    <tr>\n",
       "      <th>4074</th>\n",
       "      <td>29439</td>\n",
       "      <td>208</td>\n",
       "      <td>1500</td>\n",
       "      <td>347</td>\n",
       "      <td>228</td>\n",
       "      <td>1398</td>\n",
       "      <td>265</td>\n",
       "      <td>217</td>\n",
       "      <td>424</td>\n",
       "      <td>312</td>\n",
       "      <td>...</td>\n",
       "      <td>Combat Support</td>\n",
       "      <td>68W</td>\n",
       "      <td>New York</td>\n",
       "      <td>1</td>\n",
       "      <td>NaN</td>\n",
       "      <td>1</td>\n",
       "      <td>25</td>\n",
       "      <td>74</td>\n",
       "      <td>170</td>\n",
       "      <td>Right hand</td>\n",
       "    </tr>\n",
       "    <tr>\n",
       "      <th>4075</th>\n",
       "      <td>29440</td>\n",
       "      <td>295</td>\n",
       "      <td>1434</td>\n",
       "      <td>321</td>\n",
       "      <td>217</td>\n",
       "      <td>1345</td>\n",
       "      <td>252</td>\n",
       "      <td>204</td>\n",
       "      <td>409</td>\n",
       "      <td>344</td>\n",
       "      <td>...</td>\n",
       "      <td>Combat Arms</td>\n",
       "      <td>13B</td>\n",
       "      <td>California</td>\n",
       "      <td>1</td>\n",
       "      <td>NaN</td>\n",
       "      <td>1</td>\n",
       "      <td>25</td>\n",
       "      <td>70</td>\n",
       "      <td>190</td>\n",
       "      <td>Right hand</td>\n",
       "    </tr>\n",
       "    <tr>\n",
       "      <th>4076</th>\n",
       "      <td>29441</td>\n",
       "      <td>240</td>\n",
       "      <td>1458</td>\n",
       "      <td>343</td>\n",
       "      <td>231</td>\n",
       "      <td>1344</td>\n",
       "      <td>243</td>\n",
       "      <td>205</td>\n",
       "      <td>394</td>\n",
       "      <td>342</td>\n",
       "      <td>...</td>\n",
       "      <td>Combat Arms</td>\n",
       "      <td>13R</td>\n",
       "      <td>California</td>\n",
       "      <td>1</td>\n",
       "      <td>NaN</td>\n",
       "      <td>1</td>\n",
       "      <td>21</td>\n",
       "      <td>73</td>\n",
       "      <td>197</td>\n",
       "      <td>Right hand</td>\n",
       "    </tr>\n",
       "    <tr>\n",
       "      <th>4077</th>\n",
       "      <td>29442</td>\n",
       "      <td>235</td>\n",
       "      <td>1353</td>\n",
       "      <td>312</td>\n",
       "      <td>216</td>\n",
       "      <td>1263</td>\n",
       "      <td>228</td>\n",
       "      <td>193</td>\n",
       "      <td>384</td>\n",
       "      <td>318</td>\n",
       "      <td>...</td>\n",
       "      <td>Combat Arms</td>\n",
       "      <td>11B</td>\n",
       "      <td>Colorado</td>\n",
       "      <td>51</td>\n",
       "      <td>Blackfoot Cherokee Choctaw</td>\n",
       "      <td>1</td>\n",
       "      <td>22</td>\n",
       "      <td>67</td>\n",
       "      <td>160</td>\n",
       "      <td>Right hand</td>\n",
       "    </tr>\n",
       "    <tr>\n",
       "      <th>4078</th>\n",
       "      <td>29443</td>\n",
       "      <td>247</td>\n",
       "      <td>1473</td>\n",
       "      <td>336</td>\n",
       "      <td>234</td>\n",
       "      <td>1346</td>\n",
       "      <td>253</td>\n",
       "      <td>196</td>\n",
       "      <td>428</td>\n",
       "      <td>374</td>\n",
       "      <td>...</td>\n",
       "      <td>Combat Arms</td>\n",
       "      <td>91B</td>\n",
       "      <td>Oklahoma</td>\n",
       "      <td>1</td>\n",
       "      <td>NaN</td>\n",
       "      <td>1</td>\n",
       "      <td>22</td>\n",
       "      <td>71</td>\n",
       "      <td>194</td>\n",
       "      <td>Right hand</td>\n",
       "    </tr>\n",
       "    <tr>\n",
       "      <th>4079</th>\n",
       "      <td>29447</td>\n",
       "      <td>264</td>\n",
       "      <td>1394</td>\n",
       "      <td>313</td>\n",
       "      <td>227</td>\n",
       "      <td>1280</td>\n",
       "      <td>245</td>\n",
       "      <td>193</td>\n",
       "      <td>407</td>\n",
       "      <td>367</td>\n",
       "      <td>...</td>\n",
       "      <td>Combat Arms</td>\n",
       "      <td>13B</td>\n",
       "      <td>Oklahoma</td>\n",
       "      <td>1</td>\n",
       "      <td>NaN</td>\n",
       "      <td>1</td>\n",
       "      <td>23</td>\n",
       "      <td>67</td>\n",
       "      <td>186</td>\n",
       "      <td>Right hand</td>\n",
       "    </tr>\n",
       "    <tr>\n",
       "      <th>4080</th>\n",
       "      <td>29451</td>\n",
       "      <td>203</td>\n",
       "      <td>1417</td>\n",
       "      <td>327</td>\n",
       "      <td>223</td>\n",
       "      <td>1314</td>\n",
       "      <td>250</td>\n",
       "      <td>196</td>\n",
       "      <td>419</td>\n",
       "      <td>365</td>\n",
       "      <td>...</td>\n",
       "      <td>Combat Arms</td>\n",
       "      <td>13P</td>\n",
       "      <td>Oklahoma</td>\n",
       "      <td>1</td>\n",
       "      <td>NaN</td>\n",
       "      <td>1</td>\n",
       "      <td>22</td>\n",
       "      <td>69</td>\n",
       "      <td>165</td>\n",
       "      <td>Right hand</td>\n",
       "    </tr>\n",
       "    <tr>\n",
       "      <th>4081</th>\n",
       "      <td>29452</td>\n",
       "      <td>327</td>\n",
       "      <td>1523</td>\n",
       "      <td>358</td>\n",
       "      <td>226</td>\n",
       "      <td>1408</td>\n",
       "      <td>269</td>\n",
       "      <td>225</td>\n",
       "      <td>442</td>\n",
       "      <td>379</td>\n",
       "      <td>...</td>\n",
       "      <td>Combat Arms</td>\n",
       "      <td>92Y</td>\n",
       "      <td>Oklahoma</td>\n",
       "      <td>1</td>\n",
       "      <td>NaN</td>\n",
       "      <td>1</td>\n",
       "      <td>38</td>\n",
       "      <td>73</td>\n",
       "      <td>218</td>\n",
       "      <td>Right hand</td>\n",
       "    </tr>\n",
       "  </tbody>\n",
       "</table>\n",
       "<p>10 rows × 108 columns</p>\n",
       "</div>"
      ],
      "text/plain": [
       "      subjectid  abdominalextensiondepthsitting  acromialheight  \\\n",
       "4072      29434                             210            1377   \n",
       "4073      29437                             224            1386   \n",
       "4074      29439                             208            1500   \n",
       "4075      29440                             295            1434   \n",
       "4076      29441                             240            1458   \n",
       "4077      29442                             235            1353   \n",
       "4078      29443                             247            1473   \n",
       "4079      29447                             264            1394   \n",
       "4080      29451                             203            1417   \n",
       "4081      29452                             327            1523   \n",
       "\n",
       "      acromionradialelength  anklecircumference  axillaheight  \\\n",
       "4072                    342                 226          1283   \n",
       "4073                    331                 233          1265   \n",
       "4074                    347                 228          1398   \n",
       "4075                    321                 217          1345   \n",
       "4076                    343                 231          1344   \n",
       "4077                    312                 216          1263   \n",
       "4078                    336                 234          1346   \n",
       "4079                    313                 227          1280   \n",
       "4080                    327                 223          1314   \n",
       "4081                    358                 226          1408   \n",
       "\n",
       "      balloffootcircumference  balloffootlength  biacromialbreadth  \\\n",
       "4072                      254               200                398   \n",
       "4073                      245               195                401   \n",
       "4074                      265               217                424   \n",
       "4075                      252               204                409   \n",
       "4076                      243               205                394   \n",
       "4077                      228               193                384   \n",
       "4078                      253               196                428   \n",
       "4079                      245               193                407   \n",
       "4080                      250               196                419   \n",
       "4081                      269               225                442   \n",
       "\n",
       "      bicepscircumferenceflexed  ...          Branch  PrimaryMOS  \\\n",
       "4072                        345  ...     Combat Arms         11B   \n",
       "4073                        426  ...     Combat Arms         11B   \n",
       "4074                        312  ...  Combat Support         68W   \n",
       "4075                        344  ...     Combat Arms         13B   \n",
       "4076                        342  ...     Combat Arms         13R   \n",
       "4077                        318  ...     Combat Arms         11B   \n",
       "4078                        374  ...     Combat Arms         91B   \n",
       "4079                        367  ...     Combat Arms         13B   \n",
       "4080                        365  ...     Combat Arms         13P   \n",
       "4081                        379  ...     Combat Arms         92Y   \n",
       "\n",
       "      SubjectsBirthLocation  SubjectNumericRace                   Ethnicity  \\\n",
       "4072               New York                   1                         NaN   \n",
       "4073                  Texas                   1                         NaN   \n",
       "4074               New York                   1                         NaN   \n",
       "4075             California                   1                         NaN   \n",
       "4076             California                   1                         NaN   \n",
       "4077               Colorado                  51  Blackfoot Cherokee Choctaw   \n",
       "4078               Oklahoma                   1                         NaN   \n",
       "4079               Oklahoma                   1                         NaN   \n",
       "4080               Oklahoma                   1                         NaN   \n",
       "4081               Oklahoma                   1                         NaN   \n",
       "\n",
       "      DODRace  Age  Heightin  Weightlbs  WritingPreference  \n",
       "4072        1   22        67        160         Right hand  \n",
       "4073        1   28        69        185         Right hand  \n",
       "4074        1   25        74        170         Right hand  \n",
       "4075        1   25        70        190         Right hand  \n",
       "4076        1   21        73        197         Right hand  \n",
       "4077        1   22        67        160         Right hand  \n",
       "4078        1   22        71        194         Right hand  \n",
       "4079        1   23        67        186         Right hand  \n",
       "4080        1   22        69        165         Right hand  \n",
       "4081        1   38        73        218         Right hand  \n",
       "\n",
       "[10 rows x 108 columns]"
      ]
     },
     "execution_count": 7,
     "metadata": {},
     "output_type": "execute_result"
    }
   ],
   "source": [
    "df_m.tail(10)"
   ]
  },
  {
   "cell_type": "markdown",
   "metadata": {
    "heading_collapsed": true,
    "hidden": true,
    "id": "TMjCTEG51b67"
   },
   "source": [
    "## Explore Data"
   ]
  },
  {
   "cell_type": "code",
   "execution_count": 8,
   "metadata": {
    "colab": {
     "base_uri": "https://localhost:8080/",
     "height": 17
    },
    "hidden": true,
    "id": "SnlGRPWbrNAj",
    "outputId": "29ed8227-1450-4213-e9d1-a2953167d415"
   },
   "outputs": [
    {
     "data": {
      "text/plain": [
       "(1986, 108)"
      ]
     },
     "execution_count": 8,
     "metadata": {},
     "output_type": "execute_result"
    }
   ],
   "source": [
    "df_f.shape"
   ]
  },
  {
   "cell_type": "code",
   "execution_count": 9,
   "metadata": {},
   "outputs": [
    {
     "name": "stdout",
     "output_type": "stream",
     "text": [
      "<class 'pandas.core.frame.DataFrame'>\n",
      "RangeIndex: 1986 entries, 0 to 1985\n",
      "Columns: 108 entries, SubjectId to WritingPreference\n",
      "dtypes: int64(99), object(9)\n",
      "memory usage: 1.6+ MB\n"
     ]
    }
   ],
   "source": [
    "df_f.info()"
   ]
  },
  {
   "cell_type": "code",
   "execution_count": 10,
   "metadata": {},
   "outputs": [
    {
     "data": {
      "text/html": [
       "<div>\n",
       "<style scoped>\n",
       "    .dataframe tbody tr th:only-of-type {\n",
       "        vertical-align: middle;\n",
       "    }\n",
       "\n",
       "    .dataframe tbody tr th {\n",
       "        vertical-align: top;\n",
       "    }\n",
       "\n",
       "    .dataframe thead th {\n",
       "        text-align: right;\n",
       "    }\n",
       "</style>\n",
       "<table border=\"1\" class=\"dataframe\">\n",
       "  <thead>\n",
       "    <tr style=\"text-align: right;\">\n",
       "      <th></th>\n",
       "      <th>SubjectId</th>\n",
       "      <th>abdominalextensiondepthsitting</th>\n",
       "      <th>acromialheight</th>\n",
       "      <th>acromionradialelength</th>\n",
       "      <th>anklecircumference</th>\n",
       "      <th>axillaheight</th>\n",
       "      <th>balloffootcircumference</th>\n",
       "      <th>balloffootlength</th>\n",
       "      <th>biacromialbreadth</th>\n",
       "      <th>bicepscircumferenceflexed</th>\n",
       "      <th>...</th>\n",
       "      <th>waistfrontlengthsitting</th>\n",
       "      <th>waistheightomphalion</th>\n",
       "      <th>weightkg</th>\n",
       "      <th>wristcircumference</th>\n",
       "      <th>wristheight</th>\n",
       "      <th>SubjectNumericRace</th>\n",
       "      <th>DODRace</th>\n",
       "      <th>Age</th>\n",
       "      <th>Heightin</th>\n",
       "      <th>Weightlbs</th>\n",
       "    </tr>\n",
       "  </thead>\n",
       "  <tbody>\n",
       "    <tr>\n",
       "      <th>count</th>\n",
       "      <td>1986.000</td>\n",
       "      <td>1986.000</td>\n",
       "      <td>1986.000</td>\n",
       "      <td>1986.000</td>\n",
       "      <td>1986.000</td>\n",
       "      <td>1986.000</td>\n",
       "      <td>1986.000</td>\n",
       "      <td>1986.000</td>\n",
       "      <td>1986.000</td>\n",
       "      <td>1986.000</td>\n",
       "      <td>...</td>\n",
       "      <td>1986.000</td>\n",
       "      <td>1986.000</td>\n",
       "      <td>1986.000</td>\n",
       "      <td>1986.000</td>\n",
       "      <td>1986.000</td>\n",
       "      <td>1986.000</td>\n",
       "      <td>1986.000</td>\n",
       "      <td>1986.000</td>\n",
       "      <td>1986.000</td>\n",
       "      <td>1986.000</td>\n",
       "    </tr>\n",
       "    <tr>\n",
       "      <th>mean</th>\n",
       "      <td>22306.606</td>\n",
       "      <td>229.651</td>\n",
       "      <td>1335.095</td>\n",
       "      <td>311.198</td>\n",
       "      <td>215.740</td>\n",
       "      <td>1239.030</td>\n",
       "      <td>228.110</td>\n",
       "      <td>182.051</td>\n",
       "      <td>365.349</td>\n",
       "      <td>305.579</td>\n",
       "      <td>...</td>\n",
       "      <td>355.136</td>\n",
       "      <td>980.149</td>\n",
       "      <td>677.582</td>\n",
       "      <td>154.793</td>\n",
       "      <td>794.190</td>\n",
       "      <td>35.072</td>\n",
       "      <td>1.781</td>\n",
       "      <td>28.944</td>\n",
       "      <td>64.602</td>\n",
       "      <td>147.505</td>\n",
       "    </tr>\n",
       "    <tr>\n",
       "      <th>std</th>\n",
       "      <td>20904.730</td>\n",
       "      <td>31.465</td>\n",
       "      <td>58.080</td>\n",
       "      <td>17.165</td>\n",
       "      <td>14.892</td>\n",
       "      <td>55.802</td>\n",
       "      <td>11.771</td>\n",
       "      <td>9.642</td>\n",
       "      <td>18.299</td>\n",
       "      <td>30.757</td>\n",
       "      <td>...</td>\n",
       "      <td>23.945</td>\n",
       "      <td>50.023</td>\n",
       "      <td>109.846</td>\n",
       "      <td>7.828</td>\n",
       "      <td>38.195</td>\n",
       "      <td>955.583</td>\n",
       "      <td>1.000</td>\n",
       "      <td>8.332</td>\n",
       "      <td>2.802</td>\n",
       "      <td>22.855</td>\n",
       "    </tr>\n",
       "    <tr>\n",
       "      <th>min</th>\n",
       "      <td>10037.000</td>\n",
       "      <td>155.000</td>\n",
       "      <td>1115.000</td>\n",
       "      <td>249.000</td>\n",
       "      <td>170.000</td>\n",
       "      <td>1038.000</td>\n",
       "      <td>194.000</td>\n",
       "      <td>151.000</td>\n",
       "      <td>283.000</td>\n",
       "      <td>216.000</td>\n",
       "      <td>...</td>\n",
       "      <td>289.000</td>\n",
       "      <td>805.000</td>\n",
       "      <td>358.000</td>\n",
       "      <td>124.000</td>\n",
       "      <td>672.000</td>\n",
       "      <td>1.000</td>\n",
       "      <td>1.000</td>\n",
       "      <td>17.000</td>\n",
       "      <td>56.000</td>\n",
       "      <td>86.000</td>\n",
       "    </tr>\n",
       "    <tr>\n",
       "      <th>25%</th>\n",
       "      <td>17667.000</td>\n",
       "      <td>207.000</td>\n",
       "      <td>1298.000</td>\n",
       "      <td>300.000</td>\n",
       "      <td>205.000</td>\n",
       "      <td>1202.000</td>\n",
       "      <td>220.000</td>\n",
       "      <td>175.000</td>\n",
       "      <td>353.000</td>\n",
       "      <td>285.000</td>\n",
       "      <td>...</td>\n",
       "      <td>338.000</td>\n",
       "      <td>947.000</td>\n",
       "      <td>601.000</td>\n",
       "      <td>150.000</td>\n",
       "      <td>769.000</td>\n",
       "      <td>1.000</td>\n",
       "      <td>1.000</td>\n",
       "      <td>22.000</td>\n",
       "      <td>63.000</td>\n",
       "      <td>130.000</td>\n",
       "    </tr>\n",
       "    <tr>\n",
       "      <th>50%</th>\n",
       "      <td>22096.500</td>\n",
       "      <td>227.000</td>\n",
       "      <td>1332.000</td>\n",
       "      <td>311.000</td>\n",
       "      <td>215.000</td>\n",
       "      <td>1236.000</td>\n",
       "      <td>227.000</td>\n",
       "      <td>182.000</td>\n",
       "      <td>365.000</td>\n",
       "      <td>304.000</td>\n",
       "      <td>...</td>\n",
       "      <td>355.000</td>\n",
       "      <td>977.500</td>\n",
       "      <td>668.000</td>\n",
       "      <td>154.000</td>\n",
       "      <td>794.000</td>\n",
       "      <td>2.000</td>\n",
       "      <td>2.000</td>\n",
       "      <td>27.000</td>\n",
       "      <td>64.000</td>\n",
       "      <td>145.000</td>\n",
       "    </tr>\n",
       "    <tr>\n",
       "      <th>75%</th>\n",
       "      <td>26089.750</td>\n",
       "      <td>249.000</td>\n",
       "      <td>1374.000</td>\n",
       "      <td>323.000</td>\n",
       "      <td>225.000</td>\n",
       "      <td>1277.000</td>\n",
       "      <td>236.000</td>\n",
       "      <td>188.000</td>\n",
       "      <td>378.000</td>\n",
       "      <td>324.000</td>\n",
       "      <td>...</td>\n",
       "      <td>370.000</td>\n",
       "      <td>1013.000</td>\n",
       "      <td>745.750</td>\n",
       "      <td>160.000</td>\n",
       "      <td>819.000</td>\n",
       "      <td>3.000</td>\n",
       "      <td>2.000</td>\n",
       "      <td>34.000</td>\n",
       "      <td>66.000</td>\n",
       "      <td>161.000</td>\n",
       "    </tr>\n",
       "    <tr>\n",
       "      <th>max</th>\n",
       "      <td>920103.000</td>\n",
       "      <td>358.000</td>\n",
       "      <td>1536.000</td>\n",
       "      <td>371.000</td>\n",
       "      <td>275.000</td>\n",
       "      <td>1419.000</td>\n",
       "      <td>270.000</td>\n",
       "      <td>216.000</td>\n",
       "      <td>422.000</td>\n",
       "      <td>435.000</td>\n",
       "      <td>...</td>\n",
       "      <td>432.000</td>\n",
       "      <td>1142.000</td>\n",
       "      <td>1196.000</td>\n",
       "      <td>183.000</td>\n",
       "      <td>941.000</td>\n",
       "      <td>42351.000</td>\n",
       "      <td>6.000</td>\n",
       "      <td>58.000</td>\n",
       "      <td>80.000</td>\n",
       "      <td>270.000</td>\n",
       "    </tr>\n",
       "  </tbody>\n",
       "</table>\n",
       "<p>8 rows × 99 columns</p>\n",
       "</div>"
      ],
      "text/plain": [
       "       SubjectId  abdominalextensiondepthsitting  acromialheight  \\\n",
       "count   1986.000                        1986.000        1986.000   \n",
       "mean   22306.606                         229.651        1335.095   \n",
       "std    20904.730                          31.465          58.080   \n",
       "min    10037.000                         155.000        1115.000   \n",
       "25%    17667.000                         207.000        1298.000   \n",
       "50%    22096.500                         227.000        1332.000   \n",
       "75%    26089.750                         249.000        1374.000   \n",
       "max   920103.000                         358.000        1536.000   \n",
       "\n",
       "       acromionradialelength  anklecircumference  axillaheight  \\\n",
       "count               1986.000            1986.000      1986.000   \n",
       "mean                 311.198             215.740      1239.030   \n",
       "std                   17.165              14.892        55.802   \n",
       "min                  249.000             170.000      1038.000   \n",
       "25%                  300.000             205.000      1202.000   \n",
       "50%                  311.000             215.000      1236.000   \n",
       "75%                  323.000             225.000      1277.000   \n",
       "max                  371.000             275.000      1419.000   \n",
       "\n",
       "       balloffootcircumference  balloffootlength  biacromialbreadth  \\\n",
       "count                 1986.000          1986.000           1986.000   \n",
       "mean                   228.110           182.051            365.349   \n",
       "std                     11.771             9.642             18.299   \n",
       "min                    194.000           151.000            283.000   \n",
       "25%                    220.000           175.000            353.000   \n",
       "50%                    227.000           182.000            365.000   \n",
       "75%                    236.000           188.000            378.000   \n",
       "max                    270.000           216.000            422.000   \n",
       "\n",
       "       bicepscircumferenceflexed  ...  waistfrontlengthsitting  \\\n",
       "count                   1986.000  ...                 1986.000   \n",
       "mean                     305.579  ...                  355.136   \n",
       "std                       30.757  ...                   23.945   \n",
       "min                      216.000  ...                  289.000   \n",
       "25%                      285.000  ...                  338.000   \n",
       "50%                      304.000  ...                  355.000   \n",
       "75%                      324.000  ...                  370.000   \n",
       "max                      435.000  ...                  432.000   \n",
       "\n",
       "       waistheightomphalion  weightkg  wristcircumference  wristheight  \\\n",
       "count              1986.000  1986.000            1986.000     1986.000   \n",
       "mean                980.149   677.582             154.793      794.190   \n",
       "std                  50.023   109.846               7.828       38.195   \n",
       "min                 805.000   358.000             124.000      672.000   \n",
       "25%                 947.000   601.000             150.000      769.000   \n",
       "50%                 977.500   668.000             154.000      794.000   \n",
       "75%                1013.000   745.750             160.000      819.000   \n",
       "max                1142.000  1196.000             183.000      941.000   \n",
       "\n",
       "       SubjectNumericRace  DODRace      Age  Heightin  Weightlbs  \n",
       "count            1986.000 1986.000 1986.000  1986.000   1986.000  \n",
       "mean               35.072    1.781   28.944    64.602    147.505  \n",
       "std               955.583    1.000    8.332     2.802     22.855  \n",
       "min                 1.000    1.000   17.000    56.000     86.000  \n",
       "25%                 1.000    1.000   22.000    63.000    130.000  \n",
       "50%                 2.000    2.000   27.000    64.000    145.000  \n",
       "75%                 3.000    2.000   34.000    66.000    161.000  \n",
       "max             42351.000    6.000   58.000    80.000    270.000  \n",
       "\n",
       "[8 rows x 99 columns]"
      ]
     },
     "execution_count": 10,
     "metadata": {},
     "output_type": "execute_result"
    }
   ],
   "source": [
    "df_f.describe()"
   ]
  },
  {
   "cell_type": "code",
   "execution_count": 11,
   "metadata": {},
   "outputs": [
    {
     "data": {
      "text/plain": [
       "True"
      ]
     },
     "execution_count": 11,
     "metadata": {},
     "output_type": "execute_result"
    }
   ],
   "source": [
    "df_f.isnull().sum().any()"
   ]
  },
  {
   "cell_type": "code",
   "execution_count": 12,
   "metadata": {},
   "outputs": [
    {
     "data": {
      "text/plain": [
       "(4082, 108)"
      ]
     },
     "execution_count": 12,
     "metadata": {},
     "output_type": "execute_result"
    }
   ],
   "source": [
    "df_m.shape"
   ]
  },
  {
   "cell_type": "code",
   "execution_count": 13,
   "metadata": {},
   "outputs": [
    {
     "name": "stdout",
     "output_type": "stream",
     "text": [
      "<class 'pandas.core.frame.DataFrame'>\n",
      "RangeIndex: 4082 entries, 0 to 4081\n",
      "Columns: 108 entries, subjectid to WritingPreference\n",
      "dtypes: int64(99), object(9)\n",
      "memory usage: 3.4+ MB\n"
     ]
    }
   ],
   "source": [
    "df_m.info()"
   ]
  },
  {
   "cell_type": "code",
   "execution_count": 14,
   "metadata": {},
   "outputs": [
    {
     "data": {
      "text/html": [
       "<div>\n",
       "<style scoped>\n",
       "    .dataframe tbody tr th:only-of-type {\n",
       "        vertical-align: middle;\n",
       "    }\n",
       "\n",
       "    .dataframe tbody tr th {\n",
       "        vertical-align: top;\n",
       "    }\n",
       "\n",
       "    .dataframe thead th {\n",
       "        text-align: right;\n",
       "    }\n",
       "</style>\n",
       "<table border=\"1\" class=\"dataframe\">\n",
       "  <thead>\n",
       "    <tr style=\"text-align: right;\">\n",
       "      <th></th>\n",
       "      <th>subjectid</th>\n",
       "      <th>abdominalextensiondepthsitting</th>\n",
       "      <th>acromialheight</th>\n",
       "      <th>acromionradialelength</th>\n",
       "      <th>anklecircumference</th>\n",
       "      <th>axillaheight</th>\n",
       "      <th>balloffootcircumference</th>\n",
       "      <th>balloffootlength</th>\n",
       "      <th>biacromialbreadth</th>\n",
       "      <th>bicepscircumferenceflexed</th>\n",
       "      <th>...</th>\n",
       "      <th>waistfrontlengthsitting</th>\n",
       "      <th>waistheightomphalion</th>\n",
       "      <th>weightkg</th>\n",
       "      <th>wristcircumference</th>\n",
       "      <th>wristheight</th>\n",
       "      <th>SubjectNumericRace</th>\n",
       "      <th>DODRace</th>\n",
       "      <th>Age</th>\n",
       "      <th>Heightin</th>\n",
       "      <th>Weightlbs</th>\n",
       "    </tr>\n",
       "  </thead>\n",
       "  <tbody>\n",
       "    <tr>\n",
       "      <th>count</th>\n",
       "      <td>4082.000</td>\n",
       "      <td>4082.000</td>\n",
       "      <td>4082.000</td>\n",
       "      <td>4082.000</td>\n",
       "      <td>4082.000</td>\n",
       "      <td>4082.000</td>\n",
       "      <td>4082.000</td>\n",
       "      <td>4082.000</td>\n",
       "      <td>4082.000</td>\n",
       "      <td>4082.000</td>\n",
       "      <td>...</td>\n",
       "      <td>4082.000</td>\n",
       "      <td>4082.000</td>\n",
       "      <td>4082.000</td>\n",
       "      <td>4082.000</td>\n",
       "      <td>4082.000</td>\n",
       "      <td>4082.000</td>\n",
       "      <td>4082.000</td>\n",
       "      <td>4082.000</td>\n",
       "      <td>4082.000</td>\n",
       "      <td>4082.000</td>\n",
       "    </tr>\n",
       "    <tr>\n",
       "      <th>mean</th>\n",
       "      <td>20003.371</td>\n",
       "      <td>254.651</td>\n",
       "      <td>1440.737</td>\n",
       "      <td>335.244</td>\n",
       "      <td>229.344</td>\n",
       "      <td>1329.082</td>\n",
       "      <td>252.017</td>\n",
       "      <td>200.935</td>\n",
       "      <td>415.676</td>\n",
       "      <td>358.136</td>\n",
       "      <td>...</td>\n",
       "      <td>387.643</td>\n",
       "      <td>1056.485</td>\n",
       "      <td>855.240</td>\n",
       "      <td>175.917</td>\n",
       "      <td>847.512</td>\n",
       "      <td>8.974</td>\n",
       "      <td>1.534</td>\n",
       "      <td>30.159</td>\n",
       "      <td>70.036</td>\n",
       "      <td>188.005</td>\n",
       "    </tr>\n",
       "    <tr>\n",
       "      <th>std</th>\n",
       "      <td>6568.435</td>\n",
       "      <td>37.327</td>\n",
       "      <td>63.287</td>\n",
       "      <td>17.483</td>\n",
       "      <td>14.649</td>\n",
       "      <td>59.516</td>\n",
       "      <td>12.936</td>\n",
       "      <td>10.471</td>\n",
       "      <td>19.162</td>\n",
       "      <td>34.618</td>\n",
       "      <td>...</td>\n",
       "      <td>29.349</td>\n",
       "      <td>52.155</td>\n",
       "      <td>142.207</td>\n",
       "      <td>8.955</td>\n",
       "      <td>41.656</td>\n",
       "      <td>83.013</td>\n",
       "      <td>0.959</td>\n",
       "      <td>8.810</td>\n",
       "      <td>2.947</td>\n",
       "      <td>29.942</td>\n",
       "    </tr>\n",
       "    <tr>\n",
       "      <th>min</th>\n",
       "      <td>10027.000</td>\n",
       "      <td>163.000</td>\n",
       "      <td>1194.000</td>\n",
       "      <td>270.000</td>\n",
       "      <td>156.000</td>\n",
       "      <td>1106.000</td>\n",
       "      <td>186.000</td>\n",
       "      <td>156.000</td>\n",
       "      <td>337.000</td>\n",
       "      <td>246.000</td>\n",
       "      <td>...</td>\n",
       "      <td>293.000</td>\n",
       "      <td>876.000</td>\n",
       "      <td>393.000</td>\n",
       "      <td>141.000</td>\n",
       "      <td>695.000</td>\n",
       "      <td>1.000</td>\n",
       "      <td>1.000</td>\n",
       "      <td>17.000</td>\n",
       "      <td>60.000</td>\n",
       "      <td>0.000</td>\n",
       "    </tr>\n",
       "    <tr>\n",
       "      <th>25%</th>\n",
       "      <td>14270.250</td>\n",
       "      <td>227.000</td>\n",
       "      <td>1398.000</td>\n",
       "      <td>324.000</td>\n",
       "      <td>219.250</td>\n",
       "      <td>1289.000</td>\n",
       "      <td>243.000</td>\n",
       "      <td>194.000</td>\n",
       "      <td>403.000</td>\n",
       "      <td>335.000</td>\n",
       "      <td>...</td>\n",
       "      <td>367.000</td>\n",
       "      <td>1020.000</td>\n",
       "      <td>756.000</td>\n",
       "      <td>170.000</td>\n",
       "      <td>819.000</td>\n",
       "      <td>1.000</td>\n",
       "      <td>1.000</td>\n",
       "      <td>23.000</td>\n",
       "      <td>68.000</td>\n",
       "      <td>168.000</td>\n",
       "    </tr>\n",
       "    <tr>\n",
       "      <th>50%</th>\n",
       "      <td>17236.500</td>\n",
       "      <td>251.000</td>\n",
       "      <td>1439.000</td>\n",
       "      <td>335.000</td>\n",
       "      <td>228.000</td>\n",
       "      <td>1328.000</td>\n",
       "      <td>252.000</td>\n",
       "      <td>201.000</td>\n",
       "      <td>415.000</td>\n",
       "      <td>357.000</td>\n",
       "      <td>...</td>\n",
       "      <td>386.000</td>\n",
       "      <td>1055.000</td>\n",
       "      <td>846.000</td>\n",
       "      <td>176.000</td>\n",
       "      <td>847.000</td>\n",
       "      <td>1.000</td>\n",
       "      <td>1.000</td>\n",
       "      <td>28.000</td>\n",
       "      <td>70.000</td>\n",
       "      <td>185.000</td>\n",
       "    </tr>\n",
       "    <tr>\n",
       "      <th>75%</th>\n",
       "      <td>27315.750</td>\n",
       "      <td>279.000</td>\n",
       "      <td>1481.000</td>\n",
       "      <td>346.000</td>\n",
       "      <td>239.000</td>\n",
       "      <td>1367.000</td>\n",
       "      <td>261.000</td>\n",
       "      <td>208.000</td>\n",
       "      <td>428.000</td>\n",
       "      <td>380.000</td>\n",
       "      <td>...</td>\n",
       "      <td>407.000</td>\n",
       "      <td>1090.000</td>\n",
       "      <td>944.000</td>\n",
       "      <td>182.000</td>\n",
       "      <td>875.000</td>\n",
       "      <td>2.000</td>\n",
       "      <td>2.000</td>\n",
       "      <td>36.000</td>\n",
       "      <td>72.000</td>\n",
       "      <td>207.000</td>\n",
       "    </tr>\n",
       "    <tr>\n",
       "      <th>max</th>\n",
       "      <td>29452.000</td>\n",
       "      <td>451.000</td>\n",
       "      <td>1683.000</td>\n",
       "      <td>393.000</td>\n",
       "      <td>293.000</td>\n",
       "      <td>1553.000</td>\n",
       "      <td>306.000</td>\n",
       "      <td>245.000</td>\n",
       "      <td>489.000</td>\n",
       "      <td>490.000</td>\n",
       "      <td>...</td>\n",
       "      <td>494.000</td>\n",
       "      <td>1245.000</td>\n",
       "      <td>1442.000</td>\n",
       "      <td>216.000</td>\n",
       "      <td>1009.000</td>\n",
       "      <td>4251.000</td>\n",
       "      <td>8.000</td>\n",
       "      <td>58.000</td>\n",
       "      <td>94.000</td>\n",
       "      <td>321.000</td>\n",
       "    </tr>\n",
       "  </tbody>\n",
       "</table>\n",
       "<p>8 rows × 99 columns</p>\n",
       "</div>"
      ],
      "text/plain": [
       "       subjectid  abdominalextensiondepthsitting  acromialheight  \\\n",
       "count   4082.000                        4082.000        4082.000   \n",
       "mean   20003.371                         254.651        1440.737   \n",
       "std     6568.435                          37.327          63.287   \n",
       "min    10027.000                         163.000        1194.000   \n",
       "25%    14270.250                         227.000        1398.000   \n",
       "50%    17236.500                         251.000        1439.000   \n",
       "75%    27315.750                         279.000        1481.000   \n",
       "max    29452.000                         451.000        1683.000   \n",
       "\n",
       "       acromionradialelength  anklecircumference  axillaheight  \\\n",
       "count               4082.000            4082.000      4082.000   \n",
       "mean                 335.244             229.344      1329.082   \n",
       "std                   17.483              14.649        59.516   \n",
       "min                  270.000             156.000      1106.000   \n",
       "25%                  324.000             219.250      1289.000   \n",
       "50%                  335.000             228.000      1328.000   \n",
       "75%                  346.000             239.000      1367.000   \n",
       "max                  393.000             293.000      1553.000   \n",
       "\n",
       "       balloffootcircumference  balloffootlength  biacromialbreadth  \\\n",
       "count                 4082.000          4082.000           4082.000   \n",
       "mean                   252.017           200.935            415.676   \n",
       "std                     12.936            10.471             19.162   \n",
       "min                    186.000           156.000            337.000   \n",
       "25%                    243.000           194.000            403.000   \n",
       "50%                    252.000           201.000            415.000   \n",
       "75%                    261.000           208.000            428.000   \n",
       "max                    306.000           245.000            489.000   \n",
       "\n",
       "       bicepscircumferenceflexed  ...  waistfrontlengthsitting  \\\n",
       "count                   4082.000  ...                 4082.000   \n",
       "mean                     358.136  ...                  387.643   \n",
       "std                       34.618  ...                   29.349   \n",
       "min                      246.000  ...                  293.000   \n",
       "25%                      335.000  ...                  367.000   \n",
       "50%                      357.000  ...                  386.000   \n",
       "75%                      380.000  ...                  407.000   \n",
       "max                      490.000  ...                  494.000   \n",
       "\n",
       "       waistheightomphalion  weightkg  wristcircumference  wristheight  \\\n",
       "count              4082.000  4082.000            4082.000     4082.000   \n",
       "mean               1056.485   855.240             175.917      847.512   \n",
       "std                  52.155   142.207               8.955       41.656   \n",
       "min                 876.000   393.000             141.000      695.000   \n",
       "25%                1020.000   756.000             170.000      819.000   \n",
       "50%                1055.000   846.000             176.000      847.000   \n",
       "75%                1090.000   944.000             182.000      875.000   \n",
       "max                1245.000  1442.000             216.000     1009.000   \n",
       "\n",
       "       SubjectNumericRace  DODRace      Age  Heightin  Weightlbs  \n",
       "count            4082.000 4082.000 4082.000  4082.000   4082.000  \n",
       "mean                8.974    1.534   30.159    70.036    188.005  \n",
       "std                83.013    0.959    8.810     2.947     29.942  \n",
       "min                 1.000    1.000   17.000    60.000      0.000  \n",
       "25%                 1.000    1.000   23.000    68.000    168.000  \n",
       "50%                 1.000    1.000   28.000    70.000    185.000  \n",
       "75%                 2.000    2.000   36.000    72.000    207.000  \n",
       "max              4251.000    8.000   58.000    94.000    321.000  \n",
       "\n",
       "[8 rows x 99 columns]"
      ]
     },
     "execution_count": 14,
     "metadata": {},
     "output_type": "execute_result"
    }
   ],
   "source": [
    "df_m.describe()"
   ]
  },
  {
   "cell_type": "code",
   "execution_count": 15,
   "metadata": {},
   "outputs": [
    {
     "data": {
      "text/plain": [
       "True"
      ]
     },
     "execution_count": 15,
     "metadata": {},
     "output_type": "execute_result"
    }
   ],
   "source": [
    "df_f.isnull().sum().any()"
   ]
  },
  {
   "cell_type": "code",
   "execution_count": 16,
   "metadata": {},
   "outputs": [
    {
     "data": {
      "text/plain": [
       "Male    4082\n",
       "Name: Gender, dtype: int64"
      ]
     },
     "execution_count": 16,
     "metadata": {},
     "output_type": "execute_result"
    }
   ],
   "source": [
    "df_m.Gender.value_counts(dropna=False)"
   ]
  },
  {
   "cell_type": "code",
   "execution_count": 17,
   "metadata": {},
   "outputs": [
    {
     "data": {
      "text/plain": [
       "Index(['SubjectId', 'abdominalextensiondepthsitting', 'acromialheight',\n",
       "       'acromionradialelength', 'anklecircumference', 'axillaheight',\n",
       "       'balloffootcircumference', 'balloffootlength', 'biacromialbreadth',\n",
       "       'bicepscircumferenceflexed',\n",
       "       ...\n",
       "       'Branch', 'PrimaryMOS', 'SubjectsBirthLocation', 'SubjectNumericRace',\n",
       "       'Ethnicity', 'DODRace', 'Age', 'Heightin', 'Weightlbs',\n",
       "       'WritingPreference'],\n",
       "      dtype='object', length=108)"
      ]
     },
     "execution_count": 17,
     "metadata": {},
     "output_type": "execute_result"
    }
   ],
   "source": [
    "df_f.columns"
   ]
  },
  {
   "cell_type": "code",
   "execution_count": 18,
   "metadata": {},
   "outputs": [
    {
     "data": {
      "text/plain": [
       "Index(['subjectid', 'abdominalextensiondepthsitting', 'acromialheight',\n",
       "       'acromionradialelength', 'anklecircumference', 'axillaheight',\n",
       "       'balloffootcircumference', 'balloffootlength', 'biacromialbreadth',\n",
       "       'bicepscircumferenceflexed',\n",
       "       ...\n",
       "       'Branch', 'PrimaryMOS', 'SubjectsBirthLocation', 'SubjectNumericRace',\n",
       "       'Ethnicity', 'DODRace', 'Age', 'Heightin', 'Weightlbs',\n",
       "       'WritingPreference'],\n",
       "      dtype='object', length=108)"
      ]
     },
     "execution_count": 18,
     "metadata": {},
     "output_type": "execute_result"
    }
   ],
   "source": [
    "df_m.columns"
   ]
  },
  {
   "cell_type": "code",
   "execution_count": 19,
   "metadata": {},
   "outputs": [
    {
     "data": {
      "text/plain": [
       "Index(['subjectid', 'abdominalextensiondepthsitting', 'acromialheight',\n",
       "       'acromionradialelength', 'anklecircumference', 'axillaheight',\n",
       "       'balloffootcircumference', 'balloffootlength', 'biacromialbreadth',\n",
       "       'bicepscircumferenceflexed',\n",
       "       ...\n",
       "       'Branch', 'PrimaryMOS', 'SubjectsBirthLocation', 'SubjectNumericRace',\n",
       "       'Ethnicity', 'DODRace', 'Age', 'Heightin', 'Weightlbs',\n",
       "       'WritingPreference'],\n",
       "      dtype='object', length=108)"
      ]
     },
     "execution_count": 19,
     "metadata": {},
     "output_type": "execute_result"
    }
   ],
   "source": [
    "df_m.columns"
   ]
  },
  {
   "cell_type": "code",
   "execution_count": 20,
   "metadata": {},
   "outputs": [
    {
     "data": {
      "text/plain": [
       "Index(['subjectid'], dtype='object')"
      ]
     },
     "execution_count": 20,
     "metadata": {},
     "output_type": "execute_result"
    }
   ],
   "source": [
    "df_m.columns.difference(df_f.columns)  "
   ]
  },
  {
   "cell_type": "code",
   "execution_count": 21,
   "metadata": {},
   "outputs": [
    {
     "data": {
      "text/plain": [
       "Index(['SubjectId'], dtype='object')"
      ]
     },
     "execution_count": 21,
     "metadata": {},
     "output_type": "execute_result"
    }
   ],
   "source": [
    "df_f.columns.difference(df_m.columns)"
   ]
  },
  {
   "cell_type": "code",
   "execution_count": 22,
   "metadata": {},
   "outputs": [],
   "source": [
    "df_m.rename(columns={\"Subjectid\":\"SubjectId\"}, inplace=True)"
   ]
  },
  {
   "cell_type": "code",
   "execution_count": 23,
   "metadata": {},
   "outputs": [
    {
     "data": {
      "text/plain": [
       "False"
      ]
     },
     "execution_count": 23,
     "metadata": {},
     "output_type": "execute_result"
    }
   ],
   "source": [
    "df_f.columns.equals(df_m.columns)"
   ]
  },
  {
   "cell_type": "code",
   "execution_count": 24,
   "metadata": {},
   "outputs": [],
   "source": [
    "data = pd.concat([df_f,df_m], axis=0, ignore_index=True)"
   ]
  },
  {
   "cell_type": "code",
   "execution_count": 25,
   "metadata": {},
   "outputs": [
    {
     "data": {
      "text/html": [
       "<div>\n",
       "<style scoped>\n",
       "    .dataframe tbody tr th:only-of-type {\n",
       "        vertical-align: middle;\n",
       "    }\n",
       "\n",
       "    .dataframe tbody tr th {\n",
       "        vertical-align: top;\n",
       "    }\n",
       "\n",
       "    .dataframe thead th {\n",
       "        text-align: right;\n",
       "    }\n",
       "</style>\n",
       "<table border=\"1\" class=\"dataframe\">\n",
       "  <thead>\n",
       "    <tr style=\"text-align: right;\">\n",
       "      <th></th>\n",
       "      <th>SubjectId</th>\n",
       "      <th>abdominalextensiondepthsitting</th>\n",
       "      <th>acromialheight</th>\n",
       "      <th>acromionradialelength</th>\n",
       "      <th>anklecircumference</th>\n",
       "      <th>axillaheight</th>\n",
       "      <th>balloffootcircumference</th>\n",
       "      <th>balloffootlength</th>\n",
       "      <th>biacromialbreadth</th>\n",
       "      <th>bicepscircumferenceflexed</th>\n",
       "      <th>...</th>\n",
       "      <th>PrimaryMOS</th>\n",
       "      <th>SubjectsBirthLocation</th>\n",
       "      <th>SubjectNumericRace</th>\n",
       "      <th>Ethnicity</th>\n",
       "      <th>DODRace</th>\n",
       "      <th>Age</th>\n",
       "      <th>Heightin</th>\n",
       "      <th>Weightlbs</th>\n",
       "      <th>WritingPreference</th>\n",
       "      <th>subjectid</th>\n",
       "    </tr>\n",
       "  </thead>\n",
       "  <tbody>\n",
       "    <tr>\n",
       "      <th>0</th>\n",
       "      <td>10037.000</td>\n",
       "      <td>231</td>\n",
       "      <td>1282</td>\n",
       "      <td>301</td>\n",
       "      <td>204</td>\n",
       "      <td>1180</td>\n",
       "      <td>222</td>\n",
       "      <td>177</td>\n",
       "      <td>373</td>\n",
       "      <td>315</td>\n",
       "      <td>...</td>\n",
       "      <td>92Y</td>\n",
       "      <td>Germany</td>\n",
       "      <td>2</td>\n",
       "      <td>NaN</td>\n",
       "      <td>2</td>\n",
       "      <td>26</td>\n",
       "      <td>61</td>\n",
       "      <td>142</td>\n",
       "      <td>Right hand</td>\n",
       "      <td>NaN</td>\n",
       "    </tr>\n",
       "    <tr>\n",
       "      <th>1</th>\n",
       "      <td>10038.000</td>\n",
       "      <td>194</td>\n",
       "      <td>1379</td>\n",
       "      <td>320</td>\n",
       "      <td>207</td>\n",
       "      <td>1292</td>\n",
       "      <td>225</td>\n",
       "      <td>178</td>\n",
       "      <td>372</td>\n",
       "      <td>272</td>\n",
       "      <td>...</td>\n",
       "      <td>25U</td>\n",
       "      <td>California</td>\n",
       "      <td>3</td>\n",
       "      <td>Mexican</td>\n",
       "      <td>3</td>\n",
       "      <td>21</td>\n",
       "      <td>64</td>\n",
       "      <td>120</td>\n",
       "      <td>Right hand</td>\n",
       "      <td>NaN</td>\n",
       "    </tr>\n",
       "    <tr>\n",
       "      <th>2</th>\n",
       "      <td>10042.000</td>\n",
       "      <td>183</td>\n",
       "      <td>1369</td>\n",
       "      <td>329</td>\n",
       "      <td>233</td>\n",
       "      <td>1271</td>\n",
       "      <td>237</td>\n",
       "      <td>196</td>\n",
       "      <td>397</td>\n",
       "      <td>300</td>\n",
       "      <td>...</td>\n",
       "      <td>35D</td>\n",
       "      <td>Texas</td>\n",
       "      <td>1</td>\n",
       "      <td>NaN</td>\n",
       "      <td>1</td>\n",
       "      <td>23</td>\n",
       "      <td>68</td>\n",
       "      <td>147</td>\n",
       "      <td>Right hand</td>\n",
       "      <td>NaN</td>\n",
       "    </tr>\n",
       "    <tr>\n",
       "      <th>3</th>\n",
       "      <td>10043.000</td>\n",
       "      <td>261</td>\n",
       "      <td>1356</td>\n",
       "      <td>306</td>\n",
       "      <td>214</td>\n",
       "      <td>1250</td>\n",
       "      <td>240</td>\n",
       "      <td>188</td>\n",
       "      <td>384</td>\n",
       "      <td>364</td>\n",
       "      <td>...</td>\n",
       "      <td>25U</td>\n",
       "      <td>District of Columbia</td>\n",
       "      <td>8</td>\n",
       "      <td>Caribbean Islander</td>\n",
       "      <td>2</td>\n",
       "      <td>22</td>\n",
       "      <td>66</td>\n",
       "      <td>175</td>\n",
       "      <td>Right hand</td>\n",
       "      <td>NaN</td>\n",
       "    </tr>\n",
       "    <tr>\n",
       "      <th>4</th>\n",
       "      <td>10051.000</td>\n",
       "      <td>309</td>\n",
       "      <td>1303</td>\n",
       "      <td>308</td>\n",
       "      <td>214</td>\n",
       "      <td>1210</td>\n",
       "      <td>217</td>\n",
       "      <td>182</td>\n",
       "      <td>378</td>\n",
       "      <td>320</td>\n",
       "      <td>...</td>\n",
       "      <td>42A</td>\n",
       "      <td>Texas</td>\n",
       "      <td>1</td>\n",
       "      <td>NaN</td>\n",
       "      <td>1</td>\n",
       "      <td>45</td>\n",
       "      <td>63</td>\n",
       "      <td>195</td>\n",
       "      <td>Right hand</td>\n",
       "      <td>NaN</td>\n",
       "    </tr>\n",
       "    <tr>\n",
       "      <th>5</th>\n",
       "      <td>10053.000</td>\n",
       "      <td>272</td>\n",
       "      <td>1428</td>\n",
       "      <td>326</td>\n",
       "      <td>228</td>\n",
       "      <td>1326</td>\n",
       "      <td>229</td>\n",
       "      <td>201</td>\n",
       "      <td>356</td>\n",
       "      <td>342</td>\n",
       "      <td>...</td>\n",
       "      <td>88M</td>\n",
       "      <td>Germany</td>\n",
       "      <td>2</td>\n",
       "      <td>NaN</td>\n",
       "      <td>2</td>\n",
       "      <td>44</td>\n",
       "      <td>67</td>\n",
       "      <td>180</td>\n",
       "      <td>Left hand</td>\n",
       "      <td>NaN</td>\n",
       "    </tr>\n",
       "    <tr>\n",
       "      <th>6</th>\n",
       "      <td>10061.000</td>\n",
       "      <td>261</td>\n",
       "      <td>1352</td>\n",
       "      <td>306</td>\n",
       "      <td>223</td>\n",
       "      <td>1246</td>\n",
       "      <td>232</td>\n",
       "      <td>172</td>\n",
       "      <td>358</td>\n",
       "      <td>320</td>\n",
       "      <td>...</td>\n",
       "      <td>35F</td>\n",
       "      <td>New Mexico</td>\n",
       "      <td>1</td>\n",
       "      <td>NaN</td>\n",
       "      <td>1</td>\n",
       "      <td>21</td>\n",
       "      <td>65</td>\n",
       "      <td>165</td>\n",
       "      <td>Right hand</td>\n",
       "      <td>NaN</td>\n",
       "    </tr>\n",
       "    <tr>\n",
       "      <th>7</th>\n",
       "      <td>10070.000</td>\n",
       "      <td>229</td>\n",
       "      <td>1383</td>\n",
       "      <td>327</td>\n",
       "      <td>205</td>\n",
       "      <td>1281</td>\n",
       "      <td>234</td>\n",
       "      <td>194</td>\n",
       "      <td>365</td>\n",
       "      <td>337</td>\n",
       "      <td>...</td>\n",
       "      <td>92Y</td>\n",
       "      <td>American Samoa</td>\n",
       "      <td>6</td>\n",
       "      <td>Polynesian Samoan</td>\n",
       "      <td>6</td>\n",
       "      <td>23</td>\n",
       "      <td>66</td>\n",
       "      <td>168</td>\n",
       "      <td>Right hand</td>\n",
       "      <td>NaN</td>\n",
       "    </tr>\n",
       "    <tr>\n",
       "      <th>8</th>\n",
       "      <td>10077.000</td>\n",
       "      <td>213</td>\n",
       "      <td>1237</td>\n",
       "      <td>308</td>\n",
       "      <td>193</td>\n",
       "      <td>1135</td>\n",
       "      <td>208</td>\n",
       "      <td>175</td>\n",
       "      <td>355</td>\n",
       "      <td>283</td>\n",
       "      <td>...</td>\n",
       "      <td>92F</td>\n",
       "      <td>Virginia</td>\n",
       "      <td>2</td>\n",
       "      <td>NaN</td>\n",
       "      <td>2</td>\n",
       "      <td>24</td>\n",
       "      <td>59</td>\n",
       "      <td>118</td>\n",
       "      <td>Left hand</td>\n",
       "      <td>NaN</td>\n",
       "    </tr>\n",
       "    <tr>\n",
       "      <th>9</th>\n",
       "      <td>10080.000</td>\n",
       "      <td>281</td>\n",
       "      <td>1301</td>\n",
       "      <td>278</td>\n",
       "      <td>208</td>\n",
       "      <td>1194</td>\n",
       "      <td>221</td>\n",
       "      <td>178</td>\n",
       "      <td>323</td>\n",
       "      <td>290</td>\n",
       "      <td>...</td>\n",
       "      <td>31B</td>\n",
       "      <td>South Korea</td>\n",
       "      <td>1</td>\n",
       "      <td>NaN</td>\n",
       "      <td>1</td>\n",
       "      <td>37</td>\n",
       "      <td>63</td>\n",
       "      <td>150</td>\n",
       "      <td>Right hand</td>\n",
       "      <td>NaN</td>\n",
       "    </tr>\n",
       "  </tbody>\n",
       "</table>\n",
       "<p>10 rows × 109 columns</p>\n",
       "</div>"
      ],
      "text/plain": [
       "   SubjectId  abdominalextensiondepthsitting  acromialheight  \\\n",
       "0  10037.000                             231            1282   \n",
       "1  10038.000                             194            1379   \n",
       "2  10042.000                             183            1369   \n",
       "3  10043.000                             261            1356   \n",
       "4  10051.000                             309            1303   \n",
       "5  10053.000                             272            1428   \n",
       "6  10061.000                             261            1352   \n",
       "7  10070.000                             229            1383   \n",
       "8  10077.000                             213            1237   \n",
       "9  10080.000                             281            1301   \n",
       "\n",
       "   acromionradialelength  anklecircumference  axillaheight  \\\n",
       "0                    301                 204          1180   \n",
       "1                    320                 207          1292   \n",
       "2                    329                 233          1271   \n",
       "3                    306                 214          1250   \n",
       "4                    308                 214          1210   \n",
       "5                    326                 228          1326   \n",
       "6                    306                 223          1246   \n",
       "7                    327                 205          1281   \n",
       "8                    308                 193          1135   \n",
       "9                    278                 208          1194   \n",
       "\n",
       "   balloffootcircumference  balloffootlength  biacromialbreadth  \\\n",
       "0                      222               177                373   \n",
       "1                      225               178                372   \n",
       "2                      237               196                397   \n",
       "3                      240               188                384   \n",
       "4                      217               182                378   \n",
       "5                      229               201                356   \n",
       "6                      232               172                358   \n",
       "7                      234               194                365   \n",
       "8                      208               175                355   \n",
       "9                      221               178                323   \n",
       "\n",
       "   bicepscircumferenceflexed  ...  PrimaryMOS  SubjectsBirthLocation  \\\n",
       "0                        315  ...         92Y                Germany   \n",
       "1                        272  ...         25U             California   \n",
       "2                        300  ...         35D                  Texas   \n",
       "3                        364  ...         25U   District of Columbia   \n",
       "4                        320  ...         42A                  Texas   \n",
       "5                        342  ...         88M                Germany   \n",
       "6                        320  ...         35F             New Mexico   \n",
       "7                        337  ...         92Y         American Samoa   \n",
       "8                        283  ...         92F               Virginia   \n",
       "9                        290  ...         31B            South Korea   \n",
       "\n",
       "   SubjectNumericRace           Ethnicity  DODRace  Age  Heightin  Weightlbs  \\\n",
       "0                   2                 NaN        2   26        61        142   \n",
       "1                   3             Mexican        3   21        64        120   \n",
       "2                   1                 NaN        1   23        68        147   \n",
       "3                   8  Caribbean Islander        2   22        66        175   \n",
       "4                   1                 NaN        1   45        63        195   \n",
       "5                   2                 NaN        2   44        67        180   \n",
       "6                   1                 NaN        1   21        65        165   \n",
       "7                   6   Polynesian Samoan        6   23        66        168   \n",
       "8                   2                 NaN        2   24        59        118   \n",
       "9                   1                 NaN        1   37        63        150   \n",
       "\n",
       "   WritingPreference  subjectid  \n",
       "0         Right hand        NaN  \n",
       "1         Right hand        NaN  \n",
       "2         Right hand        NaN  \n",
       "3         Right hand        NaN  \n",
       "4         Right hand        NaN  \n",
       "5          Left hand        NaN  \n",
       "6         Right hand        NaN  \n",
       "7         Right hand        NaN  \n",
       "8          Left hand        NaN  \n",
       "9         Right hand        NaN  \n",
       "\n",
       "[10 rows x 109 columns]"
      ]
     },
     "execution_count": 25,
     "metadata": {},
     "output_type": "execute_result"
    }
   ],
   "source": [
    "data.head(10)"
   ]
  },
  {
   "cell_type": "code",
   "execution_count": 26,
   "metadata": {},
   "outputs": [
    {
     "data": {
      "text/plain": [
       "Male      4082\n",
       "Female    1986\n",
       "Name: Gender, dtype: int64"
      ]
     },
     "execution_count": 26,
     "metadata": {},
     "output_type": "execute_result"
    }
   ],
   "source": [
    "data.Gender.value_counts(dropna=False)"
   ]
  },
  {
   "cell_type": "code",
   "execution_count": 27,
   "metadata": {},
   "outputs": [
    {
     "data": {
      "text/html": [
       "<div>\n",
       "<style scoped>\n",
       "    .dataframe tbody tr th:only-of-type {\n",
       "        vertical-align: middle;\n",
       "    }\n",
       "\n",
       "    .dataframe tbody tr th {\n",
       "        vertical-align: top;\n",
       "    }\n",
       "\n",
       "    .dataframe thead th {\n",
       "        text-align: right;\n",
       "    }\n",
       "</style>\n",
       "<table border=\"1\" class=\"dataframe\">\n",
       "  <thead>\n",
       "    <tr style=\"text-align: right;\">\n",
       "      <th></th>\n",
       "      <th>SubjectId</th>\n",
       "      <th>abdominalextensiondepthsitting</th>\n",
       "      <th>acromialheight</th>\n",
       "      <th>acromionradialelength</th>\n",
       "      <th>anklecircumference</th>\n",
       "      <th>axillaheight</th>\n",
       "      <th>balloffootcircumference</th>\n",
       "      <th>balloffootlength</th>\n",
       "      <th>biacromialbreadth</th>\n",
       "      <th>bicepscircumferenceflexed</th>\n",
       "      <th>...</th>\n",
       "      <th>PrimaryMOS</th>\n",
       "      <th>SubjectsBirthLocation</th>\n",
       "      <th>SubjectNumericRace</th>\n",
       "      <th>Ethnicity</th>\n",
       "      <th>DODRace</th>\n",
       "      <th>Age</th>\n",
       "      <th>Heightin</th>\n",
       "      <th>Weightlbs</th>\n",
       "      <th>WritingPreference</th>\n",
       "      <th>subjectid</th>\n",
       "    </tr>\n",
       "  </thead>\n",
       "  <tbody>\n",
       "    <tr>\n",
       "      <th>6058</th>\n",
       "      <td>NaN</td>\n",
       "      <td>210</td>\n",
       "      <td>1377</td>\n",
       "      <td>342</td>\n",
       "      <td>226</td>\n",
       "      <td>1283</td>\n",
       "      <td>254</td>\n",
       "      <td>200</td>\n",
       "      <td>398</td>\n",
       "      <td>345</td>\n",
       "      <td>...</td>\n",
       "      <td>11B</td>\n",
       "      <td>New York</td>\n",
       "      <td>1</td>\n",
       "      <td>NaN</td>\n",
       "      <td>1</td>\n",
       "      <td>22</td>\n",
       "      <td>67</td>\n",
       "      <td>160</td>\n",
       "      <td>Right hand</td>\n",
       "      <td>29434.000</td>\n",
       "    </tr>\n",
       "    <tr>\n",
       "      <th>6059</th>\n",
       "      <td>NaN</td>\n",
       "      <td>224</td>\n",
       "      <td>1386</td>\n",
       "      <td>331</td>\n",
       "      <td>233</td>\n",
       "      <td>1265</td>\n",
       "      <td>245</td>\n",
       "      <td>195</td>\n",
       "      <td>401</td>\n",
       "      <td>426</td>\n",
       "      <td>...</td>\n",
       "      <td>11B</td>\n",
       "      <td>Texas</td>\n",
       "      <td>1</td>\n",
       "      <td>NaN</td>\n",
       "      <td>1</td>\n",
       "      <td>28</td>\n",
       "      <td>69</td>\n",
       "      <td>185</td>\n",
       "      <td>Right hand</td>\n",
       "      <td>29437.000</td>\n",
       "    </tr>\n",
       "    <tr>\n",
       "      <th>6060</th>\n",
       "      <td>NaN</td>\n",
       "      <td>208</td>\n",
       "      <td>1500</td>\n",
       "      <td>347</td>\n",
       "      <td>228</td>\n",
       "      <td>1398</td>\n",
       "      <td>265</td>\n",
       "      <td>217</td>\n",
       "      <td>424</td>\n",
       "      <td>312</td>\n",
       "      <td>...</td>\n",
       "      <td>68W</td>\n",
       "      <td>New York</td>\n",
       "      <td>1</td>\n",
       "      <td>NaN</td>\n",
       "      <td>1</td>\n",
       "      <td>25</td>\n",
       "      <td>74</td>\n",
       "      <td>170</td>\n",
       "      <td>Right hand</td>\n",
       "      <td>29439.000</td>\n",
       "    </tr>\n",
       "    <tr>\n",
       "      <th>6061</th>\n",
       "      <td>NaN</td>\n",
       "      <td>295</td>\n",
       "      <td>1434</td>\n",
       "      <td>321</td>\n",
       "      <td>217</td>\n",
       "      <td>1345</td>\n",
       "      <td>252</td>\n",
       "      <td>204</td>\n",
       "      <td>409</td>\n",
       "      <td>344</td>\n",
       "      <td>...</td>\n",
       "      <td>13B</td>\n",
       "      <td>California</td>\n",
       "      <td>1</td>\n",
       "      <td>NaN</td>\n",
       "      <td>1</td>\n",
       "      <td>25</td>\n",
       "      <td>70</td>\n",
       "      <td>190</td>\n",
       "      <td>Right hand</td>\n",
       "      <td>29440.000</td>\n",
       "    </tr>\n",
       "    <tr>\n",
       "      <th>6062</th>\n",
       "      <td>NaN</td>\n",
       "      <td>240</td>\n",
       "      <td>1458</td>\n",
       "      <td>343</td>\n",
       "      <td>231</td>\n",
       "      <td>1344</td>\n",
       "      <td>243</td>\n",
       "      <td>205</td>\n",
       "      <td>394</td>\n",
       "      <td>342</td>\n",
       "      <td>...</td>\n",
       "      <td>13R</td>\n",
       "      <td>California</td>\n",
       "      <td>1</td>\n",
       "      <td>NaN</td>\n",
       "      <td>1</td>\n",
       "      <td>21</td>\n",
       "      <td>73</td>\n",
       "      <td>197</td>\n",
       "      <td>Right hand</td>\n",
       "      <td>29441.000</td>\n",
       "    </tr>\n",
       "    <tr>\n",
       "      <th>6063</th>\n",
       "      <td>NaN</td>\n",
       "      <td>235</td>\n",
       "      <td>1353</td>\n",
       "      <td>312</td>\n",
       "      <td>216</td>\n",
       "      <td>1263</td>\n",
       "      <td>228</td>\n",
       "      <td>193</td>\n",
       "      <td>384</td>\n",
       "      <td>318</td>\n",
       "      <td>...</td>\n",
       "      <td>11B</td>\n",
       "      <td>Colorado</td>\n",
       "      <td>51</td>\n",
       "      <td>Blackfoot Cherokee Choctaw</td>\n",
       "      <td>1</td>\n",
       "      <td>22</td>\n",
       "      <td>67</td>\n",
       "      <td>160</td>\n",
       "      <td>Right hand</td>\n",
       "      <td>29442.000</td>\n",
       "    </tr>\n",
       "    <tr>\n",
       "      <th>6064</th>\n",
       "      <td>NaN</td>\n",
       "      <td>247</td>\n",
       "      <td>1473</td>\n",
       "      <td>336</td>\n",
       "      <td>234</td>\n",
       "      <td>1346</td>\n",
       "      <td>253</td>\n",
       "      <td>196</td>\n",
       "      <td>428</td>\n",
       "      <td>374</td>\n",
       "      <td>...</td>\n",
       "      <td>91B</td>\n",
       "      <td>Oklahoma</td>\n",
       "      <td>1</td>\n",
       "      <td>NaN</td>\n",
       "      <td>1</td>\n",
       "      <td>22</td>\n",
       "      <td>71</td>\n",
       "      <td>194</td>\n",
       "      <td>Right hand</td>\n",
       "      <td>29443.000</td>\n",
       "    </tr>\n",
       "    <tr>\n",
       "      <th>6065</th>\n",
       "      <td>NaN</td>\n",
       "      <td>264</td>\n",
       "      <td>1394</td>\n",
       "      <td>313</td>\n",
       "      <td>227</td>\n",
       "      <td>1280</td>\n",
       "      <td>245</td>\n",
       "      <td>193</td>\n",
       "      <td>407</td>\n",
       "      <td>367</td>\n",
       "      <td>...</td>\n",
       "      <td>13B</td>\n",
       "      <td>Oklahoma</td>\n",
       "      <td>1</td>\n",
       "      <td>NaN</td>\n",
       "      <td>1</td>\n",
       "      <td>23</td>\n",
       "      <td>67</td>\n",
       "      <td>186</td>\n",
       "      <td>Right hand</td>\n",
       "      <td>29447.000</td>\n",
       "    </tr>\n",
       "    <tr>\n",
       "      <th>6066</th>\n",
       "      <td>NaN</td>\n",
       "      <td>203</td>\n",
       "      <td>1417</td>\n",
       "      <td>327</td>\n",
       "      <td>223</td>\n",
       "      <td>1314</td>\n",
       "      <td>250</td>\n",
       "      <td>196</td>\n",
       "      <td>419</td>\n",
       "      <td>365</td>\n",
       "      <td>...</td>\n",
       "      <td>13P</td>\n",
       "      <td>Oklahoma</td>\n",
       "      <td>1</td>\n",
       "      <td>NaN</td>\n",
       "      <td>1</td>\n",
       "      <td>22</td>\n",
       "      <td>69</td>\n",
       "      <td>165</td>\n",
       "      <td>Right hand</td>\n",
       "      <td>29451.000</td>\n",
       "    </tr>\n",
       "    <tr>\n",
       "      <th>6067</th>\n",
       "      <td>NaN</td>\n",
       "      <td>327</td>\n",
       "      <td>1523</td>\n",
       "      <td>358</td>\n",
       "      <td>226</td>\n",
       "      <td>1408</td>\n",
       "      <td>269</td>\n",
       "      <td>225</td>\n",
       "      <td>442</td>\n",
       "      <td>379</td>\n",
       "      <td>...</td>\n",
       "      <td>92Y</td>\n",
       "      <td>Oklahoma</td>\n",
       "      <td>1</td>\n",
       "      <td>NaN</td>\n",
       "      <td>1</td>\n",
       "      <td>38</td>\n",
       "      <td>73</td>\n",
       "      <td>218</td>\n",
       "      <td>Right hand</td>\n",
       "      <td>29452.000</td>\n",
       "    </tr>\n",
       "  </tbody>\n",
       "</table>\n",
       "<p>10 rows × 109 columns</p>\n",
       "</div>"
      ],
      "text/plain": [
       "      SubjectId  abdominalextensiondepthsitting  acromialheight  \\\n",
       "6058        NaN                             210            1377   \n",
       "6059        NaN                             224            1386   \n",
       "6060        NaN                             208            1500   \n",
       "6061        NaN                             295            1434   \n",
       "6062        NaN                             240            1458   \n",
       "6063        NaN                             235            1353   \n",
       "6064        NaN                             247            1473   \n",
       "6065        NaN                             264            1394   \n",
       "6066        NaN                             203            1417   \n",
       "6067        NaN                             327            1523   \n",
       "\n",
       "      acromionradialelength  anklecircumference  axillaheight  \\\n",
       "6058                    342                 226          1283   \n",
       "6059                    331                 233          1265   \n",
       "6060                    347                 228          1398   \n",
       "6061                    321                 217          1345   \n",
       "6062                    343                 231          1344   \n",
       "6063                    312                 216          1263   \n",
       "6064                    336                 234          1346   \n",
       "6065                    313                 227          1280   \n",
       "6066                    327                 223          1314   \n",
       "6067                    358                 226          1408   \n",
       "\n",
       "      balloffootcircumference  balloffootlength  biacromialbreadth  \\\n",
       "6058                      254               200                398   \n",
       "6059                      245               195                401   \n",
       "6060                      265               217                424   \n",
       "6061                      252               204                409   \n",
       "6062                      243               205                394   \n",
       "6063                      228               193                384   \n",
       "6064                      253               196                428   \n",
       "6065                      245               193                407   \n",
       "6066                      250               196                419   \n",
       "6067                      269               225                442   \n",
       "\n",
       "      bicepscircumferenceflexed  ...  PrimaryMOS  SubjectsBirthLocation  \\\n",
       "6058                        345  ...         11B               New York   \n",
       "6059                        426  ...         11B                  Texas   \n",
       "6060                        312  ...         68W               New York   \n",
       "6061                        344  ...         13B             California   \n",
       "6062                        342  ...         13R             California   \n",
       "6063                        318  ...         11B               Colorado   \n",
       "6064                        374  ...         91B               Oklahoma   \n",
       "6065                        367  ...         13B               Oklahoma   \n",
       "6066                        365  ...         13P               Oklahoma   \n",
       "6067                        379  ...         92Y               Oklahoma   \n",
       "\n",
       "      SubjectNumericRace                   Ethnicity  DODRace  Age  Heightin  \\\n",
       "6058                   1                         NaN        1   22        67   \n",
       "6059                   1                         NaN        1   28        69   \n",
       "6060                   1                         NaN        1   25        74   \n",
       "6061                   1                         NaN        1   25        70   \n",
       "6062                   1                         NaN        1   21        73   \n",
       "6063                  51  Blackfoot Cherokee Choctaw        1   22        67   \n",
       "6064                   1                         NaN        1   22        71   \n",
       "6065                   1                         NaN        1   23        67   \n",
       "6066                   1                         NaN        1   22        69   \n",
       "6067                   1                         NaN        1   38        73   \n",
       "\n",
       "      Weightlbs  WritingPreference  subjectid  \n",
       "6058        160         Right hand  29434.000  \n",
       "6059        185         Right hand  29437.000  \n",
       "6060        170         Right hand  29439.000  \n",
       "6061        190         Right hand  29440.000  \n",
       "6062        197         Right hand  29441.000  \n",
       "6063        160         Right hand  29442.000  \n",
       "6064        194         Right hand  29443.000  \n",
       "6065        186         Right hand  29447.000  \n",
       "6066        165         Right hand  29451.000  \n",
       "6067        218         Right hand  29452.000  \n",
       "\n",
       "[10 rows x 109 columns]"
      ]
     },
     "execution_count": 27,
     "metadata": {},
     "output_type": "execute_result"
    }
   ],
   "source": [
    "data.tail(10)"
   ]
  },
  {
   "cell_type": "code",
   "execution_count": 28,
   "metadata": {},
   "outputs": [
    {
     "name": "stdout",
     "output_type": "stream",
     "text": [
      "<class 'pandas.core.frame.DataFrame'>\n",
      "RangeIndex: 6068 entries, 0 to 6067\n",
      "Data columns (total 109 columns):\n",
      " #    Column                          Dtype  \n",
      "---   ------                          -----  \n",
      " 0    SubjectId                       float64\n",
      " 1    abdominalextensiondepthsitting  int64  \n",
      " 2    acromialheight                  int64  \n",
      " 3    acromionradialelength           int64  \n",
      " 4    anklecircumference              int64  \n",
      " 5    axillaheight                    int64  \n",
      " 6    balloffootcircumference         int64  \n",
      " 7    balloffootlength                int64  \n",
      " 8    biacromialbreadth               int64  \n",
      " 9    bicepscircumferenceflexed       int64  \n",
      " 10   bicristalbreadth                int64  \n",
      " 11   bideltoidbreadth                int64  \n",
      " 12   bimalleolarbreadth              int64  \n",
      " 13   bitragionchinarc                int64  \n",
      " 14   bitragionsubmandibulararc       int64  \n",
      " 15   bizygomaticbreadth              int64  \n",
      " 16   buttockcircumference            int64  \n",
      " 17   buttockdepth                    int64  \n",
      " 18   buttockheight                   int64  \n",
      " 19   buttockkneelength               int64  \n",
      " 20   buttockpopliteallength          int64  \n",
      " 21   calfcircumference               int64  \n",
      " 22   cervicaleheight                 int64  \n",
      " 23   chestbreadth                    int64  \n",
      " 24   chestcircumference              int64  \n",
      " 25   chestdepth                      int64  \n",
      " 26   chestheight                     int64  \n",
      " 27   crotchheight                    int64  \n",
      " 28   crotchlengthomphalion           int64  \n",
      " 29   crotchlengthposterioromphalion  int64  \n",
      " 30   earbreadth                      int64  \n",
      " 31   earlength                       int64  \n",
      " 32   earprotrusion                   int64  \n",
      " 33   elbowrestheight                 int64  \n",
      " 34   eyeheightsitting                int64  \n",
      " 35   footbreadthhorizontal           int64  \n",
      " 36   footlength                      int64  \n",
      " 37   forearmcenterofgriplength       int64  \n",
      " 38   forearmcircumferenceflexed      int64  \n",
      " 39   forearmforearmbreadth           int64  \n",
      " 40   forearmhandlength               int64  \n",
      " 41   functionalleglength             int64  \n",
      " 42   handbreadth                     int64  \n",
      " 43   handcircumference               int64  \n",
      " 44   handlength                      int64  \n",
      " 45   headbreadth                     int64  \n",
      " 46   headcircumference               int64  \n",
      " 47   headlength                      int64  \n",
      " 48   heelanklecircumference          int64  \n",
      " 49   heelbreadth                     int64  \n",
      " 50   hipbreadth                      int64  \n",
      " 51   hipbreadthsitting               int64  \n",
      " 52   iliocristaleheight              int64  \n",
      " 53   interpupillarybreadth           int64  \n",
      " 54   interscyei                      int64  \n",
      " 55   interscyeii                     int64  \n",
      " 56   kneeheightmidpatella            int64  \n",
      " 57   kneeheightsitting               int64  \n",
      " 58   lateralfemoralepicondyleheight  int64  \n",
      " 59   lateralmalleolusheight          int64  \n",
      " 60   lowerthighcircumference         int64  \n",
      " 61   mentonsellionlength             int64  \n",
      " 62   neckcircumference               int64  \n",
      " 63   neckcircumferencebase           int64  \n",
      " 64   overheadfingertipreachsitting   int64  \n",
      " 65   palmlength                      int64  \n",
      " 66   poplitealheight                 int64  \n",
      " 67   radialestylionlength            int64  \n",
      " 68   shouldercircumference           int64  \n",
      " 69   shoulderelbowlength             int64  \n",
      " 70   shoulderlength                  int64  \n",
      " 71   sittingheight                   int64  \n",
      " 72   sleevelengthspinewrist          int64  \n",
      " 73   sleeveoutseam                   int64  \n",
      " 74   span                            int64  \n",
      " 75   stature                         int64  \n",
      " 76   suprasternaleheight             int64  \n",
      " 77   tenthribheight                  int64  \n",
      " 78   thighcircumference              int64  \n",
      " 79   thighclearance                  int64  \n",
      " 80   thumbtipreach                   int64  \n",
      " 81   tibialheight                    int64  \n",
      " 82   tragiontopofhead                int64  \n",
      " 83   trochanterionheight             int64  \n",
      " 84   verticaltrunkcircumferenceusa   int64  \n",
      " 85   waistbacklength                 int64  \n",
      " 86   waistbreadth                    int64  \n",
      " 87   waistcircumference              int64  \n",
      " 88   waistdepth                      int64  \n",
      " 89   waistfrontlengthsitting         int64  \n",
      " 90   waistheightomphalion            int64  \n",
      " 91   weightkg                        int64  \n",
      " 92   wristcircumference              int64  \n",
      " 93   wristheight                     int64  \n",
      " 94   Gender                          object \n",
      " 95   Date                            object \n",
      " 96   Installation                    object \n",
      " 97   Component                       object \n",
      " 98   Branch                          object \n",
      " 99   PrimaryMOS                      object \n",
      " 100  SubjectsBirthLocation           object \n",
      " 101  SubjectNumericRace              int64  \n",
      " 102  Ethnicity                       object \n",
      " 103  DODRace                         int64  \n",
      " 104  Age                             int64  \n",
      " 105  Heightin                        int64  \n",
      " 106  Weightlbs                       int64  \n",
      " 107  WritingPreference               object \n",
      " 108  subjectid                       float64\n",
      "dtypes: float64(2), int64(98), object(9)\n",
      "memory usage: 5.0+ MB\n"
     ]
    }
   ],
   "source": [
    "data.info(verbose=True)"
   ]
  },
  {
   "cell_type": "code",
   "execution_count": 29,
   "metadata": {},
   "outputs": [
    {
     "data": {
      "text/plain": [
       "0"
      ]
     },
     "execution_count": 29,
     "metadata": {},
     "output_type": "execute_result"
    }
   ],
   "source": [
    "data.duplicated().sum()"
   ]
  },
  {
   "cell_type": "code",
   "execution_count": 30,
   "metadata": {},
   "outputs": [
    {
     "data": {
      "text/plain": [
       "1    3792\n",
       "2    1298\n",
       "3     679\n",
       "4     188\n",
       "6      59\n",
       "5      49\n",
       "8       3\n",
       "Name: DODRace, dtype: int64"
      ]
     },
     "execution_count": 30,
     "metadata": {},
     "output_type": "execute_result"
    }
   ],
   "source": [
    "data.DODRace.value_counts(dropna=False)"
   ]
  },
  {
   "cell_type": "code",
   "execution_count": 31,
   "metadata": {},
   "outputs": [
    {
     "data": {
      "text/plain": [
       "['SubjectId', 'Ethnicity']"
      ]
     },
     "execution_count": 31,
     "metadata": {},
     "output_type": "execute_result"
    }
   ],
   "source": [
    "will_drop = []\n",
    "\n",
    "for col in data:\n",
    "    if(data[col].isnull().sum()>(data.shape[0]//3)):\n",
    "        will_drop.append(col)\n",
    "will_drop       "
   ]
  },
  {
   "cell_type": "code",
   "execution_count": 32,
   "metadata": {},
   "outputs": [],
   "source": [
    "data.drop(will_drop, axis=1, inplace=True)"
   ]
  },
  {
   "cell_type": "code",
   "execution_count": 33,
   "metadata": {},
   "outputs": [
    {
     "data": {
      "text/plain": [
       "True"
      ]
     },
     "execution_count": 33,
     "metadata": {},
     "output_type": "execute_result"
    }
   ],
   "source": [
    "data.isnull().sum().any()"
   ]
  },
  {
   "cell_type": "code",
   "execution_count": 34,
   "metadata": {},
   "outputs": [
    {
     "data": {
      "text/plain": [
       "(6068, 107)"
      ]
     },
     "execution_count": 34,
     "metadata": {},
     "output_type": "execute_result"
    }
   ],
   "source": [
    "data.shape"
   ]
  },
  {
   "cell_type": "code",
   "execution_count": 35,
   "metadata": {},
   "outputs": [
    {
     "name": "stdout",
     "output_type": "stream",
     "text": [
      "Gender has 2 unique value\n",
      "Date has 253 unique value\n",
      "Installation has 12 unique value\n",
      "Component has 3 unique value\n",
      "Branch has 3 unique value\n",
      "PrimaryMOS has 285 unique value\n",
      "SubjectsBirthLocation has 152 unique value\n",
      "WritingPreference has 3 unique value\n"
     ]
    }
   ],
   "source": [
    "# how many unique values object features have\n",
    "\n",
    "for col in data.select_dtypes(\"object\"):\n",
    "    print(f\"{col} has {data[col].nunique()} unique value\")"
   ]
  },
  {
   "cell_type": "code",
   "execution_count": 36,
   "metadata": {},
   "outputs": [
    {
     "data": {
      "text/plain": [
       "array([2, 3, 1, 6, 4, 5, 8], dtype=int64)"
      ]
     },
     "execution_count": 36,
     "metadata": {},
     "output_type": "execute_result"
    }
   ],
   "source": [
    "data.DODRace.unique()"
   ]
  },
  {
   "cell_type": "code",
   "execution_count": 37,
   "metadata": {},
   "outputs": [
    {
     "data": {
      "text/plain": [
       "1        3561\n",
       "2        1026\n",
       "3         541\n",
       "31        160\n",
       "51        126\n",
       "8         116\n",
       "4         109\n",
       "21         60\n",
       "6          59\n",
       "41         46\n",
       "61         35\n",
       "23         34\n",
       "28         26\n",
       "251        20\n",
       "5          18\n",
       "18         18\n",
       "25         14\n",
       "351        10\n",
       "38          9\n",
       "62          8\n",
       "35          8\n",
       "64          8\n",
       "42          7\n",
       "63          7\n",
       "231         6\n",
       "43          5\n",
       "235         4\n",
       "218         3\n",
       "651         2\n",
       "641         2\n",
       "431         2\n",
       "423         2\n",
       "2518        2\n",
       "451         2\n",
       "2351        2\n",
       "318         2\n",
       "425         1\n",
       "238         1\n",
       "358         1\n",
       "48          1\n",
       "42351       1\n",
       "428         1\n",
       "631         1\n",
       "4251        1\n",
       "Name: SubjectNumericRace, dtype: int64"
      ]
     },
     "execution_count": 37,
     "metadata": {},
     "output_type": "execute_result"
    }
   ],
   "source": [
    "data.SubjectNumericRace.value_counts(dropna=False)"
   ]
  },
  {
   "cell_type": "code",
   "execution_count": 38,
   "metadata": {},
   "outputs": [],
   "source": [
    "data.drop(\"SubjectNumericRace\", axis=1, inplace=True)"
   ]
  },
  {
   "cell_type": "code",
   "execution_count": 39,
   "metadata": {},
   "outputs": [
    {
     "data": {
      "text/plain": [
       "1    3792\n",
       "2    1298\n",
       "3     679\n",
       "4     188\n",
       "6      59\n",
       "5      49\n",
       "8       3\n",
       "Name: DODRace, dtype: int64"
      ]
     },
     "execution_count": 39,
     "metadata": {},
     "output_type": "execute_result"
    }
   ],
   "source": [
    "data.DODRace.value_counts(dropna=False)"
   ]
  },
  {
   "cell_type": "code",
   "execution_count": 40,
   "metadata": {},
   "outputs": [],
   "source": [
    "data[\"DODRace\"] = data.DODRace.map({\n",
    "    1: \"White\",\n",
    "    2: \"Black\",\n",
    "    3: \"Hispanic\",\n",
    "    4: \"Asian\",\n",
    "    5: \"Native American\",\n",
    "    6: \"Pacific Islander\",\n",
    "    8: \"Other\"\n",
    "})"
   ]
  },
  {
   "cell_type": "code",
   "execution_count": 41,
   "metadata": {},
   "outputs": [
    {
     "data": {
      "text/plain": [
       "White               3792\n",
       "Black               1298\n",
       "Hispanic             679\n",
       "Asian                188\n",
       "Pacific Islander      59\n",
       "Native American       49\n",
       "Other                  3\n",
       "Name: DODRace, dtype: int64"
      ]
     },
     "execution_count": 41,
     "metadata": {},
     "output_type": "execute_result"
    }
   ],
   "source": [
    "data.DODRace.value_counts(dropna=False)"
   ]
  },
  {
   "cell_type": "code",
   "execution_count": 42,
   "metadata": {},
   "outputs": [
    {
     "data": {
      "text/plain": [
       "<AxesSubplot:ylabel='Component,DODRace'>"
      ]
     },
     "execution_count": 42,
     "metadata": {},
     "output_type": "execute_result"
    },
    {
     "data": {
      "image/png": "[encoded data removed]",
      "text/plain": [
       "<Figure size 720x432 with 1 Axes>"
      ]
     },
     "metadata": {
      "needs_background": "light"
     },
     "output_type": "display_data"
    }
   ],
   "source": [
    "data.groupby([\"Component\"])[\"DODRace\"].value_counts().plot(kind=\"barh\")"
   ]
  },
  {
   "cell_type": "code",
   "execution_count": 43,
   "metadata": {},
   "outputs": [
    {
     "data": {
      "text/plain": [
       "Component            Branch                  DODRace         \n",
       "Army National Guard  Combat Arms             White              0.772\n",
       "                                             Black              0.098\n",
       "                                             Hispanic           0.092\n",
       "                                             Asian              0.022\n",
       "                                             Native American    0.011\n",
       "                                             Pacific Islander   0.005\n",
       "                     Combat Service Support  White              0.644\n",
       "                                             Black              0.219\n",
       "                                             Hispanic           0.100\n",
       "                                             Asian              0.023\n",
       "                                             Pacific Islander   0.008\n",
       "                                             Native American    0.007\n",
       "                     Combat Support          White              0.662\n",
       "                                             Black              0.227\n",
       "                                             Hispanic           0.078\n",
       "                                             Asian              0.019\n",
       "                                             Native American    0.011\n",
       "                                             Pacific Islander   0.004\n",
       "Army Reserve         Combat Arms             White              0.833\n",
       "                                             Hispanic           0.167\n",
       "                     Combat Service Support  White              0.562\n",
       "                                             Hispanic           0.205\n",
       "                                             Black              0.164\n",
       "                                             Asian              0.048\n",
       "                                             Pacific Islander   0.014\n",
       "                                             Native American    0.007\n",
       "                     Combat Support          Black              0.412\n",
       "                                             White              0.397\n",
       "                                             Hispanic           0.147\n",
       "                                             Asian              0.029\n",
       "                                             Pacific Islander   0.015\n",
       "Regular Army         Combat Arms             White              0.674\n",
       "                                             Hispanic           0.148\n",
       "                                             Black              0.122\n",
       "                                             Asian              0.034\n",
       "                                             Pacific Islander   0.012\n",
       "                                             Native American    0.009\n",
       "                                             Other              0.001\n",
       "                     Combat Service Support  White              0.569\n",
       "                                             Black              0.255\n",
       "                                             Hispanic           0.120\n",
       "                                             Asian              0.037\n",
       "                                             Native American    0.009\n",
       "                                             Pacific Islander   0.009\n",
       "                                             Other              0.001\n",
       "                     Combat Support          White              0.512\n",
       "                                             Black              0.318\n",
       "                                             Hispanic           0.102\n",
       "                                             Asian              0.044\n",
       "                                             Pacific Islander   0.021\n",
       "                                             Native American    0.004\n",
       "Name: DODRace, dtype: float64"
      ]
     },
     "execution_count": 43,
     "metadata": {},
     "output_type": "execute_result"
    }
   ],
   "source": [
    "data.groupby([\"Component\", \"Branch\"])[\"DODRace\"].value_counts(normalize=True)"
   ]
  },
  {
   "cell_type": "code",
   "execution_count": 44,
   "metadata": {},
   "outputs": [
    {
     "name": "stdout",
     "output_type": "stream",
     "text": [
      "<class 'pandas.core.frame.DataFrame'>\n",
      "RangeIndex: 6068 entries, 0 to 6067\n",
      "Data columns (total 106 columns):\n",
      " #    Column                          Dtype  \n",
      "---   ------                          -----  \n",
      " 0    abdominalextensiondepthsitting  int64  \n",
      " 1    acromialheight                  int64  \n",
      " 2    acromionradialelength           int64  \n",
      " 3    anklecircumference              int64  \n",
      " 4    axillaheight                    int64  \n",
      " 5    balloffootcircumference         int64  \n",
      " 6    balloffootlength                int64  \n",
      " 7    biacromialbreadth               int64  \n",
      " 8    bicepscircumferenceflexed       int64  \n",
      " 9    bicristalbreadth                int64  \n",
      " 10   bideltoidbreadth                int64  \n",
      " 11   bimalleolarbreadth              int64  \n",
      " 12   bitragionchinarc                int64  \n",
      " 13   bitragionsubmandibulararc       int64  \n",
      " 14   bizygomaticbreadth              int64  \n",
      " 15   buttockcircumference            int64  \n",
      " 16   buttockdepth                    int64  \n",
      " 17   buttockheight                   int64  \n",
      " 18   buttockkneelength               int64  \n",
      " 19   buttockpopliteallength          int64  \n",
      " 20   calfcircumference               int64  \n",
      " 21   cervicaleheight                 int64  \n",
      " 22   chestbreadth                    int64  \n",
      " 23   chestcircumference              int64  \n",
      " 24   chestdepth                      int64  \n",
      " 25   chestheight                     int64  \n",
      " 26   crotchheight                    int64  \n",
      " 27   crotchlengthomphalion           int64  \n",
      " 28   crotchlengthposterioromphalion  int64  \n",
      " 29   earbreadth                      int64  \n",
      " 30   earlength                       int64  \n",
      " 31   earprotrusion                   int64  \n",
      " 32   elbowrestheight                 int64  \n",
      " 33   eyeheightsitting                int64  \n",
      " 34   footbreadthhorizontal           int64  \n",
      " 35   footlength                      int64  \n",
      " 36   forearmcenterofgriplength       int64  \n",
      " 37   forearmcircumferenceflexed      int64  \n",
      " 38   forearmforearmbreadth           int64  \n",
      " 39   forearmhandlength               int64  \n",
      " 40   functionalleglength             int64  \n",
      " 41   handbreadth                     int64  \n",
      " 42   handcircumference               int64  \n",
      " 43   handlength                      int64  \n",
      " 44   headbreadth                     int64  \n",
      " 45   headcircumference               int64  \n",
      " 46   headlength                      int64  \n",
      " 47   heelanklecircumference          int64  \n",
      " 48   heelbreadth                     int64  \n",
      " 49   hipbreadth                      int64  \n",
      " 50   hipbreadthsitting               int64  \n",
      " 51   iliocristaleheight              int64  \n",
      " 52   interpupillarybreadth           int64  \n",
      " 53   interscyei                      int64  \n",
      " 54   interscyeii                     int64  \n",
      " 55   kneeheightmidpatella            int64  \n",
      " 56   kneeheightsitting               int64  \n",
      " 57   lateralfemoralepicondyleheight  int64  \n",
      " 58   lateralmalleolusheight          int64  \n",
      " 59   lowerthighcircumference         int64  \n",
      " 60   mentonsellionlength             int64  \n",
      " 61   neckcircumference               int64  \n",
      " 62   neckcircumferencebase           int64  \n",
      " 63   overheadfingertipreachsitting   int64  \n",
      " 64   palmlength                      int64  \n",
      " 65   poplitealheight                 int64  \n",
      " 66   radialestylionlength            int64  \n",
      " 67   shouldercircumference           int64  \n",
      " 68   shoulderelbowlength             int64  \n",
      " 69   shoulderlength                  int64  \n",
      " 70   sittingheight                   int64  \n",
      " 71   sleevelengthspinewrist          int64  \n",
      " 72   sleeveoutseam                   int64  \n",
      " 73   span                            int64  \n",
      " 74   stature                         int64  \n",
      " 75   suprasternaleheight             int64  \n",
      " 76   tenthribheight                  int64  \n",
      " 77   thighcircumference              int64  \n",
      " 78   thighclearance                  int64  \n",
      " 79   thumbtipreach                   int64  \n",
      " 80   tibialheight                    int64  \n",
      " 81   tragiontopofhead                int64  \n",
      " 82   trochanterionheight             int64  \n",
      " 83   verticaltrunkcircumferenceusa   int64  \n",
      " 84   waistbacklength                 int64  \n",
      " 85   waistbreadth                    int64  \n",
      " 86   waistcircumference              int64  \n",
      " 87   waistdepth                      int64  \n",
      " 88   waistfrontlengthsitting         int64  \n",
      " 89   waistheightomphalion            int64  \n",
      " 90   weightkg                        int64  \n",
      " 91   wristcircumference              int64  \n",
      " 92   wristheight                     int64  \n",
      " 93   Gender                          object \n",
      " 94   Date                            object \n",
      " 95   Installation                    object \n",
      " 96   Component                       object \n",
      " 97   Branch                          object \n",
      " 98   PrimaryMOS                      object \n",
      " 99   SubjectsBirthLocation           object \n",
      " 100  DODRace                         object \n",
      " 101  Age                             int64  \n",
      " 102  Heightin                        int64  \n",
      " 103  Weightlbs                       int64  \n",
      " 104  WritingPreference               object \n",
      " 105  subjectid                       float64\n",
      "dtypes: float64(1), int64(96), object(9)\n",
      "memory usage: 4.9+ MB\n"
     ]
    }
   ],
   "source": [
    "data.info(verbose=True)"
   ]
  },
  {
   "cell_type": "code",
   "execution_count": 45,
   "metadata": {},
   "outputs": [],
   "source": [
    "drop_list1 = [\n",
    "    \"Date\", \"Installation\", \"Component\", \"Branch\", \"PrimaryMOS\",\n",
    "    \"Weightlbs\", \"Heightin\"   \n",
    "]\n",
    "\n",
    "data.drop(drop_list1, axis=1, inplace=True)"
   ]
  },
  {
   "cell_type": "code",
   "execution_count": 46,
   "metadata": {},
   "outputs": [
    {
     "data": {
      "text/html": [
       "<div>\n",
       "<style scoped>\n",
       "    .dataframe tbody tr th:only-of-type {\n",
       "        vertical-align: middle;\n",
       "    }\n",
       "\n",
       "    .dataframe tbody tr th {\n",
       "        vertical-align: top;\n",
       "    }\n",
       "\n",
       "    .dataframe thead th {\n",
       "        text-align: right;\n",
       "    }\n",
       "</style>\n",
       "<table border=\"1\" class=\"dataframe\">\n",
       "  <thead>\n",
       "    <tr style=\"text-align: right;\">\n",
       "      <th></th>\n",
       "      <th>abdominalextensiondepthsitting</th>\n",
       "      <th>acromialheight</th>\n",
       "      <th>acromionradialelength</th>\n",
       "      <th>anklecircumference</th>\n",
       "      <th>axillaheight</th>\n",
       "      <th>balloffootcircumference</th>\n",
       "      <th>balloffootlength</th>\n",
       "      <th>biacromialbreadth</th>\n",
       "      <th>bicepscircumferenceflexed</th>\n",
       "      <th>bicristalbreadth</th>\n",
       "      <th>...</th>\n",
       "      <th>waistheightomphalion</th>\n",
       "      <th>weightkg</th>\n",
       "      <th>wristcircumference</th>\n",
       "      <th>wristheight</th>\n",
       "      <th>Gender</th>\n",
       "      <th>SubjectsBirthLocation</th>\n",
       "      <th>DODRace</th>\n",
       "      <th>Age</th>\n",
       "      <th>WritingPreference</th>\n",
       "      <th>subjectid</th>\n",
       "    </tr>\n",
       "  </thead>\n",
       "  <tbody>\n",
       "    <tr>\n",
       "      <th>0</th>\n",
       "      <td>231</td>\n",
       "      <td>1282</td>\n",
       "      <td>301</td>\n",
       "      <td>204</td>\n",
       "      <td>1180</td>\n",
       "      <td>222</td>\n",
       "      <td>177</td>\n",
       "      <td>373</td>\n",
       "      <td>315</td>\n",
       "      <td>263</td>\n",
       "      <td>...</td>\n",
       "      <td>942</td>\n",
       "      <td>657</td>\n",
       "      <td>152</td>\n",
       "      <td>756</td>\n",
       "      <td>Female</td>\n",
       "      <td>Germany</td>\n",
       "      <td>Black</td>\n",
       "      <td>26</td>\n",
       "      <td>Right hand</td>\n",
       "      <td>NaN</td>\n",
       "    </tr>\n",
       "    <tr>\n",
       "      <th>1</th>\n",
       "      <td>194</td>\n",
       "      <td>1379</td>\n",
       "      <td>320</td>\n",
       "      <td>207</td>\n",
       "      <td>1292</td>\n",
       "      <td>225</td>\n",
       "      <td>178</td>\n",
       "      <td>372</td>\n",
       "      <td>272</td>\n",
       "      <td>250</td>\n",
       "      <td>...</td>\n",
       "      <td>1032</td>\n",
       "      <td>534</td>\n",
       "      <td>155</td>\n",
       "      <td>815</td>\n",
       "      <td>Female</td>\n",
       "      <td>California</td>\n",
       "      <td>Hispanic</td>\n",
       "      <td>21</td>\n",
       "      <td>Right hand</td>\n",
       "      <td>NaN</td>\n",
       "    </tr>\n",
       "    <tr>\n",
       "      <th>2</th>\n",
       "      <td>183</td>\n",
       "      <td>1369</td>\n",
       "      <td>329</td>\n",
       "      <td>233</td>\n",
       "      <td>1271</td>\n",
       "      <td>237</td>\n",
       "      <td>196</td>\n",
       "      <td>397</td>\n",
       "      <td>300</td>\n",
       "      <td>276</td>\n",
       "      <td>...</td>\n",
       "      <td>1035</td>\n",
       "      <td>663</td>\n",
       "      <td>162</td>\n",
       "      <td>799</td>\n",
       "      <td>Female</td>\n",
       "      <td>Texas</td>\n",
       "      <td>White</td>\n",
       "      <td>23</td>\n",
       "      <td>Right hand</td>\n",
       "      <td>NaN</td>\n",
       "    </tr>\n",
       "    <tr>\n",
       "      <th>3</th>\n",
       "      <td>261</td>\n",
       "      <td>1356</td>\n",
       "      <td>306</td>\n",
       "      <td>214</td>\n",
       "      <td>1250</td>\n",
       "      <td>240</td>\n",
       "      <td>188</td>\n",
       "      <td>384</td>\n",
       "      <td>364</td>\n",
       "      <td>276</td>\n",
       "      <td>...</td>\n",
       "      <td>999</td>\n",
       "      <td>782</td>\n",
       "      <td>173</td>\n",
       "      <td>818</td>\n",
       "      <td>Female</td>\n",
       "      <td>District of Columbia</td>\n",
       "      <td>Black</td>\n",
       "      <td>22</td>\n",
       "      <td>Right hand</td>\n",
       "      <td>NaN</td>\n",
       "    </tr>\n",
       "    <tr>\n",
       "      <th>4</th>\n",
       "      <td>309</td>\n",
       "      <td>1303</td>\n",
       "      <td>308</td>\n",
       "      <td>214</td>\n",
       "      <td>1210</td>\n",
       "      <td>217</td>\n",
       "      <td>182</td>\n",
       "      <td>378</td>\n",
       "      <td>320</td>\n",
       "      <td>336</td>\n",
       "      <td>...</td>\n",
       "      <td>911</td>\n",
       "      <td>886</td>\n",
       "      <td>152</td>\n",
       "      <td>762</td>\n",
       "      <td>Female</td>\n",
       "      <td>Texas</td>\n",
       "      <td>White</td>\n",
       "      <td>45</td>\n",
       "      <td>Right hand</td>\n",
       "      <td>NaN</td>\n",
       "    </tr>\n",
       "    <tr>\n",
       "      <th>...</th>\n",
       "      <td>...</td>\n",
       "      <td>...</td>\n",
       "      <td>...</td>\n",
       "      <td>...</td>\n",
       "      <td>...</td>\n",
       "      <td>...</td>\n",
       "      <td>...</td>\n",
       "      <td>...</td>\n",
       "      <td>...</td>\n",
       "      <td>...</td>\n",
       "      <td>...</td>\n",
       "      <td>...</td>\n",
       "      <td>...</td>\n",
       "      <td>...</td>\n",
       "      <td>...</td>\n",
       "      <td>...</td>\n",
       "      <td>...</td>\n",
       "      <td>...</td>\n",
       "      <td>...</td>\n",
       "      <td>...</td>\n",
       "      <td>...</td>\n",
       "    </tr>\n",
       "    <tr>\n",
       "      <th>6063</th>\n",
       "      <td>235</td>\n",
       "      <td>1353</td>\n",
       "      <td>312</td>\n",
       "      <td>216</td>\n",
       "      <td>1263</td>\n",
       "      <td>228</td>\n",
       "      <td>193</td>\n",
       "      <td>384</td>\n",
       "      <td>318</td>\n",
       "      <td>241</td>\n",
       "      <td>...</td>\n",
       "      <td>1016</td>\n",
       "      <td>675</td>\n",
       "      <td>163</td>\n",
       "      <td>778</td>\n",
       "      <td>Male</td>\n",
       "      <td>Colorado</td>\n",
       "      <td>White</td>\n",
       "      <td>22</td>\n",
       "      <td>Right hand</td>\n",
       "      <td>29442.000</td>\n",
       "    </tr>\n",
       "    <tr>\n",
       "      <th>6064</th>\n",
       "      <td>247</td>\n",
       "      <td>1473</td>\n",
       "      <td>336</td>\n",
       "      <td>234</td>\n",
       "      <td>1346</td>\n",
       "      <td>253</td>\n",
       "      <td>196</td>\n",
       "      <td>428</td>\n",
       "      <td>374</td>\n",
       "      <td>284</td>\n",
       "      <td>...</td>\n",
       "      <td>1082</td>\n",
       "      <td>896</td>\n",
       "      <td>178</td>\n",
       "      <td>873</td>\n",
       "      <td>Male</td>\n",
       "      <td>Oklahoma</td>\n",
       "      <td>White</td>\n",
       "      <td>22</td>\n",
       "      <td>Right hand</td>\n",
       "      <td>29443.000</td>\n",
       "    </tr>\n",
       "    <tr>\n",
       "      <th>6065</th>\n",
       "      <td>264</td>\n",
       "      <td>1394</td>\n",
       "      <td>313</td>\n",
       "      <td>227</td>\n",
       "      <td>1280</td>\n",
       "      <td>245</td>\n",
       "      <td>193</td>\n",
       "      <td>407</td>\n",
       "      <td>367</td>\n",
       "      <td>271</td>\n",
       "      <td>...</td>\n",
       "      <td>1011</td>\n",
       "      <td>832</td>\n",
       "      <td>178</td>\n",
       "      <td>822</td>\n",
       "      <td>Male</td>\n",
       "      <td>Oklahoma</td>\n",
       "      <td>White</td>\n",
       "      <td>23</td>\n",
       "      <td>Right hand</td>\n",
       "      <td>29447.000</td>\n",
       "    </tr>\n",
       "    <tr>\n",
       "      <th>6066</th>\n",
       "      <td>203</td>\n",
       "      <td>1417</td>\n",
       "      <td>327</td>\n",
       "      <td>223</td>\n",
       "      <td>1314</td>\n",
       "      <td>250</td>\n",
       "      <td>196</td>\n",
       "      <td>419</td>\n",
       "      <td>365</td>\n",
       "      <td>271</td>\n",
       "      <td>...</td>\n",
       "      <td>1062</td>\n",
       "      <td>731</td>\n",
       "      <td>172</td>\n",
       "      <td>837</td>\n",
       "      <td>Male</td>\n",
       "      <td>Oklahoma</td>\n",
       "      <td>White</td>\n",
       "      <td>22</td>\n",
       "      <td>Right hand</td>\n",
       "      <td>29451.000</td>\n",
       "    </tr>\n",
       "    <tr>\n",
       "      <th>6067</th>\n",
       "      <td>327</td>\n",
       "      <td>1523</td>\n",
       "      <td>358</td>\n",
       "      <td>226</td>\n",
       "      <td>1408</td>\n",
       "      <td>269</td>\n",
       "      <td>225</td>\n",
       "      <td>442</td>\n",
       "      <td>379</td>\n",
       "      <td>275</td>\n",
       "      <td>...</td>\n",
       "      <td>1119</td>\n",
       "      <td>985</td>\n",
       "      <td>182</td>\n",
       "      <td>894</td>\n",
       "      <td>Male</td>\n",
       "      <td>Oklahoma</td>\n",
       "      <td>White</td>\n",
       "      <td>38</td>\n",
       "      <td>Right hand</td>\n",
       "      <td>29452.000</td>\n",
       "    </tr>\n",
       "  </tbody>\n",
       "</table>\n",
       "<p>5769 rows × 99 columns</p>\n",
       "</div>"
      ],
      "text/plain": [
       "      abdominalextensiondepthsitting  acromialheight  acromionradialelength  \\\n",
       "0                                231            1282                    301   \n",
       "1                                194            1379                    320   \n",
       "2                                183            1369                    329   \n",
       "3                                261            1356                    306   \n",
       "4                                309            1303                    308   \n",
       "...                              ...             ...                    ...   \n",
       "6063                             235            1353                    312   \n",
       "6064                             247            1473                    336   \n",
       "6065                             264            1394                    313   \n",
       "6066                             203            1417                    327   \n",
       "6067                             327            1523                    358   \n",
       "\n",
       "      anklecircumference  axillaheight  balloffootcircumference  \\\n",
       "0                    204          1180                      222   \n",
       "1                    207          1292                      225   \n",
       "2                    233          1271                      237   \n",
       "3                    214          1250                      240   \n",
       "4                    214          1210                      217   \n",
       "...                  ...           ...                      ...   \n",
       "6063                 216          1263                      228   \n",
       "6064                 234          1346                      253   \n",
       "6065                 227          1280                      245   \n",
       "6066                 223          1314                      250   \n",
       "6067                 226          1408                      269   \n",
       "\n",
       "      balloffootlength  biacromialbreadth  bicepscircumferenceflexed  \\\n",
       "0                  177                373                        315   \n",
       "1                  178                372                        272   \n",
       "2                  196                397                        300   \n",
       "3                  188                384                        364   \n",
       "4                  182                378                        320   \n",
       "...                ...                ...                        ...   \n",
       "6063               193                384                        318   \n",
       "6064               196                428                        374   \n",
       "6065               193                407                        367   \n",
       "6066               196                419                        365   \n",
       "6067               225                442                        379   \n",
       "\n",
       "      bicristalbreadth  ...  waistheightomphalion  weightkg  \\\n",
       "0                  263  ...                   942       657   \n",
       "1                  250  ...                  1032       534   \n",
       "2                  276  ...                  1035       663   \n",
       "3                  276  ...                   999       782   \n",
       "4                  336  ...                   911       886   \n",
       "...                ...  ...                   ...       ...   \n",
       "6063               241  ...                  1016       675   \n",
       "6064               284  ...                  1082       896   \n",
       "6065               271  ...                  1011       832   \n",
       "6066               271  ...                  1062       731   \n",
       "6067               275  ...                  1119       985   \n",
       "\n",
       "      wristcircumference  wristheight  Gender  SubjectsBirthLocation  \\\n",
       "0                    152          756  Female                Germany   \n",
       "1                    155          815  Female             California   \n",
       "2                    162          799  Female                  Texas   \n",
       "3                    173          818  Female   District of Columbia   \n",
       "4                    152          762  Female                  Texas   \n",
       "...                  ...          ...     ...                    ...   \n",
       "6063                 163          778    Male               Colorado   \n",
       "6064                 178          873    Male               Oklahoma   \n",
       "6065                 178          822    Male               Oklahoma   \n",
       "6066                 172          837    Male               Oklahoma   \n",
       "6067                 182          894    Male               Oklahoma   \n",
       "\n",
       "       DODRace  Age  WritingPreference  subjectid  \n",
       "0        Black   26         Right hand        NaN  \n",
       "1     Hispanic   21         Right hand        NaN  \n",
       "2        White   23         Right hand        NaN  \n",
       "3        Black   22         Right hand        NaN  \n",
       "4        White   45         Right hand        NaN  \n",
       "...        ...  ...                ...        ...  \n",
       "6063     White   22         Right hand  29442.000  \n",
       "6064     White   22         Right hand  29443.000  \n",
       "6065     White   23         Right hand  29447.000  \n",
       "6066     White   22         Right hand  29451.000  \n",
       "6067     White   38         Right hand  29452.000  \n",
       "\n",
       "[5769 rows x 99 columns]"
      ]
     },
     "execution_count": 46,
     "metadata": {},
     "output_type": "execute_result"
    }
   ],
   "source": [
    "# selected only White, Black, Hispanic\n",
    "\n",
    "data = data[(data[\"DODRace\"] == \"White\") | (data[\"DODRace\"] == \"Black\") |\n",
    "                (data[\"DODRace\"] == \"Hispanic\")]\n",
    "data"
   ]
  },
  {
   "cell_type": "code",
   "execution_count": 47,
   "metadata": {},
   "outputs": [],
   "source": [
    "data.reset_index(drop=True, inplace=True)"
   ]
  },
  {
   "cell_type": "code",
   "execution_count": 48,
   "metadata": {},
   "outputs": [
    {
     "data": {
      "text/html": [
       "<div>\n",
       "<style scoped>\n",
       "    .dataframe tbody tr th:only-of-type {\n",
       "        vertical-align: middle;\n",
       "    }\n",
       "\n",
       "    .dataframe tbody tr th {\n",
       "        vertical-align: top;\n",
       "    }\n",
       "\n",
       "    .dataframe thead th {\n",
       "        text-align: right;\n",
       "    }\n",
       "</style>\n",
       "<table border=\"1\" class=\"dataframe\">\n",
       "  <thead>\n",
       "    <tr style=\"text-align: right;\">\n",
       "      <th></th>\n",
       "      <th>abdominalextensiondepthsitting</th>\n",
       "      <th>acromialheight</th>\n",
       "      <th>acromionradialelength</th>\n",
       "      <th>anklecircumference</th>\n",
       "      <th>axillaheight</th>\n",
       "      <th>balloffootcircumference</th>\n",
       "      <th>balloffootlength</th>\n",
       "      <th>biacromialbreadth</th>\n",
       "      <th>bicepscircumferenceflexed</th>\n",
       "      <th>bicristalbreadth</th>\n",
       "      <th>...</th>\n",
       "      <th>waistheightomphalion</th>\n",
       "      <th>weightkg</th>\n",
       "      <th>wristcircumference</th>\n",
       "      <th>wristheight</th>\n",
       "      <th>Gender</th>\n",
       "      <th>SubjectsBirthLocation</th>\n",
       "      <th>DODRace</th>\n",
       "      <th>Age</th>\n",
       "      <th>WritingPreference</th>\n",
       "      <th>subjectid</th>\n",
       "    </tr>\n",
       "  </thead>\n",
       "  <tbody>\n",
       "    <tr>\n",
       "      <th>0</th>\n",
       "      <td>231</td>\n",
       "      <td>1282</td>\n",
       "      <td>301</td>\n",
       "      <td>204</td>\n",
       "      <td>1180</td>\n",
       "      <td>222</td>\n",
       "      <td>177</td>\n",
       "      <td>373</td>\n",
       "      <td>315</td>\n",
       "      <td>263</td>\n",
       "      <td>...</td>\n",
       "      <td>942</td>\n",
       "      <td>657</td>\n",
       "      <td>152</td>\n",
       "      <td>756</td>\n",
       "      <td>Female</td>\n",
       "      <td>Germany</td>\n",
       "      <td>Black</td>\n",
       "      <td>26</td>\n",
       "      <td>Right hand</td>\n",
       "      <td>NaN</td>\n",
       "    </tr>\n",
       "    <tr>\n",
       "      <th>1</th>\n",
       "      <td>194</td>\n",
       "      <td>1379</td>\n",
       "      <td>320</td>\n",
       "      <td>207</td>\n",
       "      <td>1292</td>\n",
       "      <td>225</td>\n",
       "      <td>178</td>\n",
       "      <td>372</td>\n",
       "      <td>272</td>\n",
       "      <td>250</td>\n",
       "      <td>...</td>\n",
       "      <td>1032</td>\n",
       "      <td>534</td>\n",
       "      <td>155</td>\n",
       "      <td>815</td>\n",
       "      <td>Female</td>\n",
       "      <td>California</td>\n",
       "      <td>Hispanic</td>\n",
       "      <td>21</td>\n",
       "      <td>Right hand</td>\n",
       "      <td>NaN</td>\n",
       "    </tr>\n",
       "    <tr>\n",
       "      <th>2</th>\n",
       "      <td>183</td>\n",
       "      <td>1369</td>\n",
       "      <td>329</td>\n",
       "      <td>233</td>\n",
       "      <td>1271</td>\n",
       "      <td>237</td>\n",
       "      <td>196</td>\n",
       "      <td>397</td>\n",
       "      <td>300</td>\n",
       "      <td>276</td>\n",
       "      <td>...</td>\n",
       "      <td>1035</td>\n",
       "      <td>663</td>\n",
       "      <td>162</td>\n",
       "      <td>799</td>\n",
       "      <td>Female</td>\n",
       "      <td>Texas</td>\n",
       "      <td>White</td>\n",
       "      <td>23</td>\n",
       "      <td>Right hand</td>\n",
       "      <td>NaN</td>\n",
       "    </tr>\n",
       "    <tr>\n",
       "      <th>3</th>\n",
       "      <td>261</td>\n",
       "      <td>1356</td>\n",
       "      <td>306</td>\n",
       "      <td>214</td>\n",
       "      <td>1250</td>\n",
       "      <td>240</td>\n",
       "      <td>188</td>\n",
       "      <td>384</td>\n",
       "      <td>364</td>\n",
       "      <td>276</td>\n",
       "      <td>...</td>\n",
       "      <td>999</td>\n",
       "      <td>782</td>\n",
       "      <td>173</td>\n",
       "      <td>818</td>\n",
       "      <td>Female</td>\n",
       "      <td>District of Columbia</td>\n",
       "      <td>Black</td>\n",
       "      <td>22</td>\n",
       "      <td>Right hand</td>\n",
       "      <td>NaN</td>\n",
       "    </tr>\n",
       "    <tr>\n",
       "      <th>4</th>\n",
       "      <td>309</td>\n",
       "      <td>1303</td>\n",
       "      <td>308</td>\n",
       "      <td>214</td>\n",
       "      <td>1210</td>\n",
       "      <td>217</td>\n",
       "      <td>182</td>\n",
       "      <td>378</td>\n",
       "      <td>320</td>\n",
       "      <td>336</td>\n",
       "      <td>...</td>\n",
       "      <td>911</td>\n",
       "      <td>886</td>\n",
       "      <td>152</td>\n",
       "      <td>762</td>\n",
       "      <td>Female</td>\n",
       "      <td>Texas</td>\n",
       "      <td>White</td>\n",
       "      <td>45</td>\n",
       "      <td>Right hand</td>\n",
       "      <td>NaN</td>\n",
       "    </tr>\n",
       "  </tbody>\n",
       "</table>\n",
       "<p>5 rows × 99 columns</p>\n",
       "</div>"
      ],
      "text/plain": [
       "   abdominalextensiondepthsitting  acromialheight  acromionradialelength  \\\n",
       "0                             231            1282                    301   \n",
       "1                             194            1379                    320   \n",
       "2                             183            1369                    329   \n",
       "3                             261            1356                    306   \n",
       "4                             309            1303                    308   \n",
       "\n",
       "   anklecircumference  axillaheight  balloffootcircumference  \\\n",
       "0                 204          1180                      222   \n",
       "1                 207          1292                      225   \n",
       "2                 233          1271                      237   \n",
       "3                 214          1250                      240   \n",
       "4                 214          1210                      217   \n",
       "\n",
       "   balloffootlength  biacromialbreadth  bicepscircumferenceflexed  \\\n",
       "0               177                373                        315   \n",
       "1               178                372                        272   \n",
       "2               196                397                        300   \n",
       "3               188                384                        364   \n",
       "4               182                378                        320   \n",
       "\n",
       "   bicristalbreadth  ...  waistheightomphalion  weightkg  wristcircumference  \\\n",
       "0               263  ...                   942       657                 152   \n",
       "1               250  ...                  1032       534                 155   \n",
       "2               276  ...                  1035       663                 162   \n",
       "3               276  ...                   999       782                 173   \n",
       "4               336  ...                   911       886                 152   \n",
       "\n",
       "   wristheight  Gender  SubjectsBirthLocation   DODRace  Age  \\\n",
       "0          756  Female                Germany     Black   26   \n",
       "1          815  Female             California  Hispanic   21   \n",
       "2          799  Female                  Texas     White   23   \n",
       "3          818  Female   District of Columbia     Black   22   \n",
       "4          762  Female                  Texas     White   45   \n",
       "\n",
       "   WritingPreference  subjectid  \n",
       "0         Right hand        NaN  \n",
       "1         Right hand        NaN  \n",
       "2         Right hand        NaN  \n",
       "3         Right hand        NaN  \n",
       "4         Right hand        NaN  \n",
       "\n",
       "[5 rows x 99 columns]"
      ]
     },
     "execution_count": 48,
     "metadata": {},
     "output_type": "execute_result"
    }
   ],
   "source": [
    "data.head()"
   ]
  },
  {
   "cell_type": "code",
   "execution_count": 49,
   "metadata": {},
   "outputs": [
    {
     "data": {
      "text/html": [
       "<div>\n",
       "<style scoped>\n",
       "    .dataframe tbody tr th:only-of-type {\n",
       "        vertical-align: middle;\n",
       "    }\n",
       "\n",
       "    .dataframe tbody tr th {\n",
       "        vertical-align: top;\n",
       "    }\n",
       "\n",
       "    .dataframe thead th {\n",
       "        text-align: right;\n",
       "    }\n",
       "</style>\n",
       "<table border=\"1\" class=\"dataframe\">\n",
       "  <thead>\n",
       "    <tr style=\"text-align: right;\">\n",
       "      <th></th>\n",
       "      <th>abdominalextensiondepthsitting</th>\n",
       "      <th>acromialheight</th>\n",
       "      <th>acromionradialelength</th>\n",
       "      <th>anklecircumference</th>\n",
       "      <th>axillaheight</th>\n",
       "      <th>balloffootcircumference</th>\n",
       "      <th>balloffootlength</th>\n",
       "      <th>biacromialbreadth</th>\n",
       "      <th>bicepscircumferenceflexed</th>\n",
       "      <th>bicristalbreadth</th>\n",
       "      <th>...</th>\n",
       "      <th>waistheightomphalion</th>\n",
       "      <th>weightkg</th>\n",
       "      <th>wristcircumference</th>\n",
       "      <th>wristheight</th>\n",
       "      <th>Gender</th>\n",
       "      <th>SubjectsBirthLocation</th>\n",
       "      <th>DODRace</th>\n",
       "      <th>Age</th>\n",
       "      <th>WritingPreference</th>\n",
       "      <th>subjectid</th>\n",
       "    </tr>\n",
       "  </thead>\n",
       "  <tbody>\n",
       "    <tr>\n",
       "      <th>5764</th>\n",
       "      <td>235</td>\n",
       "      <td>1353</td>\n",
       "      <td>312</td>\n",
       "      <td>216</td>\n",
       "      <td>1263</td>\n",
       "      <td>228</td>\n",
       "      <td>193</td>\n",
       "      <td>384</td>\n",
       "      <td>318</td>\n",
       "      <td>241</td>\n",
       "      <td>...</td>\n",
       "      <td>1016</td>\n",
       "      <td>675</td>\n",
       "      <td>163</td>\n",
       "      <td>778</td>\n",
       "      <td>Male</td>\n",
       "      <td>Colorado</td>\n",
       "      <td>White</td>\n",
       "      <td>22</td>\n",
       "      <td>Right hand</td>\n",
       "      <td>29442.000</td>\n",
       "    </tr>\n",
       "    <tr>\n",
       "      <th>5765</th>\n",
       "      <td>247</td>\n",
       "      <td>1473</td>\n",
       "      <td>336</td>\n",
       "      <td>234</td>\n",
       "      <td>1346</td>\n",
       "      <td>253</td>\n",
       "      <td>196</td>\n",
       "      <td>428</td>\n",
       "      <td>374</td>\n",
       "      <td>284</td>\n",
       "      <td>...</td>\n",
       "      <td>1082</td>\n",
       "      <td>896</td>\n",
       "      <td>178</td>\n",
       "      <td>873</td>\n",
       "      <td>Male</td>\n",
       "      <td>Oklahoma</td>\n",
       "      <td>White</td>\n",
       "      <td>22</td>\n",
       "      <td>Right hand</td>\n",
       "      <td>29443.000</td>\n",
       "    </tr>\n",
       "    <tr>\n",
       "      <th>5766</th>\n",
       "      <td>264</td>\n",
       "      <td>1394</td>\n",
       "      <td>313</td>\n",
       "      <td>227</td>\n",
       "      <td>1280</td>\n",
       "      <td>245</td>\n",
       "      <td>193</td>\n",
       "      <td>407</td>\n",
       "      <td>367</td>\n",
       "      <td>271</td>\n",
       "      <td>...</td>\n",
       "      <td>1011</td>\n",
       "      <td>832</td>\n",
       "      <td>178</td>\n",
       "      <td>822</td>\n",
       "      <td>Male</td>\n",
       "      <td>Oklahoma</td>\n",
       "      <td>White</td>\n",
       "      <td>23</td>\n",
       "      <td>Right hand</td>\n",
       "      <td>29447.000</td>\n",
       "    </tr>\n",
       "    <tr>\n",
       "      <th>5767</th>\n",
       "      <td>203</td>\n",
       "      <td>1417</td>\n",
       "      <td>327</td>\n",
       "      <td>223</td>\n",
       "      <td>1314</td>\n",
       "      <td>250</td>\n",
       "      <td>196</td>\n",
       "      <td>419</td>\n",
       "      <td>365</td>\n",
       "      <td>271</td>\n",
       "      <td>...</td>\n",
       "      <td>1062</td>\n",
       "      <td>731</td>\n",
       "      <td>172</td>\n",
       "      <td>837</td>\n",
       "      <td>Male</td>\n",
       "      <td>Oklahoma</td>\n",
       "      <td>White</td>\n",
       "      <td>22</td>\n",
       "      <td>Right hand</td>\n",
       "      <td>29451.000</td>\n",
       "    </tr>\n",
       "    <tr>\n",
       "      <th>5768</th>\n",
       "      <td>327</td>\n",
       "      <td>1523</td>\n",
       "      <td>358</td>\n",
       "      <td>226</td>\n",
       "      <td>1408</td>\n",
       "      <td>269</td>\n",
       "      <td>225</td>\n",
       "      <td>442</td>\n",
       "      <td>379</td>\n",
       "      <td>275</td>\n",
       "      <td>...</td>\n",
       "      <td>1119</td>\n",
       "      <td>985</td>\n",
       "      <td>182</td>\n",
       "      <td>894</td>\n",
       "      <td>Male</td>\n",
       "      <td>Oklahoma</td>\n",
       "      <td>White</td>\n",
       "      <td>38</td>\n",
       "      <td>Right hand</td>\n",
       "      <td>29452.000</td>\n",
       "    </tr>\n",
       "  </tbody>\n",
       "</table>\n",
       "<p>5 rows × 99 columns</p>\n",
       "</div>"
      ],
      "text/plain": [
       "      abdominalextensiondepthsitting  acromialheight  acromionradialelength  \\\n",
       "5764                             235            1353                    312   \n",
       "5765                             247            1473                    336   \n",
       "5766                             264            1394                    313   \n",
       "5767                             203            1417                    327   \n",
       "5768                             327            1523                    358   \n",
       "\n",
       "      anklecircumference  axillaheight  balloffootcircumference  \\\n",
       "5764                 216          1263                      228   \n",
       "5765                 234          1346                      253   \n",
       "5766                 227          1280                      245   \n",
       "5767                 223          1314                      250   \n",
       "5768                 226          1408                      269   \n",
       "\n",
       "      balloffootlength  biacromialbreadth  bicepscircumferenceflexed  \\\n",
       "5764               193                384                        318   \n",
       "5765               196                428                        374   \n",
       "5766               193                407                        367   \n",
       "5767               196                419                        365   \n",
       "5768               225                442                        379   \n",
       "\n",
       "      bicristalbreadth  ...  waistheightomphalion  weightkg  \\\n",
       "5764               241  ...                  1016       675   \n",
       "5765               284  ...                  1082       896   \n",
       "5766               271  ...                  1011       832   \n",
       "5767               271  ...                  1062       731   \n",
       "5768               275  ...                  1119       985   \n",
       "\n",
       "      wristcircumference  wristheight  Gender  SubjectsBirthLocation  DODRace  \\\n",
       "5764                 163          778    Male               Colorado    White   \n",
       "5765                 178          873    Male               Oklahoma    White   \n",
       "5766                 178          822    Male               Oklahoma    White   \n",
       "5767                 172          837    Male               Oklahoma    White   \n",
       "5768                 182          894    Male               Oklahoma    White   \n",
       "\n",
       "      Age  WritingPreference  subjectid  \n",
       "5764   22         Right hand  29442.000  \n",
       "5765   22         Right hand  29443.000  \n",
       "5766   23         Right hand  29447.000  \n",
       "5767   22         Right hand  29451.000  \n",
       "5768   38         Right hand  29452.000  \n",
       "\n",
       "[5 rows x 99 columns]"
      ]
     },
     "execution_count": 49,
     "metadata": {},
     "output_type": "execute_result"
    }
   ],
   "source": [
    "data.tail()"
   ]
  },
  {
   "cell_type": "code",
   "execution_count": 50,
   "metadata": {},
   "outputs": [
    {
     "data": {
      "image/png": "[encoded data removed]",
      "text/plain": [
       "<Figure size 1440x1440 with 2 Axes>"
      ]
     },
     "metadata": {
      "needs_background": "light"
     },
     "output_type": "display_data"
    }
   ],
   "source": [
    "plt.figure(figsize=(20,20))\n",
    "sns.heatmap(data.corr(), cmap=\"coolwarm\");"
   ]
  },
  {
   "cell_type": "code",
   "execution_count": 51,
   "metadata": {},
   "outputs": [],
   "source": [
    "data.drop(\"subjectid\", axis=1, inplace=True)"
   ]
  },
  {
   "cell_type": "code",
   "execution_count": 52,
   "metadata": {},
   "outputs": [
    {
     "data": {
      "text/plain": [
       "False"
      ]
     },
     "execution_count": 52,
     "metadata": {},
     "output_type": "execute_result"
    }
   ],
   "source": [
    "data.isnull().sum().any()"
   ]
  },
  {
   "cell_type": "code",
   "execution_count": null,
   "metadata": {},
   "outputs": [],
   "source": []
  },
  {
   "cell_type": "markdown",
   "metadata": {
    "heading_collapsed": true,
    "id": "CS5-GZy0sl4s"
   },
   "source": [
    "# DATA Preprocessing\n",
    "- In this step, divided our data into X(Features) and y(Target) then,\n",
    "- For training and evaluation purposes created training and test sets,\n",
    "- Lastly, scaled our data if features are not on the same scale."
   ]
  },
  {
   "cell_type": "code",
   "execution_count": 53,
   "metadata": {},
   "outputs": [],
   "source": [
    "X = data.drop(\"DODRace\", axis=1)\n",
    "X = pd.get_dummies(data=X, drop_first=True)\n",
    "y = data.DODRace"
   ]
  },
  {
   "cell_type": "code",
   "execution_count": 54,
   "metadata": {},
   "outputs": [],
   "source": [
    "from sklearn.model_selection import train_test_split"
   ]
  },
  {
   "cell_type": "code",
   "execution_count": 55,
   "metadata": {},
   "outputs": [],
   "source": [
    "X_train, X_test, y_train, y_test = train_test_split(X, y, test_size=0.2, random_state=101)"
   ]
  },
  {
   "cell_type": "code",
   "execution_count": 56,
   "metadata": {},
   "outputs": [
    {
     "name": "stdout",
     "output_type": "stream",
     "text": [
      "Train features shape :  (4615, 232)\n",
      "Train target shape   :  (4615,)\n",
      "Test features shape  :  (1154, 232)\n",
      "Test target shape    :  (1154,)\n"
     ]
    }
   ],
   "source": [
    "print(\"Train features shape : \", X_train.shape)\n",
    "print(\"Train target shape   : \", y_train.shape)\n",
    "print(\"Test features shape  : \", X_test.shape)\n",
    "print(\"Test target shape    : \", y_test.shape)"
   ]
  },
  {
   "cell_type": "markdown",
   "metadata": {
    "heading_collapsed": true,
    "id": "zfi_NOw0s2fM"
   },
   "source": [
    "# Modelling\n",
    "- Fitted the model with the training dataset\n",
    "- Got predict from the vanilla model on both train and test sets to examine if there is over/underfitting   \n",
    "- Applied GridseachCV for both hyperparameter tuning and sanity test of our model.\n",
    "- Used hyperparameters that were found from grid-search and made a final prediction and evaluated the result according to chosen metric."
   ]
  },
  {
   "cell_type": "markdown",
   "metadata": {
    "heading_collapsed": true,
    "hidden": true,
    "id": "N1cviBuh1b7C"
   },
   "source": [
    "## 1. Logistic model"
   ]
  },
  {
   "cell_type": "markdown",
   "metadata": {
    "heading_collapsed": true,
    "hidden": true,
    "id": "0rSJ5hxp1b7C"
   },
   "source": [
    "### Vanilla Logistic Model"
   ]
  },
  {
   "cell_type": "code",
   "execution_count": 57,
   "metadata": {},
   "outputs": [],
   "source": [
    "from sklearn.pipeline import Pipeline\n",
    "from sklearn.preprocessing import MinMaxScaler\n",
    "from sklearn.linear_model import LogisticRegression\n",
    "from sklearn.model_selection import cross_val_score, cross_validate\n",
    "from sklearn.metrics import accuracy_score, f1_score, recall_score, precision_score\n",
    "from sklearn.metrics import make_scorer\n",
    "from sklearn.model_selection import GridSearchCV\n",
    "from sklearn.metrics import roc_curve, auc\n",
    "from sklearn.svm import SVC\n",
    "from sklearn.ensemble import RandomForestClassifier\n",
    "from sklearn.metrics import classification_report,confusion_matrix,plot_confusion_matrix, average_precision_score"
   ]
  },
  {
   "cell_type": "code",
   "execution_count": 58,
   "metadata": {
    "id": "rbKDDck012BS"
   },
   "outputs": [],
   "source": [
    "def eval_metric(model, X_train, y_train, X_test, y_test):\n",
    "    y_train_pred = model.predict(X_train)\n",
    "    y_pred = model.predict(X_test)\n",
    "    \n",
    "    print(\"Test_Set\")\n",
    "    print(confusion_matrix(y_test, y_pred))\n",
    "    print(classification_report(y_test, y_pred))\n",
    "    print()\n",
    "    print(\"Train_Set\")\n",
    "    print(confusion_matrix(y_train, y_train_pred))\n",
    "    print(classification_report(y_train, y_train_pred))"
   ]
  },
  {
   "cell_type": "code",
   "execution_count": 59,
   "metadata": {},
   "outputs": [],
   "source": [
    "operations = [(\"scaler\", MinMaxScaler()), (\"log\", LogisticRegression(class_weight='balanced',max_iter=10000,random_state=101))]\n",
    "pipe_log_model = Pipeline(steps=operations)"
   ]
  },
  {
   "cell_type": "code",
   "execution_count": 60,
   "metadata": {},
   "outputs": [
    {
     "name": "stdout",
     "output_type": "stream",
     "text": [
      "Test_Set\n",
      "[[236  14   8]\n",
      " [  6 112  13]\n",
      " [ 15 104 646]]\n",
      "              precision    recall  f1-score   support\n",
      "\n",
      "       Black       0.92      0.91      0.92       258\n",
      "    Hispanic       0.49      0.85      0.62       131\n",
      "       White       0.97      0.84      0.90       765\n",
      "\n",
      "    accuracy                           0.86      1154\n",
      "   macro avg       0.79      0.87      0.81      1154\n",
      "weighted avg       0.90      0.86      0.87      1154\n",
      "\n",
      "\n",
      "Train_Set\n",
      "[[ 973   40   27]\n",
      " [  21  455   72]\n",
      " [  62  353 2612]]\n",
      "              precision    recall  f1-score   support\n",
      "\n",
      "       Black       0.92      0.94      0.93      1040\n",
      "    Hispanic       0.54      0.83      0.65       548\n",
      "       White       0.96      0.86      0.91      3027\n",
      "\n",
      "    accuracy                           0.88      4615\n",
      "   macro avg       0.81      0.88      0.83      4615\n",
      "weighted avg       0.90      0.88      0.88      4615\n",
      "\n"
     ]
    }
   ],
   "source": [
    "pipe_log_model.fit(X_train, y_train)\n",
    "eval_metric(pipe_log_model, X_train, y_train, X_test, y_test)"
   ]
  },
  {
   "cell_type": "markdown",
   "metadata": {},
   "source": [
    "<b>As seen above, train values and test values seem close to each other. The high black values indicate that there are more distinguishing features than the others. For Hispanics, there is too much imbalance, so our main focus will be on improving these values.</b>"
   ]
  },
  {
   "cell_type": "code",
   "execution_count": 61,
   "metadata": {},
   "outputs": [],
   "source": [
    "scoring = {\"f1_Hispanic\" : make_scorer(f1_score, average = None, labels =[\"Hispanic\"]),\n",
    "           \"precision_Hispanic\" : make_scorer(precision_score, average = None, labels =[\"Hispanic\"]),\n",
    "           \"recall_Hispanic\" : make_scorer(recall_score, average = None, labels =[\"Hispanic\"])}"
   ]
  },
  {
   "cell_type": "code",
   "execution_count": 62,
   "metadata": {},
   "outputs": [
    {
     "data": {
      "text/plain": [
       "test_f1_Hispanic          0.605\n",
       "test_precision_Hispanic   0.497\n",
       "test_recall_Hispanic      0.774\n",
       "dtype: float64"
      ]
     },
     "execution_count": 62,
     "metadata": {},
     "output_type": "execute_result"
    }
   ],
   "source": [
    "operations = [(\"scaler\", MinMaxScaler()), (\"log\", LogisticRegression(class_weight='balanced',max_iter=10000,random_state=101))]\n",
    "model = Pipeline(steps=operations)\n",
    "\n",
    "scores = cross_validate(model, X_train, y_train, scoring = scoring, cv = 10)\n",
    "df_scores = pd.DataFrame(scores, index = range(1, 11))\n",
    "df_scores.mean()[2:]"
   ]
  },
  {
   "cell_type": "markdown",
   "metadata": {
    "heading_collapsed": true,
    "hidden": true,
    "id": "lPelWxsU1b7C"
   },
   "source": [
    "### Logistic Model GridsearchCV"
   ]
  },
  {
   "cell_type": "code",
   "execution_count": 63,
   "metadata": {
    "id": "PNZyqeNY15nP"
   },
   "outputs": [],
   "source": [
    "recall_Hispanic =  make_scorer(recall_score, average=None, labels=[\"Hispanic\"])"
   ]
  },
  {
   "cell_type": "code",
   "execution_count": 64,
   "metadata": {},
   "outputs": [],
   "source": [
    "param_grid = {\n",
    "    \"log__C\": [0.1, 0.5, 1],\n",
    "    'log__penalty': [\"l1\", \"l2\"],\n",
    "    'log__solver': ['liblinear', 'lbfgs'],\n",
    "}"
   ]
  },
  {
   "cell_type": "code",
   "execution_count": 65,
   "metadata": {},
   "outputs": [],
   "source": [
    "operations = [(\"scaler\", MinMaxScaler()), (\"log\", LogisticRegression(class_weight='balanced',max_iter=10000,random_state=101))]\n",
    "model = Pipeline(steps=operations)\n",
    "\n",
    "log_model_grid = GridSearchCV(model,\n",
    "                              param_grid,\n",
    "                              verbose=3,\n",
    "                              scoring=recall_Hispanic,      # Hispanic turunun skorlarini artiracak en iyi parametreleri bul.\n",
    "                              n_jobs=-1, cv=5)"
   ]
  },
  {
   "cell_type": "code",
   "execution_count": 66,
   "metadata": {},
   "outputs": [
    {
     "name": "stdout",
     "output_type": "stream",
     "text": [
      "Fitting 5 folds for each of 12 candidates, totalling 60 fits\n"
     ]
    },
    {
     "data": {
      "text/html": [
       "<style>#sk-container-id-1 {color: black;background-color: white;}#sk-container-id-1 pre{padding: 0;}#sk-container-id-1 div.sk-toggleable {background-color: white;}#sk-container-id-1 label.sk-toggleable__label {cursor: pointer;display: block;width: 100%;margin-bottom: 0;padding: 0.3em;box-sizing: border-box;text-align: center;}#sk-container-id-1 label.sk-toggleable__label-arrow:before {content: \"▸\";float: left;margin-right: 0.25em;color: #696969;}#sk-container-id-1 label.sk-toggleable__label-arrow:hover:before {color: black;}#sk-container-id-1 div.sk-estimator:hover label.sk-toggleable__label-arrow:before {color: black;}#sk-container-id-1 div.sk-toggleable__content {max-height: 0;max-width: 0;overflow: hidden;text-align: left;background-color: #f0f8ff;}#sk-container-id-1 div.sk-toggleable__content pre {margin: 0.2em;color: black;border-radius: 0.25em;background-color: #f0f8ff;}#sk-container-id-1 input.sk-toggleable__control:checked~div.sk-toggleable__content {max-height: 200px;max-width: 100%;overflow: auto;}#sk-container-id-1 input.sk-toggleable__control:checked~label.sk-toggleable__label-arrow:before {content: \"▾\";}#sk-container-id-1 div.sk-estimator input.sk-toggleable__control:checked~label.sk-toggleable__label {background-color: #d4ebff;}#sk-container-id-1 div.sk-label input.sk-toggleable__control:checked~label.sk-toggleable__label {background-color: #d4ebff;}#sk-container-id-1 input.sk-hidden--visually {border: 0;clip: rect(1px 1px 1px 1px);clip: rect(1px, 1px, 1px, 1px);height: 1px;margin: -1px;overflow: hidden;padding: 0;position: absolute;width: 1px;}#sk-container-id-1 div.sk-estimator {font-family: monospace;background-color: #f0f8ff;border: 1px dotted black;border-radius: 0.25em;box-sizing: border-box;margin-bottom: 0.5em;}#sk-container-id-1 div.sk-estimator:hover {background-color: #d4ebff;}#sk-container-id-1 div.sk-parallel-item::after {content: \"\";width: 100%;border-bottom: 1px solid gray;flex-grow: 1;}#sk-container-id-1 div.sk-label:hover label.sk-toggleable__label {background-color: #d4ebff;}#sk-container-id-1 div.sk-serial::before {content: \"\";position: absolute;border-left: 1px solid gray;box-sizing: border-box;top: 0;bottom: 0;left: 50%;z-index: 0;}#sk-container-id-1 div.sk-serial {display: flex;flex-direction: column;align-items: center;background-color: white;padding-right: 0.2em;padding-left: 0.2em;position: relative;}#sk-container-id-1 div.sk-item {position: relative;z-index: 1;}#sk-container-id-1 div.sk-parallel {display: flex;align-items: stretch;justify-content: center;background-color: white;position: relative;}#sk-container-id-1 div.sk-item::before, #sk-container-id-1 div.sk-parallel-item::before {content: \"\";position: absolute;border-left: 1px solid gray;box-sizing: border-box;top: 0;bottom: 0;left: 50%;z-index: -1;}#sk-container-id-1 div.sk-parallel-item {display: flex;flex-direction: column;z-index: 1;position: relative;background-color: white;}#sk-container-id-1 div.sk-parallel-item:first-child::after {align-self: flex-end;width: 50%;}#sk-container-id-1 div.sk-parallel-item:last-child::after {align-self: flex-start;width: 50%;}#sk-container-id-1 div.sk-parallel-item:only-child::after {width: 0;}#sk-container-id-1 div.sk-dashed-wrapped {border: 1px dashed gray;margin: 0 0.4em 0.5em 0.4em;box-sizing: border-box;padding-bottom: 0.4em;background-color: white;}#sk-container-id-1 div.sk-label label {font-family: monospace;font-weight: bold;display: inline-block;line-height: 1.2em;}#sk-container-id-1 div.sk-label-container {text-align: center;}#sk-container-id-1 div.sk-container {/* jupyter's `normalize.less` sets `[hidden] { display: none; }` but bootstrap.min.css set `[hidden] { display: none !important; }` so we also need the `!important` here to be able to override the default hidden behavior on the sphinx rendered scikit-learn.org. See: https://github.com/scikit-learn/scikit-learn/issues/21755 */display: inline-block !important;position: relative;}#sk-container-id-1 div.sk-text-repr-fallback {display: none;}</style><div id=\"sk-container-id-1\" class=\"sk-top-container\"><div class=\"sk-text-repr-fallback\"><pre>GridSearchCV(cv=5,\n",
       "             estimator=Pipeline(steps=[(&#x27;scaler&#x27;, MinMaxScaler()),\n",
       "                                       (&#x27;log&#x27;,\n",
       "                                        LogisticRegression(class_weight=&#x27;balanced&#x27;,\n",
       "                                                           max_iter=10000,\n",
       "                                                           random_state=101))]),\n",
       "             n_jobs=-1,\n",
       "             param_grid={&#x27;log__C&#x27;: [0.1, 0.5, 1], &#x27;log__penalty&#x27;: [&#x27;l1&#x27;, &#x27;l2&#x27;],\n",
       "                         &#x27;log__solver&#x27;: [&#x27;liblinear&#x27;, &#x27;lbfgs&#x27;]},\n",
       "             scoring=make_scorer(recall_score, average=None, labels=[&#x27;Hispanic&#x27;]),\n",
       "             verbose=3)</pre><b>In a Jupyter environment, please rerun this cell to show the HTML representation or trust the notebook. <br />On GitHub, the HTML representation is unable to render, please try loading this page with nbviewer.org.</b></div><div class=\"sk-container\" hidden><div class=\"sk-item sk-dashed-wrapped\"><div class=\"sk-label-container\"><div class=\"sk-label sk-toggleable\"><input class=\"sk-toggleable__control sk-hidden--visually\" id=\"sk-estimator-id-1\" type=\"checkbox\" ><label for=\"sk-estimator-id-1\" class=\"sk-toggleable__label sk-toggleable__label-arrow\">GridSearchCV</label><div class=\"sk-toggleable__content\"><pre>GridSearchCV(cv=5,\n",
       "             estimator=Pipeline(steps=[(&#x27;scaler&#x27;, MinMaxScaler()),\n",
       "                                       (&#x27;log&#x27;,\n",
       "                                        LogisticRegression(class_weight=&#x27;balanced&#x27;,\n",
       "                                                           max_iter=10000,\n",
       "                                                           random_state=101))]),\n",
       "             n_jobs=-1,\n",
       "             param_grid={&#x27;log__C&#x27;: [0.1, 0.5, 1], &#x27;log__penalty&#x27;: [&#x27;l1&#x27;, &#x27;l2&#x27;],\n",
       "                         &#x27;log__solver&#x27;: [&#x27;liblinear&#x27;, &#x27;lbfgs&#x27;]},\n",
       "             scoring=make_scorer(recall_score, average=None, labels=[&#x27;Hispanic&#x27;]),\n",
       "             verbose=3)</pre></div></div></div><div class=\"sk-parallel\"><div class=\"sk-parallel-item\"><div class=\"sk-item\"><div class=\"sk-label-container\"><div class=\"sk-label sk-toggleable\"><input class=\"sk-toggleable__control sk-hidden--visually\" id=\"sk-estimator-id-2\" type=\"checkbox\" ><label for=\"sk-estimator-id-2\" class=\"sk-toggleable__label sk-toggleable__label-arrow\">estimator: Pipeline</label><div class=\"sk-toggleable__content\"><pre>Pipeline(steps=[(&#x27;scaler&#x27;, MinMaxScaler()),\n",
       "                (&#x27;log&#x27;,\n",
       "                 LogisticRegression(class_weight=&#x27;balanced&#x27;, max_iter=10000,\n",
       "                                    random_state=101))])</pre></div></div></div><div class=\"sk-serial\"><div class=\"sk-item\"><div class=\"sk-serial\"><div class=\"sk-item\"><div class=\"sk-estimator sk-toggleable\"><input class=\"sk-toggleable__control sk-hidden--visually\" id=\"sk-estimator-id-3\" type=\"checkbox\" ><label for=\"sk-estimator-id-3\" class=\"sk-toggleable__label sk-toggleable__label-arrow\">MinMaxScaler</label><div class=\"sk-toggleable__content\"><pre>MinMaxScaler()</pre></div></div></div><div class=\"sk-item\"><div class=\"sk-estimator sk-toggleable\"><input class=\"sk-toggleable__control sk-hidden--visually\" id=\"sk-estimator-id-4\" type=\"checkbox\" ><label for=\"sk-estimator-id-4\" class=\"sk-toggleable__label sk-toggleable__label-arrow\">LogisticRegression</label><div class=\"sk-toggleable__content\"><pre>LogisticRegression(class_weight=&#x27;balanced&#x27;, max_iter=10000, random_state=101)</pre></div></div></div></div></div></div></div></div></div></div></div></div>"
      ],
      "text/plain": [
       "GridSearchCV(cv=5,\n",
       "             estimator=Pipeline(steps=[('scaler', MinMaxScaler()),\n",
       "                                       ('log',\n",
       "                                        LogisticRegression(class_weight='balanced',\n",
       "                                                           max_iter=10000,\n",
       "                                                           random_state=101))]),\n",
       "             n_jobs=-1,\n",
       "             param_grid={'log__C': [0.1, 0.5, 1], 'log__penalty': ['l1', 'l2'],\n",
       "                         'log__solver': ['liblinear', 'lbfgs']},\n",
       "             scoring=make_scorer(recall_score, average=None, labels=['Hispanic']),\n",
       "             verbose=3)"
      ]
     },
     "execution_count": 66,
     "metadata": {},
     "output_type": "execute_result"
    }
   ],
   "source": [
    "log_model_grid.fit(X_train,y_train)"
   ]
  },
  {
   "cell_type": "code",
   "execution_count": 67,
   "metadata": {},
   "outputs": [
    {
     "data": {
      "text/plain": [
       "{'log__C': 1, 'log__penalty': 'l2', 'log__solver': 'lbfgs'}"
      ]
     },
     "execution_count": 67,
     "metadata": {},
     "output_type": "execute_result"
    }
   ],
   "source": [
    "log_model_grid.best_params_"
   ]
  },
  {
   "cell_type": "code",
   "execution_count": 68,
   "metadata": {},
   "outputs": [
    {
     "data": {
      "text/plain": [
       "0.770141784820684"
      ]
     },
     "execution_count": 68,
     "metadata": {},
     "output_type": "execute_result"
    }
   ],
   "source": [
    "log_model_grid.best_score_"
   ]
  },
  {
   "cell_type": "markdown",
   "metadata": {},
   "source": [
    "<b>We see that the best parameters from the GridSearch process are default values. So our default values were the values that gave the best results. We do not need to CrossValidate again after GridSearch.</b>"
   ]
  },
  {
   "cell_type": "code",
   "execution_count": 69,
   "metadata": {},
   "outputs": [
    {
     "name": "stdout",
     "output_type": "stream",
     "text": [
      "Test_Set\n",
      "[[236  14   8]\n",
      " [  6 112  13]\n",
      " [ 15 104 646]]\n",
      "              precision    recall  f1-score   support\n",
      "\n",
      "       Black       0.92      0.91      0.92       258\n",
      "    Hispanic       0.49      0.85      0.62       131\n",
      "       White       0.97      0.84      0.90       765\n",
      "\n",
      "    accuracy                           0.86      1154\n",
      "   macro avg       0.79      0.87      0.81      1154\n",
      "weighted avg       0.90      0.86      0.87      1154\n",
      "\n",
      "\n",
      "Train_Set\n",
      "[[ 973   40   27]\n",
      " [  21  455   72]\n",
      " [  62  353 2612]]\n",
      "              precision    recall  f1-score   support\n",
      "\n",
      "       Black       0.92      0.94      0.93      1040\n",
      "    Hispanic       0.54      0.83      0.65       548\n",
      "       White       0.96      0.86      0.91      3027\n",
      "\n",
      "    accuracy                           0.88      4615\n",
      "   macro avg       0.81      0.88      0.83      4615\n",
      "weighted avg       0.90      0.88      0.88      4615\n",
      "\n"
     ]
    }
   ],
   "source": [
    "eval_metric(log_model_grid, X_train, y_train, X_test, y_test)"
   ]
  },
  {
   "cell_type": "code",
   "execution_count": 70,
   "metadata": {},
   "outputs": [
    {
     "data": {
      "image/png": "[encoded data removed]",
      "text/plain": [
       "<Figure size 576x396 with 1 Axes>"
      ]
     },
     "metadata": {},
     "output_type": "display_data"
    }
   ],
   "source": [
    "from yellowbrick.classifier import PrecisionRecallCurve\n",
    "\n",
    "operations = [(\"scaler\", MinMaxScaler()), (\"log\", LogisticRegression(class_weight='balanced',max_iter=10000,random_state=101))]\n",
    "model = Pipeline(steps=operations)\n",
    "\n",
    "viz = PrecisionRecallCurve(\n",
    "    model,\n",
    "    per_class=True, classes= [\"Black\", \"Hispanic\", \"White\"],   # Tabloda isimler gorunsun diye bunu yazdik.\n",
    "    cmap=\"Set1\"\n",
    ")\n",
    "viz.fit(X_train, y_train)\n",
    "viz.score(X_test, y_test)\n",
    "viz.show();"
   ]
  },
  {
   "cell_type": "code",
   "execution_count": 71,
   "metadata": {},
   "outputs": [
    {
     "data": {
      "text/plain": [
       "{'Black': 0.9658439931465518,\n",
       " 'Hispanic': 0.7159504550030943,\n",
       " 'White': 0.9747781487175659,\n",
       " 'micro': 0.9370390046921427}"
      ]
     },
     "execution_count": 71,
     "metadata": {},
     "output_type": "execute_result"
    }
   ],
   "source": [
    "viz.score_"
   ]
  },
  {
   "cell_type": "code",
   "execution_count": 72,
   "metadata": {},
   "outputs": [],
   "source": [
    "y_pred = log_model_grid.predict(X_test)\n",
    "\n",
    "log_AP = viz.score_[\"Hispanic\"]\n",
    "log_f1 = f1_score(y_test, y_pred, average=None, labels=[\"Hispanic\"])\n",
    "log_recall = recall_score(y_test, y_pred, average=None, labels=[\"Hispanic\"])"
   ]
  },
  {
   "cell_type": "markdown",
   "metadata": {},
   "source": [
    "### Lojistic Regression solver \"liblenear\" for small dataset"
   ]
  },
  {
   "cell_type": "code",
   "execution_count": 73,
   "metadata": {},
   "outputs": [],
   "source": [
    "operations = [(\"scaler\", MinMaxScaler()), (\"log\", LogisticRegression(class_weight='balanced',max_iter=10000,random_state=101,\n",
    "                                                                    solver=\"liblinear\", penalty=\"l1\"))]\n",
    "pipe_log_model_libl = Pipeline(steps=operations)"
   ]
  },
  {
   "cell_type": "code",
   "execution_count": 74,
   "metadata": {},
   "outputs": [
    {
     "name": "stdout",
     "output_type": "stream",
     "text": [
      "Test_Set\n",
      "[[240   3  15]\n",
      " [  6  89  36]\n",
      " [ 12  43 710]]\n",
      "              precision    recall  f1-score   support\n",
      "\n",
      "       Black       0.93      0.93      0.93       258\n",
      "    Hispanic       0.66      0.68      0.67       131\n",
      "       White       0.93      0.93      0.93       765\n",
      "\n",
      "    accuracy                           0.90      1154\n",
      "   macro avg       0.84      0.85      0.84      1154\n",
      "weighted avg       0.90      0.90      0.90      1154\n",
      "\n",
      "\n",
      "Train_Set\n",
      "[[ 976   19   45]\n",
      " [  30  378  140]\n",
      " [  54  138 2835]]\n",
      "              precision    recall  f1-score   support\n",
      "\n",
      "       Black       0.92      0.94      0.93      1040\n",
      "    Hispanic       0.71      0.69      0.70       548\n",
      "       White       0.94      0.94      0.94      3027\n",
      "\n",
      "    accuracy                           0.91      4615\n",
      "   macro avg       0.86      0.85      0.86      4615\n",
      "weighted avg       0.91      0.91      0.91      4615\n",
      "\n"
     ]
    }
   ],
   "source": [
    "pipe_log_model_libl.fit(X_train,y_train)\n",
    "eval_metric(pipe_log_model_libl, X_train, y_train, X_test, y_test)"
   ]
  },
  {
   "cell_type": "code",
   "execution_count": 75,
   "metadata": {},
   "outputs": [
    {
     "data": {
      "text/plain": [
       "test_f1_Hispanic          0.653\n",
       "test_precision_Hispanic   0.665\n",
       "test_recall_Hispanic      0.642\n",
       "dtype: float64"
      ]
     },
     "execution_count": 75,
     "metadata": {},
     "output_type": "execute_result"
    }
   ],
   "source": [
    "model = Pipeline(steps=operations)\n",
    "\n",
    "scores = cross_validate(model, X_train, y_train, scoring = scoring, cv = 10)\n",
    "df_scores = pd.DataFrame(scores, index = range(1, 11))\n",
    "df_scores.mean()[2:]"
   ]
  },
  {
   "cell_type": "markdown",
   "metadata": {
    "heading_collapsed": true,
    "hidden": true,
    "id": "GM0PL5eZ1b7E"
   },
   "source": [
    "## 2. SVC"
   ]
  },
  {
   "cell_type": "markdown",
   "metadata": {
    "heading_collapsed": true,
    "hidden": true,
    "id": "P3j_Xk1L1b7E"
   },
   "source": [
    "### Vanilla SVC model "
   ]
  },
  {
   "cell_type": "code",
   "execution_count": 76,
   "metadata": {
    "id": "pro8T6CM19vX"
   },
   "outputs": [],
   "source": [
    "operations_svc = [(\"scaler\", MinMaxScaler()), (\"svc\", SVC(class_weight=\"balanced\",random_state=101))]\n",
    "pipe_svc_model = Pipeline(steps=operations_svc)"
   ]
  },
  {
   "cell_type": "code",
   "execution_count": 77,
   "metadata": {},
   "outputs": [
    {
     "name": "stdout",
     "output_type": "stream",
     "text": [
      "Test_Set\n",
      "[[233  10  15]\n",
      " [  8 108  15]\n",
      " [ 12 118 635]]\n",
      "              precision    recall  f1-score   support\n",
      "\n",
      "       Black       0.92      0.90      0.91       258\n",
      "    Hispanic       0.46      0.82      0.59       131\n",
      "       White       0.95      0.83      0.89       765\n",
      "\n",
      "    accuracy                           0.85      1154\n",
      "   macro avg       0.78      0.85      0.80      1154\n",
      "weighted avg       0.89      0.85      0.86      1154\n",
      "\n",
      "\n",
      "Train_Set\n",
      "[[ 958   41   41]\n",
      " [  19  452   77]\n",
      " [  56  389 2582]]\n",
      "              precision    recall  f1-score   support\n",
      "\n",
      "       Black       0.93      0.92      0.92      1040\n",
      "    Hispanic       0.51      0.82      0.63       548\n",
      "       White       0.96      0.85      0.90      3027\n",
      "\n",
      "    accuracy                           0.87      4615\n",
      "   macro avg       0.80      0.87      0.82      4615\n",
      "weighted avg       0.90      0.87      0.87      4615\n",
      "\n"
     ]
    }
   ],
   "source": [
    "pipe_svc_model.fit(X_train, y_train)\n",
    "\n",
    "eval_metric(pipe_svc_model, X_train, y_train, X_test, y_test)"
   ]
  },
  {
   "cell_type": "code",
   "execution_count": 78,
   "metadata": {},
   "outputs": [
    {
     "data": {
      "text/plain": [
       "test_f1_Hispanic          0.579\n",
       "test_precision_Hispanic   0.473\n",
       "test_recall_Hispanic      0.748\n",
       "dtype: float64"
      ]
     },
     "execution_count": 78,
     "metadata": {},
     "output_type": "execute_result"
    }
   ],
   "source": [
    "model = Pipeline(steps=operations_svc)\n",
    "\n",
    "scores = cross_validate(model, X_train, y_train, scoring = scoring, cv = 10)\n",
    "df_scores = pd.DataFrame(scores, index = range(1, 11))\n",
    "df_scores.mean()[2:]"
   ]
  },
  {
   "cell_type": "markdown",
   "metadata": {
    "heading_collapsed": true,
    "hidden": true,
    "id": "28y9nWxG1b7E"
   },
   "source": [
    "###  SVC Model GridsearchCV"
   ]
  },
  {
   "cell_type": "code",
   "execution_count": 79,
   "metadata": {
    "id": "4dFocgCo1-0Z"
   },
   "outputs": [],
   "source": [
    "param_grid = {\n",
    "    'svc__C': [1,2,3],\n",
    "    'svc__gamma': [\"scale\", \"auto\", 1, 0.1, 0.01]    \n",
    "}"
   ]
  },
  {
   "cell_type": "code",
   "execution_count": 80,
   "metadata": {},
   "outputs": [],
   "source": [
    "operations_svc = [(\"scaler\", MinMaxScaler()), (\"svc\", SVC(class_weight=\"balanced\",random_state=101))]"
   ]
  },
  {
   "cell_type": "code",
   "execution_count": 81,
   "metadata": {},
   "outputs": [],
   "source": [
    "model = Pipeline(steps=operations_svc)"
   ]
  },
  {
   "cell_type": "code",
   "execution_count": 82,
   "metadata": {},
   "outputs": [],
   "source": [
    "svm_model_grid = GridSearchCV(model,\n",
    "                              param_grid,\n",
    "                              verbose=3,\n",
    "                              scoring=recall_Hispanic,\n",
    "                              n_jobs=-1)"
   ]
  },
  {
   "cell_type": "code",
   "execution_count": 83,
   "metadata": {},
   "outputs": [
    {
     "name": "stdout",
     "output_type": "stream",
     "text": [
      "Fitting 5 folds for each of 15 candidates, totalling 75 fits\n"
     ]
    },
    {
     "data": {
      "text/html": [
       "<style>#sk-container-id-2 {color: black;background-color: white;}#sk-container-id-2 pre{padding: 0;}#sk-container-id-2 div.sk-toggleable {background-color: white;}#sk-container-id-2 label.sk-toggleable__label {cursor: pointer;display: block;width: 100%;margin-bottom: 0;padding: 0.3em;box-sizing: border-box;text-align: center;}#sk-container-id-2 label.sk-toggleable__label-arrow:before {content: \"▸\";float: left;margin-right: 0.25em;color: #696969;}#sk-container-id-2 label.sk-toggleable__label-arrow:hover:before {color: black;}#sk-container-id-2 div.sk-estimator:hover label.sk-toggleable__label-arrow:before {color: black;}#sk-container-id-2 div.sk-toggleable__content {max-height: 0;max-width: 0;overflow: hidden;text-align: left;background-color: #f0f8ff;}#sk-container-id-2 div.sk-toggleable__content pre {margin: 0.2em;color: black;border-radius: 0.25em;background-color: #f0f8ff;}#sk-container-id-2 input.sk-toggleable__control:checked~div.sk-toggleable__content {max-height: 200px;max-width: 100%;overflow: auto;}#sk-container-id-2 input.sk-toggleable__control:checked~label.sk-toggleable__label-arrow:before {content: \"▾\";}#sk-container-id-2 div.sk-estimator input.sk-toggleable__control:checked~label.sk-toggleable__label {background-color: #d4ebff;}#sk-container-id-2 div.sk-label input.sk-toggleable__control:checked~label.sk-toggleable__label {background-color: #d4ebff;}#sk-container-id-2 input.sk-hidden--visually {border: 0;clip: rect(1px 1px 1px 1px);clip: rect(1px, 1px, 1px, 1px);height: 1px;margin: -1px;overflow: hidden;padding: 0;position: absolute;width: 1px;}#sk-container-id-2 div.sk-estimator {font-family: monospace;background-color: #f0f8ff;border: 1px dotted black;border-radius: 0.25em;box-sizing: border-box;margin-bottom: 0.5em;}#sk-container-id-2 div.sk-estimator:hover {background-color: #d4ebff;}#sk-container-id-2 div.sk-parallel-item::after {content: \"\";width: 100%;border-bottom: 1px solid gray;flex-grow: 1;}#sk-container-id-2 div.sk-label:hover label.sk-toggleable__label {background-color: #d4ebff;}#sk-container-id-2 div.sk-serial::before {content: \"\";position: absolute;border-left: 1px solid gray;box-sizing: border-box;top: 0;bottom: 0;left: 50%;z-index: 0;}#sk-container-id-2 div.sk-serial {display: flex;flex-direction: column;align-items: center;background-color: white;padding-right: 0.2em;padding-left: 0.2em;position: relative;}#sk-container-id-2 div.sk-item {position: relative;z-index: 1;}#sk-container-id-2 div.sk-parallel {display: flex;align-items: stretch;justify-content: center;background-color: white;position: relative;}#sk-container-id-2 div.sk-item::before, #sk-container-id-2 div.sk-parallel-item::before {content: \"\";position: absolute;border-left: 1px solid gray;box-sizing: border-box;top: 0;bottom: 0;left: 50%;z-index: -1;}#sk-container-id-2 div.sk-parallel-item {display: flex;flex-direction: column;z-index: 1;position: relative;background-color: white;}#sk-container-id-2 div.sk-parallel-item:first-child::after {align-self: flex-end;width: 50%;}#sk-container-id-2 div.sk-parallel-item:last-child::after {align-self: flex-start;width: 50%;}#sk-container-id-2 div.sk-parallel-item:only-child::after {width: 0;}#sk-container-id-2 div.sk-dashed-wrapped {border: 1px dashed gray;margin: 0 0.4em 0.5em 0.4em;box-sizing: border-box;padding-bottom: 0.4em;background-color: white;}#sk-container-id-2 div.sk-label label {font-family: monospace;font-weight: bold;display: inline-block;line-height: 1.2em;}#sk-container-id-2 div.sk-label-container {text-align: center;}#sk-container-id-2 div.sk-container {/* jupyter's `normalize.less` sets `[hidden] { display: none; }` but bootstrap.min.css set `[hidden] { display: none !important; }` so we also need the `!important` here to be able to override the default hidden behavior on the sphinx rendered scikit-learn.org. See: https://github.com/scikit-learn/scikit-learn/issues/21755 */display: inline-block !important;position: relative;}#sk-container-id-2 div.sk-text-repr-fallback {display: none;}</style><div id=\"sk-container-id-2\" class=\"sk-top-container\"><div class=\"sk-text-repr-fallback\"><pre>GridSearchCV(estimator=Pipeline(steps=[(&#x27;scaler&#x27;, MinMaxScaler()),\n",
       "                                       (&#x27;svc&#x27;,\n",
       "                                        SVC(class_weight=&#x27;balanced&#x27;,\n",
       "                                            random_state=101))]),\n",
       "             n_jobs=-1,\n",
       "             param_grid={&#x27;svc__C&#x27;: [1, 2, 3],\n",
       "                         &#x27;svc__gamma&#x27;: [&#x27;scale&#x27;, &#x27;auto&#x27;, 1, 0.1, 0.01]},\n",
       "             scoring=make_scorer(recall_score, average=None, labels=[&#x27;Hispanic&#x27;]),\n",
       "             verbose=3)</pre><b>In a Jupyter environment, please rerun this cell to show the HTML representation or trust the notebook. <br />On GitHub, the HTML representation is unable to render, please try loading this page with nbviewer.org.</b></div><div class=\"sk-container\" hidden><div class=\"sk-item sk-dashed-wrapped\"><div class=\"sk-label-container\"><div class=\"sk-label sk-toggleable\"><input class=\"sk-toggleable__control sk-hidden--visually\" id=\"sk-estimator-id-5\" type=\"checkbox\" ><label for=\"sk-estimator-id-5\" class=\"sk-toggleable__label sk-toggleable__label-arrow\">GridSearchCV</label><div class=\"sk-toggleable__content\"><pre>GridSearchCV(estimator=Pipeline(steps=[(&#x27;scaler&#x27;, MinMaxScaler()),\n",
       "                                       (&#x27;svc&#x27;,\n",
       "                                        SVC(class_weight=&#x27;balanced&#x27;,\n",
       "                                            random_state=101))]),\n",
       "             n_jobs=-1,\n",
       "             param_grid={&#x27;svc__C&#x27;: [1, 2, 3],\n",
       "                         &#x27;svc__gamma&#x27;: [&#x27;scale&#x27;, &#x27;auto&#x27;, 1, 0.1, 0.01]},\n",
       "             scoring=make_scorer(recall_score, average=None, labels=[&#x27;Hispanic&#x27;]),\n",
       "             verbose=3)</pre></div></div></div><div class=\"sk-parallel\"><div class=\"sk-parallel-item\"><div class=\"sk-item\"><div class=\"sk-label-container\"><div class=\"sk-label sk-toggleable\"><input class=\"sk-toggleable__control sk-hidden--visually\" id=\"sk-estimator-id-6\" type=\"checkbox\" ><label for=\"sk-estimator-id-6\" class=\"sk-toggleable__label sk-toggleable__label-arrow\">estimator: Pipeline</label><div class=\"sk-toggleable__content\"><pre>Pipeline(steps=[(&#x27;scaler&#x27;, MinMaxScaler()),\n",
       "                (&#x27;svc&#x27;, SVC(class_weight=&#x27;balanced&#x27;, random_state=101))])</pre></div></div></div><div class=\"sk-serial\"><div class=\"sk-item\"><div class=\"sk-serial\"><div class=\"sk-item\"><div class=\"sk-estimator sk-toggleable\"><input class=\"sk-toggleable__control sk-hidden--visually\" id=\"sk-estimator-id-7\" type=\"checkbox\" ><label for=\"sk-estimator-id-7\" class=\"sk-toggleable__label sk-toggleable__label-arrow\">MinMaxScaler</label><div class=\"sk-toggleable__content\"><pre>MinMaxScaler()</pre></div></div></div><div class=\"sk-item\"><div class=\"sk-estimator sk-toggleable\"><input class=\"sk-toggleable__control sk-hidden--visually\" id=\"sk-estimator-id-8\" type=\"checkbox\" ><label for=\"sk-estimator-id-8\" class=\"sk-toggleable__label sk-toggleable__label-arrow\">SVC</label><div class=\"sk-toggleable__content\"><pre>SVC(class_weight=&#x27;balanced&#x27;, random_state=101)</pre></div></div></div></div></div></div></div></div></div></div></div></div>"
      ],
      "text/plain": [
       "GridSearchCV(estimator=Pipeline(steps=[('scaler', MinMaxScaler()),\n",
       "                                       ('svc',\n",
       "                                        SVC(class_weight='balanced',\n",
       "                                            random_state=101))]),\n",
       "             n_jobs=-1,\n",
       "             param_grid={'svc__C': [1, 2, 3],\n",
       "                         'svc__gamma': ['scale', 'auto', 1, 0.1, 0.01]},\n",
       "             scoring=make_scorer(recall_score, average=None, labels=['Hispanic']),\n",
       "             verbose=3)"
      ]
     },
     "execution_count": 83,
     "metadata": {},
     "output_type": "execute_result"
    }
   ],
   "source": [
    "svm_model_grid.fit(X_train, y_train)"
   ]
  },
  {
   "cell_type": "code",
   "execution_count": 84,
   "metadata": {},
   "outputs": [
    {
     "data": {
      "text/plain": [
       "{'svc__C': 1, 'svc__gamma': 'scale'}"
      ]
     },
     "execution_count": 84,
     "metadata": {},
     "output_type": "execute_result"
    }
   ],
   "source": [
    "svm_model_grid.best_params_"
   ]
  },
  {
   "cell_type": "code",
   "execution_count": 85,
   "metadata": {},
   "outputs": [
    {
     "data": {
      "text/plain": [
       "0.7555462885738116"
      ]
     },
     "execution_count": 85,
     "metadata": {},
     "output_type": "execute_result"
    }
   ],
   "source": [
    "svm_model_grid.best_score_"
   ]
  },
  {
   "cell_type": "code",
   "execution_count": 86,
   "metadata": {},
   "outputs": [
    {
     "name": "stdout",
     "output_type": "stream",
     "text": [
      "Test_Set\n",
      "[[233  10  15]\n",
      " [  8 108  15]\n",
      " [ 12 118 635]]\n",
      "              precision    recall  f1-score   support\n",
      "\n",
      "       Black       0.92      0.90      0.91       258\n",
      "    Hispanic       0.46      0.82      0.59       131\n",
      "       White       0.95      0.83      0.89       765\n",
      "\n",
      "    accuracy                           0.85      1154\n",
      "   macro avg       0.78      0.85      0.80      1154\n",
      "weighted avg       0.89      0.85      0.86      1154\n",
      "\n",
      "\n",
      "Train_Set\n",
      "[[ 958   41   41]\n",
      " [  19  452   77]\n",
      " [  56  389 2582]]\n",
      "              precision    recall  f1-score   support\n",
      "\n",
      "       Black       0.93      0.92      0.92      1040\n",
      "    Hispanic       0.51      0.82      0.63       548\n",
      "       White       0.96      0.85      0.90      3027\n",
      "\n",
      "    accuracy                           0.87      4615\n",
      "   macro avg       0.80      0.87      0.82      4615\n",
      "weighted avg       0.90      0.87      0.87      4615\n",
      "\n"
     ]
    }
   ],
   "source": [
    "eval_metric(svm_model_grid, X_train, y_train, X_test, y_test)"
   ]
  },
  {
   "cell_type": "code",
   "execution_count": 87,
   "metadata": {},
   "outputs": [],
   "source": [
    "operations_svc = [(\"scaler\", MinMaxScaler()), (\"svc\", SVC(C=2, class_weight=\"balanced\",random_state=101))]"
   ]
  },
  {
   "cell_type": "code",
   "execution_count": 88,
   "metadata": {},
   "outputs": [
    {
     "data": {
      "image/png": "[encoded data removed]",
      "text/plain": [
       "<Figure size 576x396 with 1 Axes>"
      ]
     },
     "metadata": {},
     "output_type": "display_data"
    }
   ],
   "source": [
    "model = Pipeline(steps=operations_svc)\n",
    "\n",
    "viz = PrecisionRecallCurve(\n",
    "    model,\n",
    "    per_class=True, classes= [\"Black\", \"Hispanic\", \"White\"],\n",
    "    cmap=\"Set1\"\n",
    ")\n",
    "viz.fit(X_train, y_train)\n",
    "viz.score(X_test, y_test)\n",
    "viz.show();"
   ]
  },
  {
   "cell_type": "code",
   "execution_count": 89,
   "metadata": {},
   "outputs": [],
   "source": [
    "y_pred = svm_model_grid.predict(X_test)\n",
    "\n",
    "svc_AP = viz.score_[\"Hispanic\"]\n",
    "svc_f1 = f1_score(y_test, y_pred, average=None, labels=[\"Hispanic\"])\n",
    "svc_recall = recall_score(y_test, y_pred, average=None, labels=[\"Hispanic\"])"
   ]
  },
  {
   "cell_type": "code",
   "execution_count": null,
   "metadata": {},
   "outputs": [],
   "source": []
  },
  {
   "cell_type": "markdown",
   "metadata": {
    "heading_collapsed": true,
    "hidden": true,
    "id": "bDX_iLIls74C"
   },
   "source": [
    "## 3. RF"
   ]
  },
  {
   "cell_type": "markdown",
   "metadata": {
    "heading_collapsed": true,
    "hidden": true,
    "id": "qaTzrT6P1b7G"
   },
   "source": [
    "### Vanilla RF Model"
   ]
  },
  {
   "cell_type": "code",
   "execution_count": 90,
   "metadata": {
    "id": "gvtqL0Qg2CKf"
   },
   "outputs": [],
   "source": [
    "from sklearn.preprocessing import OrdinalEncoder"
   ]
  },
  {
   "cell_type": "code",
   "execution_count": 91,
   "metadata": {},
   "outputs": [],
   "source": [
    "X2 = data.drop(\"DODRace\",axis=1)\n",
    "y = data.DODRace    "
   ]
  },
  {
   "cell_type": "code",
   "execution_count": 92,
   "metadata": {},
   "outputs": [
    {
     "data": {
      "text/plain": [
       "Index(['Gender', 'SubjectsBirthLocation', 'WritingPreference'], dtype='object')"
      ]
     },
     "execution_count": 92,
     "metadata": {},
     "output_type": "execute_result"
    }
   ],
   "source": [
    "cat = X2.select_dtypes(\"object\").columns\n",
    "cat "
   ]
  },
  {
   "cell_type": "code",
   "execution_count": 93,
   "metadata": {},
   "outputs": [],
   "source": [
    "enc = OrdinalEncoder()"
   ]
  },
  {
   "cell_type": "code",
   "execution_count": 94,
   "metadata": {},
   "outputs": [
    {
     "data": {
      "text/html": [
       "<div>\n",
       "<style scoped>\n",
       "    .dataframe tbody tr th:only-of-type {\n",
       "        vertical-align: middle;\n",
       "    }\n",
       "\n",
       "    .dataframe tbody tr th {\n",
       "        vertical-align: top;\n",
       "    }\n",
       "\n",
       "    .dataframe thead th {\n",
       "        text-align: right;\n",
       "    }\n",
       "</style>\n",
       "<table border=\"1\" class=\"dataframe\">\n",
       "  <thead>\n",
       "    <tr style=\"text-align: right;\">\n",
       "      <th></th>\n",
       "      <th>abdominalextensiondepthsitting</th>\n",
       "      <th>acromialheight</th>\n",
       "      <th>acromionradialelength</th>\n",
       "      <th>anklecircumference</th>\n",
       "      <th>axillaheight</th>\n",
       "      <th>balloffootcircumference</th>\n",
       "      <th>balloffootlength</th>\n",
       "      <th>biacromialbreadth</th>\n",
       "      <th>bicepscircumferenceflexed</th>\n",
       "      <th>bicristalbreadth</th>\n",
       "      <th>...</th>\n",
       "      <th>waistdepth</th>\n",
       "      <th>waistfrontlengthsitting</th>\n",
       "      <th>waistheightomphalion</th>\n",
       "      <th>weightkg</th>\n",
       "      <th>wristcircumference</th>\n",
       "      <th>wristheight</th>\n",
       "      <th>Gender</th>\n",
       "      <th>SubjectsBirthLocation</th>\n",
       "      <th>Age</th>\n",
       "      <th>WritingPreference</th>\n",
       "    </tr>\n",
       "  </thead>\n",
       "  <tbody>\n",
       "    <tr>\n",
       "      <th>0</th>\n",
       "      <td>231</td>\n",
       "      <td>1282</td>\n",
       "      <td>301</td>\n",
       "      <td>204</td>\n",
       "      <td>1180</td>\n",
       "      <td>222</td>\n",
       "      <td>177</td>\n",
       "      <td>373</td>\n",
       "      <td>315</td>\n",
       "      <td>263</td>\n",
       "      <td>...</td>\n",
       "      <td>217</td>\n",
       "      <td>345</td>\n",
       "      <td>942</td>\n",
       "      <td>657</td>\n",
       "      <td>152</td>\n",
       "      <td>756</td>\n",
       "      <td>0.000</td>\n",
       "      <td>41.000</td>\n",
       "      <td>26</td>\n",
       "      <td>2.000</td>\n",
       "    </tr>\n",
       "    <tr>\n",
       "      <th>1</th>\n",
       "      <td>194</td>\n",
       "      <td>1379</td>\n",
       "      <td>320</td>\n",
       "      <td>207</td>\n",
       "      <td>1292</td>\n",
       "      <td>225</td>\n",
       "      <td>178</td>\n",
       "      <td>372</td>\n",
       "      <td>272</td>\n",
       "      <td>250</td>\n",
       "      <td>...</td>\n",
       "      <td>168</td>\n",
       "      <td>329</td>\n",
       "      <td>1032</td>\n",
       "      <td>534</td>\n",
       "      <td>155</td>\n",
       "      <td>815</td>\n",
       "      <td>0.000</td>\n",
       "      <td>18.000</td>\n",
       "      <td>21</td>\n",
       "      <td>2.000</td>\n",
       "    </tr>\n",
       "    <tr>\n",
       "      <th>2</th>\n",
       "      <td>183</td>\n",
       "      <td>1369</td>\n",
       "      <td>329</td>\n",
       "      <td>233</td>\n",
       "      <td>1271</td>\n",
       "      <td>237</td>\n",
       "      <td>196</td>\n",
       "      <td>397</td>\n",
       "      <td>300</td>\n",
       "      <td>276</td>\n",
       "      <td>...</td>\n",
       "      <td>159</td>\n",
       "      <td>367</td>\n",
       "      <td>1035</td>\n",
       "      <td>663</td>\n",
       "      <td>162</td>\n",
       "      <td>799</td>\n",
       "      <td>0.000</td>\n",
       "      <td>119.000</td>\n",
       "      <td>23</td>\n",
       "      <td>2.000</td>\n",
       "    </tr>\n",
       "    <tr>\n",
       "      <th>3</th>\n",
       "      <td>261</td>\n",
       "      <td>1356</td>\n",
       "      <td>306</td>\n",
       "      <td>214</td>\n",
       "      <td>1250</td>\n",
       "      <td>240</td>\n",
       "      <td>188</td>\n",
       "      <td>384</td>\n",
       "      <td>364</td>\n",
       "      <td>276</td>\n",
       "      <td>...</td>\n",
       "      <td>235</td>\n",
       "      <td>371</td>\n",
       "      <td>999</td>\n",
       "      <td>782</td>\n",
       "      <td>173</td>\n",
       "      <td>818</td>\n",
       "      <td>0.000</td>\n",
       "      <td>30.000</td>\n",
       "      <td>22</td>\n",
       "      <td>2.000</td>\n",
       "    </tr>\n",
       "    <tr>\n",
       "      <th>4</th>\n",
       "      <td>309</td>\n",
       "      <td>1303</td>\n",
       "      <td>308</td>\n",
       "      <td>214</td>\n",
       "      <td>1210</td>\n",
       "      <td>217</td>\n",
       "      <td>182</td>\n",
       "      <td>378</td>\n",
       "      <td>320</td>\n",
       "      <td>336</td>\n",
       "      <td>...</td>\n",
       "      <td>300</td>\n",
       "      <td>380</td>\n",
       "      <td>911</td>\n",
       "      <td>886</td>\n",
       "      <td>152</td>\n",
       "      <td>762</td>\n",
       "      <td>0.000</td>\n",
       "      <td>119.000</td>\n",
       "      <td>45</td>\n",
       "      <td>2.000</td>\n",
       "    </tr>\n",
       "  </tbody>\n",
       "</table>\n",
       "<p>5 rows × 97 columns</p>\n",
       "</div>"
      ],
      "text/plain": [
       "   abdominalextensiondepthsitting  acromialheight  acromionradialelength  \\\n",
       "0                             231            1282                    301   \n",
       "1                             194            1379                    320   \n",
       "2                             183            1369                    329   \n",
       "3                             261            1356                    306   \n",
       "4                             309            1303                    308   \n",
       "\n",
       "   anklecircumference  axillaheight  balloffootcircumference  \\\n",
       "0                 204          1180                      222   \n",
       "1                 207          1292                      225   \n",
       "2                 233          1271                      237   \n",
       "3                 214          1250                      240   \n",
       "4                 214          1210                      217   \n",
       "\n",
       "   balloffootlength  biacromialbreadth  bicepscircumferenceflexed  \\\n",
       "0               177                373                        315   \n",
       "1               178                372                        272   \n",
       "2               196                397                        300   \n",
       "3               188                384                        364   \n",
       "4               182                378                        320   \n",
       "\n",
       "   bicristalbreadth  ...  waistdepth  waistfrontlengthsitting  \\\n",
       "0               263  ...         217                      345   \n",
       "1               250  ...         168                      329   \n",
       "2               276  ...         159                      367   \n",
       "3               276  ...         235                      371   \n",
       "4               336  ...         300                      380   \n",
       "\n",
       "   waistheightomphalion  weightkg  wristcircumference  wristheight  Gender  \\\n",
       "0                   942       657                 152          756   0.000   \n",
       "1                  1032       534                 155          815   0.000   \n",
       "2                  1035       663                 162          799   0.000   \n",
       "3                   999       782                 173          818   0.000   \n",
       "4                   911       886                 152          762   0.000   \n",
       "\n",
       "   SubjectsBirthLocation  Age  WritingPreference  \n",
       "0                 41.000   26              2.000  \n",
       "1                 18.000   21              2.000  \n",
       "2                119.000   23              2.000  \n",
       "3                 30.000   22              2.000  \n",
       "4                119.000   45              2.000  \n",
       "\n",
       "[5 rows x 97 columns]"
      ]
     },
     "execution_count": 94,
     "metadata": {},
     "output_type": "execute_result"
    }
   ],
   "source": [
    "X2[cat] = enc.fit_transform(X2[cat])  \n",
    "X2.head()"
   ]
  },
  {
   "cell_type": "code",
   "execution_count": 95,
   "metadata": {},
   "outputs": [],
   "source": [
    "X_train2, X_test2, y_train2, y_test2 = train_test_split(X2, y, test_size=0.2, random_state=101, stratify =y)"
   ]
  },
  {
   "cell_type": "code",
   "execution_count": 96,
   "metadata": {},
   "outputs": [
    {
     "name": "stdout",
     "output_type": "stream",
     "text": [
      "Train features shape :  (4615, 97)\n",
      "Train target shape   :  (4615,)\n",
      "Test features shape  :  (1154, 97)\n",
      "Test target shape    :  (1154,)\n"
     ]
    }
   ],
   "source": [
    "print(\"Train features shape : \", X_train2.shape)\n",
    "print(\"Train target shape   : \", y_train2.shape)\n",
    "print(\"Test features shape  : \", X_test2.shape)\n",
    "print(\"Test target shape    : \", y_test2.shape)"
   ]
  },
  {
   "cell_type": "code",
   "execution_count": 97,
   "metadata": {},
   "outputs": [],
   "source": [
    "rf_model = RandomForestClassifier(class_weight=\"balanced\", random_state=101)"
   ]
  },
  {
   "cell_type": "code",
   "execution_count": 98,
   "metadata": {},
   "outputs": [
    {
     "data": {
      "text/html": [
       "<style>#sk-container-id-3 {color: black;background-color: white;}#sk-container-id-3 pre{padding: 0;}#sk-container-id-3 div.sk-toggleable {background-color: white;}#sk-container-id-3 label.sk-toggleable__label {cursor: pointer;display: block;width: 100%;margin-bottom: 0;padding: 0.3em;box-sizing: border-box;text-align: center;}#sk-container-id-3 label.sk-toggleable__label-arrow:before {content: \"▸\";float: left;margin-right: 0.25em;color: #696969;}#sk-container-id-3 label.sk-toggleable__label-arrow:hover:before {color: black;}#sk-container-id-3 div.sk-estimator:hover label.sk-toggleable__label-arrow:before {color: black;}#sk-container-id-3 div.sk-toggleable__content {max-height: 0;max-width: 0;overflow: hidden;text-align: left;background-color: #f0f8ff;}#sk-container-id-3 div.sk-toggleable__content pre {margin: 0.2em;color: black;border-radius: 0.25em;background-color: #f0f8ff;}#sk-container-id-3 input.sk-toggleable__control:checked~div.sk-toggleable__content {max-height: 200px;max-width: 100%;overflow: auto;}#sk-container-id-3 input.sk-toggleable__control:checked~label.sk-toggleable__label-arrow:before {content: \"▾\";}#sk-container-id-3 div.sk-estimator input.sk-toggleable__control:checked~label.sk-toggleable__label {background-color: #d4ebff;}#sk-container-id-3 div.sk-label input.sk-toggleable__control:checked~label.sk-toggleable__label {background-color: #d4ebff;}#sk-container-id-3 input.sk-hidden--visually {border: 0;clip: rect(1px 1px 1px 1px);clip: rect(1px, 1px, 1px, 1px);height: 1px;margin: -1px;overflow: hidden;padding: 0;position: absolute;width: 1px;}#sk-container-id-3 div.sk-estimator {font-family: monospace;background-color: #f0f8ff;border: 1px dotted black;border-radius: 0.25em;box-sizing: border-box;margin-bottom: 0.5em;}#sk-container-id-3 div.sk-estimator:hover {background-color: #d4ebff;}#sk-container-id-3 div.sk-parallel-item::after {content: \"\";width: 100%;border-bottom: 1px solid gray;flex-grow: 1;}#sk-container-id-3 div.sk-label:hover label.sk-toggleable__label {background-color: #d4ebff;}#sk-container-id-3 div.sk-serial::before {content: \"\";position: absolute;border-left: 1px solid gray;box-sizing: border-box;top: 0;bottom: 0;left: 50%;z-index: 0;}#sk-container-id-3 div.sk-serial {display: flex;flex-direction: column;align-items: center;background-color: white;padding-right: 0.2em;padding-left: 0.2em;position: relative;}#sk-container-id-3 div.sk-item {position: relative;z-index: 1;}#sk-container-id-3 div.sk-parallel {display: flex;align-items: stretch;justify-content: center;background-color: white;position: relative;}#sk-container-id-3 div.sk-item::before, #sk-container-id-3 div.sk-parallel-item::before {content: \"\";position: absolute;border-left: 1px solid gray;box-sizing: border-box;top: 0;bottom: 0;left: 50%;z-index: -1;}#sk-container-id-3 div.sk-parallel-item {display: flex;flex-direction: column;z-index: 1;position: relative;background-color: white;}#sk-container-id-3 div.sk-parallel-item:first-child::after {align-self: flex-end;width: 50%;}#sk-container-id-3 div.sk-parallel-item:last-child::after {align-self: flex-start;width: 50%;}#sk-container-id-3 div.sk-parallel-item:only-child::after {width: 0;}#sk-container-id-3 div.sk-dashed-wrapped {border: 1px dashed gray;margin: 0 0.4em 0.5em 0.4em;box-sizing: border-box;padding-bottom: 0.4em;background-color: white;}#sk-container-id-3 div.sk-label label {font-family: monospace;font-weight: bold;display: inline-block;line-height: 1.2em;}#sk-container-id-3 div.sk-label-container {text-align: center;}#sk-container-id-3 div.sk-container {/* jupyter's `normalize.less` sets `[hidden] { display: none; }` but bootstrap.min.css set `[hidden] { display: none !important; }` so we also need the `!important` here to be able to override the default hidden behavior on the sphinx rendered scikit-learn.org. See: https://github.com/scikit-learn/scikit-learn/issues/21755 */display: inline-block !important;position: relative;}#sk-container-id-3 div.sk-text-repr-fallback {display: none;}</style><div id=\"sk-container-id-3\" class=\"sk-top-container\"><div class=\"sk-text-repr-fallback\"><pre>RandomForestClassifier(class_weight=&#x27;balanced&#x27;, random_state=101)</pre><b>In a Jupyter environment, please rerun this cell to show the HTML representation or trust the notebook. <br />On GitHub, the HTML representation is unable to render, please try loading this page with nbviewer.org.</b></div><div class=\"sk-container\" hidden><div class=\"sk-item\"><div class=\"sk-estimator sk-toggleable\"><input class=\"sk-toggleable__control sk-hidden--visually\" id=\"sk-estimator-id-9\" type=\"checkbox\" checked><label for=\"sk-estimator-id-9\" class=\"sk-toggleable__label sk-toggleable__label-arrow\">RandomForestClassifier</label><div class=\"sk-toggleable__content\"><pre>RandomForestClassifier(class_weight=&#x27;balanced&#x27;, random_state=101)</pre></div></div></div></div></div>"
      ],
      "text/plain": [
       "RandomForestClassifier(class_weight='balanced', random_state=101)"
      ]
     },
     "execution_count": 98,
     "metadata": {},
     "output_type": "execute_result"
    }
   ],
   "source": [
    "rf_model.fit(X_train2, y_train2)"
   ]
  },
  {
   "cell_type": "code",
   "execution_count": 99,
   "metadata": {},
   "outputs": [
    {
     "name": "stdout",
     "output_type": "stream",
     "text": [
      "Test_Set\n",
      "[[182   1  77]\n",
      " [  7   7 122]\n",
      " [  8   2 748]]\n",
      "              precision    recall  f1-score   support\n",
      "\n",
      "       Black       0.92      0.70      0.80       260\n",
      "    Hispanic       0.70      0.05      0.10       136\n",
      "       White       0.79      0.99      0.88       758\n",
      "\n",
      "    accuracy                           0.81      1154\n",
      "   macro avg       0.80      0.58      0.59      1154\n",
      "weighted avg       0.81      0.81      0.77      1154\n",
      "\n",
      "\n",
      "Train_Set\n",
      "[[1038    0    0]\n",
      " [   0  543    0]\n",
      " [   0    0 3034]]\n",
      "              precision    recall  f1-score   support\n",
      "\n",
      "       Black       1.00      1.00      1.00      1038\n",
      "    Hispanic       1.00      1.00      1.00       543\n",
      "       White       1.00      1.00      1.00      3034\n",
      "\n",
      "    accuracy                           1.00      4615\n",
      "   macro avg       1.00      1.00      1.00      4615\n",
      "weighted avg       1.00      1.00      1.00      4615\n",
      "\n"
     ]
    }
   ],
   "source": [
    "eval_metric(rf_model, X_train2, y_train2, X_test2, y_test2)"
   ]
  },
  {
   "cell_type": "markdown",
   "metadata": {},
   "source": [
    "<b>Hispanic data came out bad even though we balanced it. In addition, there is an overfitting situation in the train. In the next steps we will try to improve the scores by playing with the hyperparameters.</b>"
   ]
  },
  {
   "cell_type": "code",
   "execution_count": 100,
   "metadata": {},
   "outputs": [
    {
     "data": {
      "text/plain": [
       "test_f1_Hispanic          0.081\n",
       "test_precision_Hispanic   0.567\n",
       "test_recall_Hispanic      0.044\n",
       "dtype: float64"
      ]
     },
     "execution_count": 100,
     "metadata": {},
     "output_type": "execute_result"
    }
   ],
   "source": [
    "model = RandomForestClassifier(class_weight=\"balanced\", random_state=101)\n",
    "\n",
    "scores = cross_validate(model, X_train2, y_train2, scoring = scoring, cv = 10)\n",
    "df_scores = pd.DataFrame(scores, index = range(1, 11))\n",
    "df_scores.mean()[2:]"
   ]
  },
  {
   "cell_type": "markdown",
   "metadata": {
    "heading_collapsed": true,
    "hidden": true,
    "id": "MkLAZ_M41b7G"
   },
   "source": [
    "### RF Model GridsearchCV"
   ]
  },
  {
   "cell_type": "code",
   "execution_count": 101,
   "metadata": {
    "id": "hpmPr3202EbD"
   },
   "outputs": [],
   "source": [
    "param_grid = {'n_estimators':[400,500],\n",
    "             'max_depth':[10,12,14,16]}"
   ]
  },
  {
   "cell_type": "code",
   "execution_count": 102,
   "metadata": {},
   "outputs": [],
   "source": [
    "rf_model = RandomForestClassifier(class_weight=\"balanced\", random_state=101)\n",
    "rf_grid_model = GridSearchCV(rf_model,\n",
    "                             param_grid,\n",
    "                             verbose=3,\n",
    "                             scoring=recall_Hispanic,\n",
    "                             n_jobs=-1)"
   ]
  },
  {
   "cell_type": "code",
   "execution_count": 103,
   "metadata": {},
   "outputs": [
    {
     "name": "stdout",
     "output_type": "stream",
     "text": [
      "Fitting 5 folds for each of 8 candidates, totalling 40 fits\n"
     ]
    },
    {
     "data": {
      "text/html": [
       "<style>#sk-container-id-4 {color: black;background-color: white;}#sk-container-id-4 pre{padding: 0;}#sk-container-id-4 div.sk-toggleable {background-color: white;}#sk-container-id-4 label.sk-toggleable__label {cursor: pointer;display: block;width: 100%;margin-bottom: 0;padding: 0.3em;box-sizing: border-box;text-align: center;}#sk-container-id-4 label.sk-toggleable__label-arrow:before {content: \"▸\";float: left;margin-right: 0.25em;color: #696969;}#sk-container-id-4 label.sk-toggleable__label-arrow:hover:before {color: black;}#sk-container-id-4 div.sk-estimator:hover label.sk-toggleable__label-arrow:before {color: black;}#sk-container-id-4 div.sk-toggleable__content {max-height: 0;max-width: 0;overflow: hidden;text-align: left;background-color: #f0f8ff;}#sk-container-id-4 div.sk-toggleable__content pre {margin: 0.2em;color: black;border-radius: 0.25em;background-color: #f0f8ff;}#sk-container-id-4 input.sk-toggleable__control:checked~div.sk-toggleable__content {max-height: 200px;max-width: 100%;overflow: auto;}#sk-container-id-4 input.sk-toggleable__control:checked~label.sk-toggleable__label-arrow:before {content: \"▾\";}#sk-container-id-4 div.sk-estimator input.sk-toggleable__control:checked~label.sk-toggleable__label {background-color: #d4ebff;}#sk-container-id-4 div.sk-label input.sk-toggleable__control:checked~label.sk-toggleable__label {background-color: #d4ebff;}#sk-container-id-4 input.sk-hidden--visually {border: 0;clip: rect(1px 1px 1px 1px);clip: rect(1px, 1px, 1px, 1px);height: 1px;margin: -1px;overflow: hidden;padding: 0;position: absolute;width: 1px;}#sk-container-id-4 div.sk-estimator {font-family: monospace;background-color: #f0f8ff;border: 1px dotted black;border-radius: 0.25em;box-sizing: border-box;margin-bottom: 0.5em;}#sk-container-id-4 div.sk-estimator:hover {background-color: #d4ebff;}#sk-container-id-4 div.sk-parallel-item::after {content: \"\";width: 100%;border-bottom: 1px solid gray;flex-grow: 1;}#sk-container-id-4 div.sk-label:hover label.sk-toggleable__label {background-color: #d4ebff;}#sk-container-id-4 div.sk-serial::before {content: \"\";position: absolute;border-left: 1px solid gray;box-sizing: border-box;top: 0;bottom: 0;left: 50%;z-index: 0;}#sk-container-id-4 div.sk-serial {display: flex;flex-direction: column;align-items: center;background-color: white;padding-right: 0.2em;padding-left: 0.2em;position: relative;}#sk-container-id-4 div.sk-item {position: relative;z-index: 1;}#sk-container-id-4 div.sk-parallel {display: flex;align-items: stretch;justify-content: center;background-color: white;position: relative;}#sk-container-id-4 div.sk-item::before, #sk-container-id-4 div.sk-parallel-item::before {content: \"\";position: absolute;border-left: 1px solid gray;box-sizing: border-box;top: 0;bottom: 0;left: 50%;z-index: -1;}#sk-container-id-4 div.sk-parallel-item {display: flex;flex-direction: column;z-index: 1;position: relative;background-color: white;}#sk-container-id-4 div.sk-parallel-item:first-child::after {align-self: flex-end;width: 50%;}#sk-container-id-4 div.sk-parallel-item:last-child::after {align-self: flex-start;width: 50%;}#sk-container-id-4 div.sk-parallel-item:only-child::after {width: 0;}#sk-container-id-4 div.sk-dashed-wrapped {border: 1px dashed gray;margin: 0 0.4em 0.5em 0.4em;box-sizing: border-box;padding-bottom: 0.4em;background-color: white;}#sk-container-id-4 div.sk-label label {font-family: monospace;font-weight: bold;display: inline-block;line-height: 1.2em;}#sk-container-id-4 div.sk-label-container {text-align: center;}#sk-container-id-4 div.sk-container {/* jupyter's `normalize.less` sets `[hidden] { display: none; }` but bootstrap.min.css set `[hidden] { display: none !important; }` so we also need the `!important` here to be able to override the default hidden behavior on the sphinx rendered scikit-learn.org. See: https://github.com/scikit-learn/scikit-learn/issues/21755 */display: inline-block !important;position: relative;}#sk-container-id-4 div.sk-text-repr-fallback {display: none;}</style><div id=\"sk-container-id-4\" class=\"sk-top-container\"><div class=\"sk-text-repr-fallback\"><pre>GridSearchCV(estimator=RandomForestClassifier(class_weight=&#x27;balanced&#x27;,\n",
       "                                              random_state=101),\n",
       "             n_jobs=-1,\n",
       "             param_grid={&#x27;max_depth&#x27;: [10, 12, 14, 16],\n",
       "                         &#x27;n_estimators&#x27;: [400, 500]},\n",
       "             scoring=make_scorer(recall_score, average=None, labels=[&#x27;Hispanic&#x27;]),\n",
       "             verbose=3)</pre><b>In a Jupyter environment, please rerun this cell to show the HTML representation or trust the notebook. <br />On GitHub, the HTML representation is unable to render, please try loading this page with nbviewer.org.</b></div><div class=\"sk-container\" hidden><div class=\"sk-item sk-dashed-wrapped\"><div class=\"sk-label-container\"><div class=\"sk-label sk-toggleable\"><input class=\"sk-toggleable__control sk-hidden--visually\" id=\"sk-estimator-id-10\" type=\"checkbox\" ><label for=\"sk-estimator-id-10\" class=\"sk-toggleable__label sk-toggleable__label-arrow\">GridSearchCV</label><div class=\"sk-toggleable__content\"><pre>GridSearchCV(estimator=RandomForestClassifier(class_weight=&#x27;balanced&#x27;,\n",
       "                                              random_state=101),\n",
       "             n_jobs=-1,\n",
       "             param_grid={&#x27;max_depth&#x27;: [10, 12, 14, 16],\n",
       "                         &#x27;n_estimators&#x27;: [400, 500]},\n",
       "             scoring=make_scorer(recall_score, average=None, labels=[&#x27;Hispanic&#x27;]),\n",
       "             verbose=3)</pre></div></div></div><div class=\"sk-parallel\"><div class=\"sk-parallel-item\"><div class=\"sk-item\"><div class=\"sk-label-container\"><div class=\"sk-label sk-toggleable\"><input class=\"sk-toggleable__control sk-hidden--visually\" id=\"sk-estimator-id-11\" type=\"checkbox\" ><label for=\"sk-estimator-id-11\" class=\"sk-toggleable__label sk-toggleable__label-arrow\">estimator: RandomForestClassifier</label><div class=\"sk-toggleable__content\"><pre>RandomForestClassifier(class_weight=&#x27;balanced&#x27;, random_state=101)</pre></div></div></div><div class=\"sk-serial\"><div class=\"sk-item\"><div class=\"sk-estimator sk-toggleable\"><input class=\"sk-toggleable__control sk-hidden--visually\" id=\"sk-estimator-id-12\" type=\"checkbox\" ><label for=\"sk-estimator-id-12\" class=\"sk-toggleable__label sk-toggleable__label-arrow\">RandomForestClassifier</label><div class=\"sk-toggleable__content\"><pre>RandomForestClassifier(class_weight=&#x27;balanced&#x27;, random_state=101)</pre></div></div></div></div></div></div></div></div></div></div>"
      ],
      "text/plain": [
       "GridSearchCV(estimator=RandomForestClassifier(class_weight='balanced',\n",
       "                                              random_state=101),\n",
       "             n_jobs=-1,\n",
       "             param_grid={'max_depth': [10, 12, 14, 16],\n",
       "                         'n_estimators': [400, 500]},\n",
       "             scoring=make_scorer(recall_score, average=None, labels=['Hispanic']),\n",
       "             verbose=3)"
      ]
     },
     "execution_count": 103,
     "metadata": {},
     "output_type": "execute_result"
    }
   ],
   "source": [
    "\n",
    "rf_grid_model.fit(X_train2,y_train2)"
   ]
  },
  {
   "cell_type": "code",
   "execution_count": 104,
   "metadata": {},
   "outputs": [
    {
     "data": {
      "text/plain": [
       "{'max_depth': 10, 'n_estimators': 400}"
      ]
     },
     "execution_count": 104,
     "metadata": {},
     "output_type": "execute_result"
    }
   ],
   "source": [
    "rf_grid_model.best_params_"
   ]
  },
  {
   "cell_type": "code",
   "execution_count": 105,
   "metadata": {},
   "outputs": [
    {
     "data": {
      "text/plain": [
       "0.20258239891267413"
      ]
     },
     "execution_count": 105,
     "metadata": {},
     "output_type": "execute_result"
    }
   ],
   "source": [
    "rf_grid_model.best_score_"
   ]
  },
  {
   "cell_type": "code",
   "execution_count": 106,
   "metadata": {},
   "outputs": [
    {
     "name": "stdout",
     "output_type": "stream",
     "text": [
      "Test_Set\n",
      "[[201   4  55]\n",
      " [ 13  44  79]\n",
      " [ 18  29 711]]\n",
      "              precision    recall  f1-score   support\n",
      "\n",
      "       Black       0.87      0.77      0.82       260\n",
      "    Hispanic       0.57      0.32      0.41       136\n",
      "       White       0.84      0.94      0.89       758\n",
      "\n",
      "    accuracy                           0.83      1154\n",
      "   macro avg       0.76      0.68      0.71      1154\n",
      "weighted avg       0.82      0.83      0.82      1154\n",
      "\n",
      "\n",
      "Train_Set\n",
      "[[1022    0   16]\n",
      " [   0  533   10]\n",
      " [   7   19 3008]]\n",
      "              precision    recall  f1-score   support\n",
      "\n",
      "       Black       0.99      0.98      0.99      1038\n",
      "    Hispanic       0.97      0.98      0.97       543\n",
      "       White       0.99      0.99      0.99      3034\n",
      "\n",
      "    accuracy                           0.99      4615\n",
      "   macro avg       0.98      0.99      0.98      4615\n",
      "weighted avg       0.99      0.99      0.99      4615\n",
      "\n"
     ]
    }
   ],
   "source": [
    "eval_metric(rf_grid_model, X_train2, y_train2, X_test2, y_test2)"
   ]
  },
  {
   "cell_type": "code",
   "execution_count": 107,
   "metadata": {},
   "outputs": [
    {
     "data": {
      "image/png": "[encoded data removed]",
      "text/plain": [
       "<Figure size 576x396 with 1 Axes>"
      ]
     },
     "metadata": {},
     "output_type": "display_data"
    }
   ],
   "source": [
    "model = RandomForestClassifier(class_weight=\"balanced\", random_state=101, max_depth=10, n_estimators = 500)\n",
    "\n",
    "viz = PrecisionRecallCurve(\n",
    "    model,\n",
    "    per_class=True, classes= [\"Black\", \"Hispanic\", \"White\"],\n",
    "    cmap=\"Set1\"\n",
    ")\n",
    "viz.fit(X_train2, y_train2)\n",
    "viz.score(X_test2, y_test2)\n",
    "viz.show();"
   ]
  },
  {
   "cell_type": "code",
   "execution_count": 108,
   "metadata": {},
   "outputs": [],
   "source": [
    "y_pred = rf_grid_model.predict(X_test2)\n",
    "\n",
    "rf_AP = viz.score_[\"Hispanic\"]\n",
    "rf_f1 = f1_score(y_test2, y_pred, average=None, labels=[\"Hispanic\"])\n",
    "rf_recall = recall_score(y_test2, y_pred, average=None, labels=[\"Hispanic\"])"
   ]
  },
  {
   "cell_type": "markdown",
   "metadata": {
    "heading_collapsed": true,
    "hidden": true,
    "id": "PvcPc4V81b7H"
   },
   "source": [
    "## 4. XGBoost"
   ]
  },
  {
   "cell_type": "markdown",
   "metadata": {
    "heading_collapsed": true,
    "hidden": true,
    "id": "MuxxUFoW1b7H"
   },
   "source": [
    "### Vanilla XGBoost Model"
   ]
  },
  {
   "cell_type": "code",
   "execution_count": 109,
   "metadata": {
    "id": "Nfi1aa152HbR"
   },
   "outputs": [
    {
     "name": "stdout",
     "output_type": "stream",
     "text": [
      "Requirement already satisfied: xgboost==0.90 in c:\\users\\berkay.akin\\anaconda3\\lib\\site-packages (0.90)\n",
      "Requirement already satisfied: scipy in c:\\users\\berkay.akin\\anaconda3\\lib\\site-packages (from xgboost==0.90) (1.7.3)\n",
      "Requirement already satisfied: numpy in c:\\users\\berkay.akin\\anaconda3\\lib\\site-packages (from xgboost==0.90) (1.22.4)\n"
     ]
    }
   ],
   "source": [
    "!pip install xgboost==0.90"
   ]
  },
  {
   "cell_type": "code",
   "execution_count": 110,
   "metadata": {},
   "outputs": [
    {
     "data": {
      "text/plain": [
       "'0.90'"
      ]
     },
     "execution_count": 110,
     "metadata": {},
     "output_type": "execute_result"
    }
   ],
   "source": [
    "import xgboost as xgb\n",
    "\n",
    "xgb.__version__"
   ]
  },
  {
   "cell_type": "code",
   "execution_count": 111,
   "metadata": {},
   "outputs": [],
   "source": [
    "from xgboost import XGBClassifier"
   ]
  },
  {
   "cell_type": "code",
   "execution_count": 112,
   "metadata": {},
   "outputs": [],
   "source": [
    "xgb_model = XGBClassifier(random_state=101)"
   ]
  },
  {
   "cell_type": "code",
   "execution_count": 113,
   "metadata": {},
   "outputs": [],
   "source": [
    "from sklearn.utils import class_weight"
   ]
  },
  {
   "cell_type": "code",
   "execution_count": 114,
   "metadata": {},
   "outputs": [
    {
     "data": {
      "text/plain": [
       "array([2.8330264 , 0.50703142, 0.50703142, ..., 0.50703142, 1.4820167 ,\n",
       "       0.50703142])"
      ]
     },
     "execution_count": 114,
     "metadata": {},
     "output_type": "execute_result"
    }
   ],
   "source": [
    "classes_weights = class_weight.compute_sample_weight(class_weight='balanced', y=y_train2)\n",
    "classes_weights"
   ]
  },
  {
   "cell_type": "code",
   "execution_count": 115,
   "metadata": {},
   "outputs": [
    {
     "data": {
      "text/html": [
       "<style>#sk-container-id-5 {color: black;background-color: white;}#sk-container-id-5 pre{padding: 0;}#sk-container-id-5 div.sk-toggleable {background-color: white;}#sk-container-id-5 label.sk-toggleable__label {cursor: pointer;display: block;width: 100%;margin-bottom: 0;padding: 0.3em;box-sizing: border-box;text-align: center;}#sk-container-id-5 label.sk-toggleable__label-arrow:before {content: \"▸\";float: left;margin-right: 0.25em;color: #696969;}#sk-container-id-5 label.sk-toggleable__label-arrow:hover:before {color: black;}#sk-container-id-5 div.sk-estimator:hover label.sk-toggleable__label-arrow:before {color: black;}#sk-container-id-5 div.sk-toggleable__content {max-height: 0;max-width: 0;overflow: hidden;text-align: left;background-color: #f0f8ff;}#sk-container-id-5 div.sk-toggleable__content pre {margin: 0.2em;color: black;border-radius: 0.25em;background-color: #f0f8ff;}#sk-container-id-5 input.sk-toggleable__control:checked~div.sk-toggleable__content {max-height: 200px;max-width: 100%;overflow: auto;}#sk-container-id-5 input.sk-toggleable__control:checked~label.sk-toggleable__label-arrow:before {content: \"▾\";}#sk-container-id-5 div.sk-estimator input.sk-toggleable__control:checked~label.sk-toggleable__label {background-color: #d4ebff;}#sk-container-id-5 div.sk-label input.sk-toggleable__control:checked~label.sk-toggleable__label {background-color: #d4ebff;}#sk-container-id-5 input.sk-hidden--visually {border: 0;clip: rect(1px 1px 1px 1px);clip: rect(1px, 1px, 1px, 1px);height: 1px;margin: -1px;overflow: hidden;padding: 0;position: absolute;width: 1px;}#sk-container-id-5 div.sk-estimator {font-family: monospace;background-color: #f0f8ff;border: 1px dotted black;border-radius: 0.25em;box-sizing: border-box;margin-bottom: 0.5em;}#sk-container-id-5 div.sk-estimator:hover {background-color: #d4ebff;}#sk-container-id-5 div.sk-parallel-item::after {content: \"\";width: 100%;border-bottom: 1px solid gray;flex-grow: 1;}#sk-container-id-5 div.sk-label:hover label.sk-toggleable__label {background-color: #d4ebff;}#sk-container-id-5 div.sk-serial::before {content: \"\";position: absolute;border-left: 1px solid gray;box-sizing: border-box;top: 0;bottom: 0;left: 50%;z-index: 0;}#sk-container-id-5 div.sk-serial {display: flex;flex-direction: column;align-items: center;background-color: white;padding-right: 0.2em;padding-left: 0.2em;position: relative;}#sk-container-id-5 div.sk-item {position: relative;z-index: 1;}#sk-container-id-5 div.sk-parallel {display: flex;align-items: stretch;justify-content: center;background-color: white;position: relative;}#sk-container-id-5 div.sk-item::before, #sk-container-id-5 div.sk-parallel-item::before {content: \"\";position: absolute;border-left: 1px solid gray;box-sizing: border-box;top: 0;bottom: 0;left: 50%;z-index: -1;}#sk-container-id-5 div.sk-parallel-item {display: flex;flex-direction: column;z-index: 1;position: relative;background-color: white;}#sk-container-id-5 div.sk-parallel-item:first-child::after {align-self: flex-end;width: 50%;}#sk-container-id-5 div.sk-parallel-item:last-child::after {align-self: flex-start;width: 50%;}#sk-container-id-5 div.sk-parallel-item:only-child::after {width: 0;}#sk-container-id-5 div.sk-dashed-wrapped {border: 1px dashed gray;margin: 0 0.4em 0.5em 0.4em;box-sizing: border-box;padding-bottom: 0.4em;background-color: white;}#sk-container-id-5 div.sk-label label {font-family: monospace;font-weight: bold;display: inline-block;line-height: 1.2em;}#sk-container-id-5 div.sk-label-container {text-align: center;}#sk-container-id-5 div.sk-container {/* jupyter's `normalize.less` sets `[hidden] { display: none; }` but bootstrap.min.css set `[hidden] { display: none !important; }` so we also need the `!important` here to be able to override the default hidden behavior on the sphinx rendered scikit-learn.org. See: https://github.com/scikit-learn/scikit-learn/issues/21755 */display: inline-block !important;position: relative;}#sk-container-id-5 div.sk-text-repr-fallback {display: none;}</style><div id=\"sk-container-id-5\" class=\"sk-top-container\"><div class=\"sk-text-repr-fallback\"><pre>XGBClassifier(objective=&#x27;multi:softprob&#x27;, random_state=101)</pre><b>In a Jupyter environment, please rerun this cell to show the HTML representation or trust the notebook. <br />On GitHub, the HTML representation is unable to render, please try loading this page with nbviewer.org.</b></div><div class=\"sk-container\" hidden><div class=\"sk-item\"><div class=\"sk-estimator sk-toggleable\"><input class=\"sk-toggleable__control sk-hidden--visually\" id=\"sk-estimator-id-13\" type=\"checkbox\" checked><label for=\"sk-estimator-id-13\" class=\"sk-toggleable__label sk-toggleable__label-arrow\">XGBClassifier</label><div class=\"sk-toggleable__content\"><pre>XGBClassifier(objective=&#x27;multi:softprob&#x27;, random_state=101)</pre></div></div></div></div></div>"
      ],
      "text/plain": [
       "XGBClassifier(objective='multi:softprob', random_state=101)"
      ]
     },
     "execution_count": 115,
     "metadata": {},
     "output_type": "execute_result"
    }
   ],
   "source": [
    "xgb_model.fit(X_train2,y_train2, sample_weight=classes_weights)"
   ]
  },
  {
   "cell_type": "code",
   "execution_count": 116,
   "metadata": {},
   "outputs": [
    {
     "name": "stdout",
     "output_type": "stream",
     "text": [
      "Test_Set\n",
      "[[232  17  11]\n",
      " [ 11  93  32]\n",
      " [ 25 110 623]]\n",
      "              precision    recall  f1-score   support\n",
      "\n",
      "       Black       0.87      0.89      0.88       260\n",
      "    Hispanic       0.42      0.68      0.52       136\n",
      "       White       0.94      0.82      0.88       758\n",
      "\n",
      "    accuracy                           0.82      1154\n",
      "   macro avg       0.74      0.80      0.76      1154\n",
      "weighted avg       0.86      0.82      0.83      1154\n",
      "\n",
      "\n",
      "Train_Set\n",
      "[[ 979   21   38]\n",
      " [  17  464   62]\n",
      " [  97  315 2622]]\n",
      "              precision    recall  f1-score   support\n",
      "\n",
      "       Black       0.90      0.94      0.92      1038\n",
      "    Hispanic       0.58      0.85      0.69       543\n",
      "       White       0.96      0.86      0.91      3034\n",
      "\n",
      "    accuracy                           0.88      4615\n",
      "   macro avg       0.81      0.89      0.84      4615\n",
      "weighted avg       0.90      0.88      0.89      4615\n",
      "\n"
     ]
    }
   ],
   "source": [
    "eval_metric(xgb_model, X_train2, y_train2, X_test2, y_test2)"
   ]
  },
  {
   "cell_type": "code",
   "execution_count": 117,
   "metadata": {},
   "outputs": [
    {
     "data": {
      "text/plain": [
       "test_f1_Hispanic          0.504\n",
       "test_precision_Hispanic   0.426\n",
       "test_recall_Hispanic      0.621\n",
       "dtype: float64"
      ]
     },
     "execution_count": 117,
     "metadata": {},
     "output_type": "execute_result"
    }
   ],
   "source": [
    "model = XGBClassifier(random_state=101)\n",
    "\n",
    "scores = cross_validate(model, X_train2, y_train2, scoring = scoring, cv = 10, fit_params={\"sample_weight\":classes_weights})\n",
    "df_scores = pd.DataFrame(scores, index = range(1, 11))\n",
    "df_scores.mean()[2:]"
   ]
  },
  {
   "cell_type": "markdown",
   "metadata": {
    "heading_collapsed": true,
    "hidden": true,
    "id": "p3gH5QvE1b7I"
   },
   "source": [
    "### XGBoost Model GridsearchCV"
   ]
  },
  {
   "cell_type": "code",
   "execution_count": 118,
   "metadata": {
    "id": "72E3Cmnm2KOE"
   },
   "outputs": [],
   "source": [
    "comp = pd.DataFrame(classes_weights)"
   ]
  },
  {
   "cell_type": "code",
   "execution_count": 119,
   "metadata": {},
   "outputs": [],
   "source": [
    "comp[\"label\"]= y_train2.reset_index(drop=True)"
   ]
  },
  {
   "cell_type": "code",
   "execution_count": 120,
   "metadata": {},
   "outputs": [
    {
     "data": {
      "text/plain": [
       "label     0    \n",
       "Black     1.482    1038\n",
       "Hispanic  2.833     543\n",
       "White     0.507    3034\n",
       "Name: 0, dtype: int64"
      ]
     },
     "execution_count": 120,
     "metadata": {},
     "output_type": "execute_result"
    }
   ],
   "source": [
    "comp.groupby(\"label\")[0].value_counts()"
   ]
  },
  {
   "cell_type": "code",
   "execution_count": 121,
   "metadata": {},
   "outputs": [],
   "source": [
    "param_grid = {\"n_estimators\":[100, 300],\n",
    "              'max_depth':[3,5,6],\n",
    "              \"learning_rate\": [0.1, 0.3],\n",
    "              \"subsample\":[0.5, 1],\n",
    "              \"colsample_bytree\":[0.5, 1]}  "
   ]
  },
  {
   "cell_type": "code",
   "execution_count": 122,
   "metadata": {},
   "outputs": [
    {
     "name": "stdout",
     "output_type": "stream",
     "text": [
      "Fitting 5 folds for each of 48 candidates, totalling 240 fits\n"
     ]
    }
   ],
   "source": [
    "xgb_model = XGBClassifier(random_state=101)\n",
    "xgb_grid_model = GridSearchCV(xgb_model, \n",
    "                              param_grid, \n",
    "                              scoring=recall_Hispanic, \n",
    "                              n_jobs = -1, \n",
    "                              verbose = 2).fit(X_train2, y_train2,sample_weight=classes_weights)"
   ]
  },
  {
   "cell_type": "code",
   "execution_count": 123,
   "metadata": {},
   "outputs": [
    {
     "data": {
      "text/plain": [
       "{'colsample_bytree': 0.5,\n",
       " 'learning_rate': 0.1,\n",
       " 'max_depth': 3,\n",
       " 'n_estimators': 100,\n",
       " 'subsample': 1}"
      ]
     },
     "execution_count": 123,
     "metadata": {},
     "output_type": "execute_result"
    }
   ],
   "source": [
    "xgb_grid_model.best_params_ "
   ]
  },
  {
   "cell_type": "code",
   "execution_count": 124,
   "metadata": {},
   "outputs": [
    {
     "data": {
      "text/plain": [
       "0.6242439687393816"
      ]
     },
     "execution_count": 124,
     "metadata": {},
     "output_type": "execute_result"
    }
   ],
   "source": [
    "xgb_grid_model.best_score_"
   ]
  },
  {
   "cell_type": "code",
   "execution_count": 125,
   "metadata": {},
   "outputs": [
    {
     "name": "stdout",
     "output_type": "stream",
     "text": [
      "Test_Set\n",
      "[[233  18   9]\n",
      " [ 10  95  31]\n",
      " [ 26 119 613]]\n",
      "              precision    recall  f1-score   support\n",
      "\n",
      "       Black       0.87      0.90      0.88       260\n",
      "    Hispanic       0.41      0.70      0.52       136\n",
      "       White       0.94      0.81      0.87       758\n",
      "\n",
      "    accuracy                           0.82      1154\n",
      "   macro avg       0.74      0.80      0.76      1154\n",
      "weighted avg       0.86      0.82      0.83      1154\n",
      "\n",
      "\n",
      "Train_Set\n",
      "[[ 979   19   40]\n",
      " [  16  463   64]\n",
      " [  94  328 2612]]\n",
      "              precision    recall  f1-score   support\n",
      "\n",
      "       Black       0.90      0.94      0.92      1038\n",
      "    Hispanic       0.57      0.85      0.68       543\n",
      "       White       0.96      0.86      0.91      3034\n",
      "\n",
      "    accuracy                           0.88      4615\n",
      "   macro avg       0.81      0.89      0.84      4615\n",
      "weighted avg       0.90      0.88      0.88      4615\n",
      "\n"
     ]
    }
   ],
   "source": [
    "eval_metric(xgb_grid_model, X_train2, y_train2, X_test2, y_test2)"
   ]
  },
  {
   "cell_type": "code",
   "execution_count": 126,
   "metadata": {},
   "outputs": [
    {
     "data": {
      "image/png": "[encoded data removed]",
      "text/plain": [
       "<Figure size 576x396 with 1 Axes>"
      ]
     },
     "metadata": {},
     "output_type": "display_data"
    }
   ],
   "source": [
    "model = XGBClassifier(random_state=101, colsample_bytree=0.5, subsample=0.5)\n",
    "\n",
    "viz = PrecisionRecallCurve(\n",
    "    model,\n",
    "    per_class=True, classes= [\"Black\", \"Hispanic\", \"White\"],\n",
    "    cmap=\"Set1\",\n",
    "    sample_weight=classes_weights\n",
    ")\n",
    "viz.fit(X_train2, y_train2)\n",
    "viz.score(X_test2, y_test2)\n",
    "viz.show();"
   ]
  },
  {
   "cell_type": "code",
   "execution_count": 127,
   "metadata": {},
   "outputs": [],
   "source": [
    "y_pred = xgb_grid_model.predict(X_test2)\n",
    "\n",
    "xgb_AP = viz.score_[\"Hispanic\"]\n",
    "xgb_f1 = f1_score(y_test2, y_pred, average=None, labels=[\"Hispanic\"])\n",
    "xgb_recall = recall_score(y_test2, y_pred, average=None, labels=[\"Hispanic\"])"
   ]
  },
  {
   "cell_type": "markdown",
   "metadata": {},
   "source": [
    "### Comparing Models"
   ]
  },
  {
   "cell_type": "code",
   "execution_count": 128,
   "metadata": {},
   "outputs": [
    {
     "data": {
      "image/png": "[encoded data removed]",
      "text/plain": [
       "<Figure size 1008x720 with 3 Axes>"
      ]
     },
     "metadata": {},
     "output_type": "display_data"
    }
   ],
   "source": [
    "compare = pd.DataFrame({\"Model\": [\"Logistic Regression\", \"SVM\",  \"Random Forest\", \"XGBoost\"],\n",
    "                        \"F1\": [log_f1[0], svc_f1[0], rf_f1[0], xgb_f1[0]],\n",
    "                        \"Recall\": [log_recall[0], svc_recall[0], rf_recall[0], xgb_recall[0]],\n",
    "                        \"AP\": [log_AP, svc_AP, rf_AP, xgb_AP]})    # Dengesiz datasetlerinde modelin genel performansi.\n",
    "\n",
    "def labels(ax):   # Sayilari yazdirmak icin.\n",
    "    for p in ax.patches:\n",
    "        width = p.get_width()                        # get bar length\n",
    "        ax.text(width,                               # set the text at 1 unit right of the bar\n",
    "                p.get_y() + p.get_height() / 2,      # get Y coordinate + X coordinate / 2\n",
    "                '{:1.3f}'.format(width),             # set variable to display, 2 decimals\n",
    "                ha = 'left',                         # horizontal alignment\n",
    "                va = 'center')                       # vertical alignment\n",
    "    \n",
    "plt.figure(figsize=(14,10))\n",
    "plt.subplot(311)\n",
    "compare = compare.sort_values(by=\"F1\", ascending=False)\n",
    "ax=sns.barplot(x=\"F1\", y=\"Model\", data=compare, palette=\"Blues_d\")        # f1 score\n",
    "labels(ax)\n",
    "\n",
    "plt.subplot(312)\n",
    "compare = compare.sort_values(by=\"Recall\", ascending=False)\n",
    "ax=sns.barplot(x=\"Recall\", y=\"Model\", data=compare, palette=\"Blues_d\")   # recall score\n",
    "labels(ax)\n",
    "\n",
    "plt.subplot(313)\n",
    "compare = compare.sort_values(by=\"AP\", ascending=False)\n",
    "ax=sns.barplot(x=\"AP\", y=\"Model\", data=compare, palette=\"Blues_d\")       # average precision score\n",
    "labels(ax)\n",
    "plt.show()"
   ]
  },
  {
   "cell_type": "markdown",
   "metadata": {
    "heading_collapsed": true,
    "id": "9hxUcvZG1b7J"
   },
   "source": [
    "# Before the Deployment \n",
    "- Choose the model that works best based on your chosen metric\n",
    "- For final step, fit the best model with whole dataset to get better performance.\n",
    "- And your model ready to deploy, dump your model and scaler."
   ]
  },
  {
   "cell_type": "code",
   "execution_count": 129,
   "metadata": {},
   "outputs": [],
   "source": [
    "operations = [(\"scaler\", MinMaxScaler()), (\"log\", LogisticRegression(class_weight='balanced',max_iter=10000,random_state=101))]\n",
    "final_model = Pipeline(steps=operations)"
   ]
  },
  {
   "cell_type": "code",
   "execution_count": 130,
   "metadata": {},
   "outputs": [
    {
     "data": {
      "text/html": [
       "<style>#sk-container-id-6 {color: black;background-color: white;}#sk-container-id-6 pre{padding: 0;}#sk-container-id-6 div.sk-toggleable {background-color: white;}#sk-container-id-6 label.sk-toggleable__label {cursor: pointer;display: block;width: 100%;margin-bottom: 0;padding: 0.3em;box-sizing: border-box;text-align: center;}#sk-container-id-6 label.sk-toggleable__label-arrow:before {content: \"▸\";float: left;margin-right: 0.25em;color: #696969;}#sk-container-id-6 label.sk-toggleable__label-arrow:hover:before {color: black;}#sk-container-id-6 div.sk-estimator:hover label.sk-toggleable__label-arrow:before {color: black;}#sk-container-id-6 div.sk-toggleable__content {max-height: 0;max-width: 0;overflow: hidden;text-align: left;background-color: #f0f8ff;}#sk-container-id-6 div.sk-toggleable__content pre {margin: 0.2em;color: black;border-radius: 0.25em;background-color: #f0f8ff;}#sk-container-id-6 input.sk-toggleable__control:checked~div.sk-toggleable__content {max-height: 200px;max-width: 100%;overflow: auto;}#sk-container-id-6 input.sk-toggleable__control:checked~label.sk-toggleable__label-arrow:before {content: \"▾\";}#sk-container-id-6 div.sk-estimator input.sk-toggleable__control:checked~label.sk-toggleable__label {background-color: #d4ebff;}#sk-container-id-6 div.sk-label input.sk-toggleable__control:checked~label.sk-toggleable__label {background-color: #d4ebff;}#sk-container-id-6 input.sk-hidden--visually {border: 0;clip: rect(1px 1px 1px 1px);clip: rect(1px, 1px, 1px, 1px);height: 1px;margin: -1px;overflow: hidden;padding: 0;position: absolute;width: 1px;}#sk-container-id-6 div.sk-estimator {font-family: monospace;background-color: #f0f8ff;border: 1px dotted black;border-radius: 0.25em;box-sizing: border-box;margin-bottom: 0.5em;}#sk-container-id-6 div.sk-estimator:hover {background-color: #d4ebff;}#sk-container-id-6 div.sk-parallel-item::after {content: \"\";width: 100%;border-bottom: 1px solid gray;flex-grow: 1;}#sk-container-id-6 div.sk-label:hover label.sk-toggleable__label {background-color: #d4ebff;}#sk-container-id-6 div.sk-serial::before {content: \"\";position: absolute;border-left: 1px solid gray;box-sizing: border-box;top: 0;bottom: 0;left: 50%;z-index: 0;}#sk-container-id-6 div.sk-serial {display: flex;flex-direction: column;align-items: center;background-color: white;padding-right: 0.2em;padding-left: 0.2em;position: relative;}#sk-container-id-6 div.sk-item {position: relative;z-index: 1;}#sk-container-id-6 div.sk-parallel {display: flex;align-items: stretch;justify-content: center;background-color: white;position: relative;}#sk-container-id-6 div.sk-item::before, #sk-container-id-6 div.sk-parallel-item::before {content: \"\";position: absolute;border-left: 1px solid gray;box-sizing: border-box;top: 0;bottom: 0;left: 50%;z-index: -1;}#sk-container-id-6 div.sk-parallel-item {display: flex;flex-direction: column;z-index: 1;position: relative;background-color: white;}#sk-container-id-6 div.sk-parallel-item:first-child::after {align-self: flex-end;width: 50%;}#sk-container-id-6 div.sk-parallel-item:last-child::after {align-self: flex-start;width: 50%;}#sk-container-id-6 div.sk-parallel-item:only-child::after {width: 0;}#sk-container-id-6 div.sk-dashed-wrapped {border: 1px dashed gray;margin: 0 0.4em 0.5em 0.4em;box-sizing: border-box;padding-bottom: 0.4em;background-color: white;}#sk-container-id-6 div.sk-label label {font-family: monospace;font-weight: bold;display: inline-block;line-height: 1.2em;}#sk-container-id-6 div.sk-label-container {text-align: center;}#sk-container-id-6 div.sk-container {/* jupyter's `normalize.less` sets `[hidden] { display: none; }` but bootstrap.min.css set `[hidden] { display: none !important; }` so we also need the `!important` here to be able to override the default hidden behavior on the sphinx rendered scikit-learn.org. See: https://github.com/scikit-learn/scikit-learn/issues/21755 */display: inline-block !important;position: relative;}#sk-container-id-6 div.sk-text-repr-fallback {display: none;}</style><div id=\"sk-container-id-6\" class=\"sk-top-container\"><div class=\"sk-text-repr-fallback\"><pre>Pipeline(steps=[(&#x27;scaler&#x27;, MinMaxScaler()),\n",
       "                (&#x27;log&#x27;,\n",
       "                 LogisticRegression(class_weight=&#x27;balanced&#x27;, max_iter=10000,\n",
       "                                    random_state=101))])</pre><b>In a Jupyter environment, please rerun this cell to show the HTML representation or trust the notebook. <br />On GitHub, the HTML representation is unable to render, please try loading this page with nbviewer.org.</b></div><div class=\"sk-container\" hidden><div class=\"sk-item sk-dashed-wrapped\"><div class=\"sk-label-container\"><div class=\"sk-label sk-toggleable\"><input class=\"sk-toggleable__control sk-hidden--visually\" id=\"sk-estimator-id-14\" type=\"checkbox\" ><label for=\"sk-estimator-id-14\" class=\"sk-toggleable__label sk-toggleable__label-arrow\">Pipeline</label><div class=\"sk-toggleable__content\"><pre>Pipeline(steps=[(&#x27;scaler&#x27;, MinMaxScaler()),\n",
       "                (&#x27;log&#x27;,\n",
       "                 LogisticRegression(class_weight=&#x27;balanced&#x27;, max_iter=10000,\n",
       "                                    random_state=101))])</pre></div></div></div><div class=\"sk-serial\"><div class=\"sk-item\"><div class=\"sk-estimator sk-toggleable\"><input class=\"sk-toggleable__control sk-hidden--visually\" id=\"sk-estimator-id-15\" type=\"checkbox\" ><label for=\"sk-estimator-id-15\" class=\"sk-toggleable__label sk-toggleable__label-arrow\">MinMaxScaler</label><div class=\"sk-toggleable__content\"><pre>MinMaxScaler()</pre></div></div></div><div class=\"sk-item\"><div class=\"sk-estimator sk-toggleable\"><input class=\"sk-toggleable__control sk-hidden--visually\" id=\"sk-estimator-id-16\" type=\"checkbox\" ><label for=\"sk-estimator-id-16\" class=\"sk-toggleable__label sk-toggleable__label-arrow\">LogisticRegression</label><div class=\"sk-toggleable__content\"><pre>LogisticRegression(class_weight=&#x27;balanced&#x27;, max_iter=10000, random_state=101)</pre></div></div></div></div></div></div></div>"
      ],
      "text/plain": [
       "Pipeline(steps=[('scaler', MinMaxScaler()),\n",
       "                ('log',\n",
       "                 LogisticRegression(class_weight='balanced', max_iter=10000,\n",
       "                                    random_state=101))])"
      ]
     },
     "execution_count": 130,
     "metadata": {},
     "output_type": "execute_result"
    }
   ],
   "source": [
    "final_model.fit(X, y)"
   ]
  },
  {
   "cell_type": "code",
   "execution_count": 131,
   "metadata": {},
   "outputs": [
    {
     "data": {
      "text/html": [
       "<div>\n",
       "<style scoped>\n",
       "    .dataframe tbody tr th:only-of-type {\n",
       "        vertical-align: middle;\n",
       "    }\n",
       "\n",
       "    .dataframe tbody tr th {\n",
       "        vertical-align: top;\n",
       "    }\n",
       "\n",
       "    .dataframe thead th {\n",
       "        text-align: right;\n",
       "    }\n",
       "</style>\n",
       "<table border=\"1\" class=\"dataframe\">\n",
       "  <thead>\n",
       "    <tr style=\"text-align: right;\">\n",
       "      <th></th>\n",
       "      <th>abdominalextensiondepthsitting</th>\n",
       "      <th>acromialheight</th>\n",
       "      <th>acromionradialelength</th>\n",
       "      <th>anklecircumference</th>\n",
       "      <th>axillaheight</th>\n",
       "      <th>balloffootcircumference</th>\n",
       "      <th>balloffootlength</th>\n",
       "      <th>biacromialbreadth</th>\n",
       "      <th>bicepscircumferenceflexed</th>\n",
       "      <th>bicristalbreadth</th>\n",
       "      <th>...</th>\n",
       "      <th>SubjectsBirthLocation_Venezuela</th>\n",
       "      <th>SubjectsBirthLocation_Vermont</th>\n",
       "      <th>SubjectsBirthLocation_Virginia</th>\n",
       "      <th>SubjectsBirthLocation_Washington</th>\n",
       "      <th>SubjectsBirthLocation_West Virginia</th>\n",
       "      <th>SubjectsBirthLocation_Wisconsin</th>\n",
       "      <th>SubjectsBirthLocation_Wyoming</th>\n",
       "      <th>SubjectsBirthLocation_Zambia</th>\n",
       "      <th>WritingPreference_Left hand</th>\n",
       "      <th>WritingPreference_Right hand</th>\n",
       "    </tr>\n",
       "  </thead>\n",
       "  <tbody>\n",
       "    <tr>\n",
       "      <th>count</th>\n",
       "      <td>5769.000</td>\n",
       "      <td>5769.000</td>\n",
       "      <td>5769.000</td>\n",
       "      <td>5769.000</td>\n",
       "      <td>5769.000</td>\n",
       "      <td>5769.000</td>\n",
       "      <td>5769.000</td>\n",
       "      <td>5769.000</td>\n",
       "      <td>5769.000</td>\n",
       "      <td>5769.000</td>\n",
       "      <td>...</td>\n",
       "      <td>5769.000</td>\n",
       "      <td>5769.000</td>\n",
       "      <td>5769.000</td>\n",
       "      <td>5769.000</td>\n",
       "      <td>5769.000</td>\n",
       "      <td>5769.000</td>\n",
       "      <td>5769.000</td>\n",
       "      <td>5769.000</td>\n",
       "      <td>5769.000</td>\n",
       "      <td>5769.000</td>\n",
       "    </tr>\n",
       "    <tr>\n",
       "      <th>mean</th>\n",
       "      <td>247.254</td>\n",
       "      <td>1408.630</td>\n",
       "      <td>328.072</td>\n",
       "      <td>225.202</td>\n",
       "      <td>1301.903</td>\n",
       "      <td>244.408</td>\n",
       "      <td>195.119</td>\n",
       "      <td>399.706</td>\n",
       "      <td>341.663</td>\n",
       "      <td>274.903</td>\n",
       "      <td>...</td>\n",
       "      <td>0.000</td>\n",
       "      <td>0.002</td>\n",
       "      <td>0.020</td>\n",
       "      <td>0.011</td>\n",
       "      <td>0.005</td>\n",
       "      <td>0.017</td>\n",
       "      <td>0.001</td>\n",
       "      <td>0.000</td>\n",
       "      <td>0.108</td>\n",
       "      <td>0.882</td>\n",
       "    </tr>\n",
       "    <tr>\n",
       "      <th>std</th>\n",
       "      <td>37.458</td>\n",
       "      <td>78.303</td>\n",
       "      <td>20.445</td>\n",
       "      <td>15.966</td>\n",
       "      <td>71.261</td>\n",
       "      <td>16.804</td>\n",
       "      <td>13.379</td>\n",
       "      <td>30.124</td>\n",
       "      <td>41.271</td>\n",
       "      <td>19.240</td>\n",
       "      <td>...</td>\n",
       "      <td>0.013</td>\n",
       "      <td>0.047</td>\n",
       "      <td>0.139</td>\n",
       "      <td>0.102</td>\n",
       "      <td>0.067</td>\n",
       "      <td>0.130</td>\n",
       "      <td>0.035</td>\n",
       "      <td>0.013</td>\n",
       "      <td>0.310</td>\n",
       "      <td>0.323</td>\n",
       "    </tr>\n",
       "    <tr>\n",
       "      <th>min</th>\n",
       "      <td>155.000</td>\n",
       "      <td>1146.000</td>\n",
       "      <td>249.000</td>\n",
       "      <td>156.000</td>\n",
       "      <td>1062.000</td>\n",
       "      <td>186.000</td>\n",
       "      <td>151.000</td>\n",
       "      <td>283.000</td>\n",
       "      <td>216.000</td>\n",
       "      <td>197.000</td>\n",
       "      <td>...</td>\n",
       "      <td>0.000</td>\n",
       "      <td>0.000</td>\n",
       "      <td>0.000</td>\n",
       "      <td>0.000</td>\n",
       "      <td>0.000</td>\n",
       "      <td>0.000</td>\n",
       "      <td>0.000</td>\n",
       "      <td>0.000</td>\n",
       "      <td>0.000</td>\n",
       "      <td>0.000</td>\n",
       "    </tr>\n",
       "    <tr>\n",
       "      <th>25%</th>\n",
       "      <td>220.000</td>\n",
       "      <td>1353.000</td>\n",
       "      <td>314.000</td>\n",
       "      <td>214.000</td>\n",
       "      <td>1252.000</td>\n",
       "      <td>233.000</td>\n",
       "      <td>186.000</td>\n",
       "      <td>377.000</td>\n",
       "      <td>312.000</td>\n",
       "      <td>262.000</td>\n",
       "      <td>...</td>\n",
       "      <td>0.000</td>\n",
       "      <td>0.000</td>\n",
       "      <td>0.000</td>\n",
       "      <td>0.000</td>\n",
       "      <td>0.000</td>\n",
       "      <td>0.000</td>\n",
       "      <td>0.000</td>\n",
       "      <td>0.000</td>\n",
       "      <td>0.000</td>\n",
       "      <td>1.000</td>\n",
       "    </tr>\n",
       "    <tr>\n",
       "      <th>50%</th>\n",
       "      <td>243.000</td>\n",
       "      <td>1412.000</td>\n",
       "      <td>328.000</td>\n",
       "      <td>225.000</td>\n",
       "      <td>1304.000</td>\n",
       "      <td>245.000</td>\n",
       "      <td>196.000</td>\n",
       "      <td>404.000</td>\n",
       "      <td>342.000</td>\n",
       "      <td>274.000</td>\n",
       "      <td>...</td>\n",
       "      <td>0.000</td>\n",
       "      <td>0.000</td>\n",
       "      <td>0.000</td>\n",
       "      <td>0.000</td>\n",
       "      <td>0.000</td>\n",
       "      <td>0.000</td>\n",
       "      <td>0.000</td>\n",
       "      <td>0.000</td>\n",
       "      <td>0.000</td>\n",
       "      <td>1.000</td>\n",
       "    </tr>\n",
       "    <tr>\n",
       "      <th>75%</th>\n",
       "      <td>272.000</td>\n",
       "      <td>1464.000</td>\n",
       "      <td>342.000</td>\n",
       "      <td>235.000</td>\n",
       "      <td>1351.000</td>\n",
       "      <td>256.000</td>\n",
       "      <td>205.000</td>\n",
       "      <td>422.000</td>\n",
       "      <td>370.000</td>\n",
       "      <td>288.000</td>\n",
       "      <td>...</td>\n",
       "      <td>0.000</td>\n",
       "      <td>0.000</td>\n",
       "      <td>0.000</td>\n",
       "      <td>0.000</td>\n",
       "      <td>0.000</td>\n",
       "      <td>0.000</td>\n",
       "      <td>0.000</td>\n",
       "      <td>0.000</td>\n",
       "      <td>0.000</td>\n",
       "      <td>1.000</td>\n",
       "    </tr>\n",
       "    <tr>\n",
       "      <th>max</th>\n",
       "      <td>451.000</td>\n",
       "      <td>1683.000</td>\n",
       "      <td>393.000</td>\n",
       "      <td>293.000</td>\n",
       "      <td>1553.000</td>\n",
       "      <td>306.000</td>\n",
       "      <td>245.000</td>\n",
       "      <td>489.000</td>\n",
       "      <td>490.000</td>\n",
       "      <td>362.000</td>\n",
       "      <td>...</td>\n",
       "      <td>1.000</td>\n",
       "      <td>1.000</td>\n",
       "      <td>1.000</td>\n",
       "      <td>1.000</td>\n",
       "      <td>1.000</td>\n",
       "      <td>1.000</td>\n",
       "      <td>1.000</td>\n",
       "      <td>1.000</td>\n",
       "      <td>1.000</td>\n",
       "      <td>1.000</td>\n",
       "    </tr>\n",
       "  </tbody>\n",
       "</table>\n",
       "<p>8 rows × 232 columns</p>\n",
       "</div>"
      ],
      "text/plain": [
       "       abdominalextensiondepthsitting  acromialheight  acromionradialelength  \\\n",
       "count                        5769.000        5769.000               5769.000   \n",
       "mean                          247.254        1408.630                328.072   \n",
       "std                            37.458          78.303                 20.445   \n",
       "min                           155.000        1146.000                249.000   \n",
       "25%                           220.000        1353.000                314.000   \n",
       "50%                           243.000        1412.000                328.000   \n",
       "75%                           272.000        1464.000                342.000   \n",
       "max                           451.000        1683.000                393.000   \n",
       "\n",
       "       anklecircumference  axillaheight  balloffootcircumference  \\\n",
       "count            5769.000      5769.000                 5769.000   \n",
       "mean              225.202      1301.903                  244.408   \n",
       "std                15.966        71.261                   16.804   \n",
       "min               156.000      1062.000                  186.000   \n",
       "25%               214.000      1252.000                  233.000   \n",
       "50%               225.000      1304.000                  245.000   \n",
       "75%               235.000      1351.000                  256.000   \n",
       "max               293.000      1553.000                  306.000   \n",
       "\n",
       "       balloffootlength  biacromialbreadth  bicepscircumferenceflexed  \\\n",
       "count          5769.000           5769.000                   5769.000   \n",
       "mean            195.119            399.706                    341.663   \n",
       "std              13.379             30.124                     41.271   \n",
       "min             151.000            283.000                    216.000   \n",
       "25%             186.000            377.000                    312.000   \n",
       "50%             196.000            404.000                    342.000   \n",
       "75%             205.000            422.000                    370.000   \n",
       "max             245.000            489.000                    490.000   \n",
       "\n",
       "       bicristalbreadth  ...  SubjectsBirthLocation_Venezuela  \\\n",
       "count          5769.000  ...                         5769.000   \n",
       "mean            274.903  ...                            0.000   \n",
       "std              19.240  ...                            0.013   \n",
       "min             197.000  ...                            0.000   \n",
       "25%             262.000  ...                            0.000   \n",
       "50%             274.000  ...                            0.000   \n",
       "75%             288.000  ...                            0.000   \n",
       "max             362.000  ...                            1.000   \n",
       "\n",
       "       SubjectsBirthLocation_Vermont  SubjectsBirthLocation_Virginia  \\\n",
       "count                       5769.000                        5769.000   \n",
       "mean                           0.002                           0.020   \n",
       "std                            0.047                           0.139   \n",
       "min                            0.000                           0.000   \n",
       "25%                            0.000                           0.000   \n",
       "50%                            0.000                           0.000   \n",
       "75%                            0.000                           0.000   \n",
       "max                            1.000                           1.000   \n",
       "\n",
       "       SubjectsBirthLocation_Washington  SubjectsBirthLocation_West Virginia  \\\n",
       "count                          5769.000                             5769.000   \n",
       "mean                              0.011                                0.005   \n",
       "std                               0.102                                0.067   \n",
       "min                               0.000                                0.000   \n",
       "25%                               0.000                                0.000   \n",
       "50%                               0.000                                0.000   \n",
       "75%                               0.000                                0.000   \n",
       "max                               1.000                                1.000   \n",
       "\n",
       "       SubjectsBirthLocation_Wisconsin  SubjectsBirthLocation_Wyoming  \\\n",
       "count                         5769.000                       5769.000   \n",
       "mean                             0.017                          0.001   \n",
       "std                              0.130                          0.035   \n",
       "min                              0.000                          0.000   \n",
       "25%                              0.000                          0.000   \n",
       "50%                              0.000                          0.000   \n",
       "75%                              0.000                          0.000   \n",
       "max                              1.000                          1.000   \n",
       "\n",
       "       SubjectsBirthLocation_Zambia  WritingPreference_Left hand  \\\n",
       "count                      5769.000                     5769.000   \n",
       "mean                          0.000                        0.108   \n",
       "std                           0.013                        0.310   \n",
       "min                           0.000                        0.000   \n",
       "25%                           0.000                        0.000   \n",
       "50%                           0.000                        0.000   \n",
       "75%                           0.000                        0.000   \n",
       "max                           1.000                        1.000   \n",
       "\n",
       "       WritingPreference_Right hand  \n",
       "count                      5769.000  \n",
       "mean                          0.882  \n",
       "std                           0.323  \n",
       "min                           0.000  \n",
       "25%                           1.000  \n",
       "50%                           1.000  \n",
       "75%                           1.000  \n",
       "max                           1.000  \n",
       "\n",
       "[8 rows x 232 columns]"
      ]
     },
     "execution_count": 131,
     "metadata": {},
     "output_type": "execute_result"
    }
   ],
   "source": [
    "X.describe()"
   ]
  },
  {
   "cell_type": "code",
   "execution_count": 132,
   "metadata": {},
   "outputs": [
    {
     "data": {
      "text/plain": [
       "abdominalextensiondepthsitting     247.254\n",
       "acromialheight                    1408.630\n",
       "acromionradialelength              328.072\n",
       "anklecircumference                 225.202\n",
       "axillaheight                      1301.903\n",
       "                                    ...   \n",
       "SubjectsBirthLocation_Wisconsin      0.017\n",
       "SubjectsBirthLocation_Wyoming        0.001\n",
       "SubjectsBirthLocation_Zambia         0.000\n",
       "WritingPreference_Left hand          0.108\n",
       "WritingPreference_Right hand         0.882\n",
       "Name: mean, Length: 232, dtype: float64"
      ]
     },
     "execution_count": 132,
     "metadata": {},
     "output_type": "execute_result"
    }
   ],
   "source": [
    "mean_human = X.describe().loc[\"mean\"]\n",
    "mean_human"
   ]
  },
  {
   "cell_type": "code",
   "execution_count": 133,
   "metadata": {},
   "outputs": [
    {
     "data": {
      "text/plain": [
       "array(['Hispanic'], dtype=object)"
      ]
     },
     "execution_count": 133,
     "metadata": {},
     "output_type": "execute_result"
    }
   ],
   "source": [
    "final_model.predict(X.loc[[201]])"
   ]
  },
  {
   "cell_type": "code",
   "execution_count": 134,
   "metadata": {},
   "outputs": [
    {
     "data": {
      "text/plain": [
       "'Hispanic'"
      ]
     },
     "execution_count": 134,
     "metadata": {},
     "output_type": "execute_result"
    }
   ],
   "source": [
    "y[201]"
   ]
  },
  {
   "cell_type": "markdown",
   "metadata": {},
   "source": [
    "<b> 201.satırdaki gözlemi modelin tahmin etmesini istedik ve Hispanic olarak tahmin etti. Sonrasında 201.satırdaki gözlemin gerçek değerine baktığımızda, o da Hispanic çıktı. Yani modelimiz doğru tahmin yaptı. </b>"
   ]
  },
  {
   "cell_type": "code",
   "execution_count": 135,
   "metadata": {},
   "outputs": [
    {
     "data": {
      "text/plain": [
       "array(['White'], dtype=object)"
      ]
     },
     "execution_count": 135,
     "metadata": {},
     "output_type": "execute_result"
    }
   ],
   "source": [
    "final_model.predict([mean_human])"
   ]
  },
  {
   "cell_type": "code",
   "execution_count": null,
   "metadata": {},
   "outputs": [],
   "source": []
  },
  {
   "cell_type": "markdown",
   "metadata": {
    "hidden": true,
    "id": "DbXAmOPVDatl"
   },
   "source": [
    "---\n",
    "---"
   ]
  },
  {
   "cell_type": "code",
   "execution_count": 136,
   "metadata": {},
   "outputs": [
    {
     "data": {
      "text/plain": [
       "0.7900286711873047"
      ]
     },
     "execution_count": 136,
     "metadata": {},
     "output_type": "execute_result"
    }
   ],
   "source": [
    "from sklearn.metrics import matthews_corrcoef\n",
    "\n",
    "y_pred = final_model.predict(X_test)\n",
    "\n",
    "matthews_corrcoef(y_test, y_pred)"
   ]
  },
  {
   "cell_type": "code",
   "execution_count": 137,
   "metadata": {},
   "outputs": [
    {
     "data": {
      "text/plain": [
       "0.7782922507470609"
      ]
     },
     "execution_count": 137,
     "metadata": {},
     "output_type": "execute_result"
    }
   ],
   "source": [
    "from sklearn.metrics import cohen_kappa_score\n",
    "\n",
    "cohen_kappa_score(y_test, y_pred)"
   ]
  },
  {
   "cell_type": "markdown",
   "metadata": {
    "hidden": true,
    "id": "WvWpInu21b7L"
   },
   "source": [
    "---\n",
    "---"
   ]
  },
  {
   "cell_type": "markdown",
   "metadata": {
    "heading_collapsed": true,
    "id": "xg2k1ScZ1b7L"
   },
   "source": [
    "# SMOTE\n",
    "https://machinelearningmastery.com/smote-oversampling-for-imbalanced-classification/"
   ]
  },
  {
   "cell_type": "markdown",
   "metadata": {
    "hidden": true,
    "id": "9Rqk02x61b7L"
   },
   "source": [
    "##  Smote implement"
   ]
  },
  {
   "cell_type": "code",
   "execution_count": 138,
   "metadata": {
    "hidden": true,
    "id": "XTN4iO7i1b7L"
   },
   "outputs": [
    {
     "name": "stdout",
     "output_type": "stream",
     "text": [
      "Requirement already satisfied: imblearn in c:\\users\\berkay.akin\\anaconda3\\lib\\site-packages (0.0)\n",
      "Requirement already satisfied: imbalanced-learn in c:\\users\\berkay.akin\\anaconda3\\lib\\site-packages (from imblearn) (0.9.1)\n",
      "Requirement already satisfied: scikit-learn>=1.1.0 in c:\\users\\berkay.akin\\anaconda3\\lib\\site-packages (from imbalanced-learn->imblearn) (1.1.2)\n",
      "Requirement already satisfied: scipy>=1.3.2 in c:\\users\\berkay.akin\\anaconda3\\lib\\site-packages (from imbalanced-learn->imblearn) (1.7.3)\n",
      "Requirement already satisfied: numpy>=1.17.3 in c:\\users\\berkay.akin\\anaconda3\\lib\\site-packages (from imbalanced-learn->imblearn) (1.22.4)\n",
      "Requirement already satisfied: threadpoolctl>=2.0.0 in c:\\users\\berkay.akin\\anaconda3\\lib\\site-packages (from imbalanced-learn->imblearn) (2.2.0)\n",
      "Requirement already satisfied: joblib>=1.0.0 in c:\\users\\berkay.akin\\anaconda3\\lib\\site-packages (from imbalanced-learn->imblearn) (1.1.0)\n"
     ]
    }
   ],
   "source": [
    "!pip install imblearn"
   ]
  },
  {
   "cell_type": "code",
   "execution_count": 139,
   "metadata": {
    "hidden": true,
    "id": "Cv5155AN1b7L"
   },
   "outputs": [],
   "source": [
    "from imblearn.over_sampling import SMOTE\n",
    "from imblearn.under_sampling import RandomUnderSampler\n",
    "from imblearn.pipeline import Pipeline as imbpipeline"
   ]
  },
  {
   "cell_type": "code",
   "execution_count": 144,
   "metadata": {},
   "outputs": [],
   "source": [
    "over = SMOTE()\n",
    "under = RandomUnderSampler() "
   ]
  },
  {
   "cell_type": "code",
   "execution_count": 145,
   "metadata": {},
   "outputs": [],
   "source": [
    "over = SMOTE(sampling_strategy={\"Hispanic\": 1200})\n",
    "under = RandomUnderSampler(sampling_strategy={\"White\": 2500})"
   ]
  },
  {
   "cell_type": "code",
   "execution_count": 146,
   "metadata": {},
   "outputs": [],
   "source": [
    "X_resampled_over, y_resampled_over = over.fit_resample(X_train, y_train)"
   ]
  },
  {
   "cell_type": "code",
   "execution_count": 147,
   "metadata": {},
   "outputs": [
    {
     "data": {
      "text/plain": [
       "White       3027\n",
       "Hispanic    1200\n",
       "Black       1040\n",
       "Name: DODRace, dtype: int64"
      ]
     },
     "execution_count": 147,
     "metadata": {},
     "output_type": "execute_result"
    }
   ],
   "source": [
    "y_resampled_over.value_counts()"
   ]
  },
  {
   "cell_type": "code",
   "execution_count": 148,
   "metadata": {},
   "outputs": [],
   "source": [
    "X_resampled_under, y_resampled_under = under.fit_resample(X_train, y_train)"
   ]
  },
  {
   "cell_type": "code",
   "execution_count": 149,
   "metadata": {},
   "outputs": [
    {
     "data": {
      "text/plain": [
       "White       2500\n",
       "Black       1040\n",
       "Hispanic     548\n",
       "Name: DODRace, dtype: int64"
      ]
     },
     "execution_count": 149,
     "metadata": {},
     "output_type": "execute_result"
    }
   ],
   "source": [
    "y_resampled_under.value_counts()"
   ]
  },
  {
   "cell_type": "code",
   "execution_count": 150,
   "metadata": {},
   "outputs": [],
   "source": [
    "steps = [('o', over), ('u', under)]\n",
    "\n",
    "pipeline = imbpipeline(steps=steps)\n",
    "\n",
    "X_resampled, y_resampled = pipeline.fit_resample(X_train, y_train)"
   ]
  },
  {
   "cell_type": "code",
   "execution_count": 151,
   "metadata": {},
   "outputs": [
    {
     "data": {
      "text/plain": [
       "White       2500\n",
       "Hispanic    1200\n",
       "Black       1040\n",
       "Name: DODRace, dtype: int64"
      ]
     },
     "execution_count": 151,
     "metadata": {},
     "output_type": "execute_result"
    }
   ],
   "source": [
    "y_resampled.value_counts()"
   ]
  },
  {
   "cell_type": "code",
   "execution_count": 152,
   "metadata": {},
   "outputs": [
    {
     "data": {
      "text/plain": [
       "White       3027\n",
       "Black       1040\n",
       "Hispanic     548\n",
       "Name: DODRace, dtype: int64"
      ]
     },
     "execution_count": 152,
     "metadata": {},
     "output_type": "execute_result"
    }
   ],
   "source": [
    "y_train.value_counts()"
   ]
  },
  {
   "cell_type": "markdown",
   "metadata": {
    "hidden": true,
    "id": "aoKU_HZR1b7M"
   },
   "source": [
    "## Logistic Regression Over/Under Sampling"
   ]
  },
  {
   "cell_type": "code",
   "execution_count": 153,
   "metadata": {
    "id": "JkNSgnut2Z6N"
   },
   "outputs": [],
   "source": [
    "operations = [('o', over), ('u', under), (\"scaler\", MinMaxScaler()), \n",
    "              (\"log\", LogisticRegression(class_weight='balanced',max_iter=10000,random_state=101))]"
   ]
  },
  {
   "cell_type": "code",
   "execution_count": 154,
   "metadata": {},
   "outputs": [],
   "source": [
    "smote_pipeline = imbpipeline(steps=operations)"
   ]
  },
  {
   "cell_type": "code",
   "execution_count": 155,
   "metadata": {},
   "outputs": [
    {
     "data": {
      "text/html": [
       "<style>#sk-container-id-7 {color: black;background-color: white;}#sk-container-id-7 pre{padding: 0;}#sk-container-id-7 div.sk-toggleable {background-color: white;}#sk-container-id-7 label.sk-toggleable__label {cursor: pointer;display: block;width: 100%;margin-bottom: 0;padding: 0.3em;box-sizing: border-box;text-align: center;}#sk-container-id-7 label.sk-toggleable__label-arrow:before {content: \"▸\";float: left;margin-right: 0.25em;color: #696969;}#sk-container-id-7 label.sk-toggleable__label-arrow:hover:before {color: black;}#sk-container-id-7 div.sk-estimator:hover label.sk-toggleable__label-arrow:before {color: black;}#sk-container-id-7 div.sk-toggleable__content {max-height: 0;max-width: 0;overflow: hidden;text-align: left;background-color: #f0f8ff;}#sk-container-id-7 div.sk-toggleable__content pre {margin: 0.2em;color: black;border-radius: 0.25em;background-color: #f0f8ff;}#sk-container-id-7 input.sk-toggleable__control:checked~div.sk-toggleable__content {max-height: 200px;max-width: 100%;overflow: auto;}#sk-container-id-7 input.sk-toggleable__control:checked~label.sk-toggleable__label-arrow:before {content: \"▾\";}#sk-container-id-7 div.sk-estimator input.sk-toggleable__control:checked~label.sk-toggleable__label {background-color: #d4ebff;}#sk-container-id-7 div.sk-label input.sk-toggleable__control:checked~label.sk-toggleable__label {background-color: #d4ebff;}#sk-container-id-7 input.sk-hidden--visually {border: 0;clip: rect(1px 1px 1px 1px);clip: rect(1px, 1px, 1px, 1px);height: 1px;margin: -1px;overflow: hidden;padding: 0;position: absolute;width: 1px;}#sk-container-id-7 div.sk-estimator {font-family: monospace;background-color: #f0f8ff;border: 1px dotted black;border-radius: 0.25em;box-sizing: border-box;margin-bottom: 0.5em;}#sk-container-id-7 div.sk-estimator:hover {background-color: #d4ebff;}#sk-container-id-7 div.sk-parallel-item::after {content: \"\";width: 100%;border-bottom: 1px solid gray;flex-grow: 1;}#sk-container-id-7 div.sk-label:hover label.sk-toggleable__label {background-color: #d4ebff;}#sk-container-id-7 div.sk-serial::before {content: \"\";position: absolute;border-left: 1px solid gray;box-sizing: border-box;top: 0;bottom: 0;left: 50%;z-index: 0;}#sk-container-id-7 div.sk-serial {display: flex;flex-direction: column;align-items: center;background-color: white;padding-right: 0.2em;padding-left: 0.2em;position: relative;}#sk-container-id-7 div.sk-item {position: relative;z-index: 1;}#sk-container-id-7 div.sk-parallel {display: flex;align-items: stretch;justify-content: center;background-color: white;position: relative;}#sk-container-id-7 div.sk-item::before, #sk-container-id-7 div.sk-parallel-item::before {content: \"\";position: absolute;border-left: 1px solid gray;box-sizing: border-box;top: 0;bottom: 0;left: 50%;z-index: -1;}#sk-container-id-7 div.sk-parallel-item {display: flex;flex-direction: column;z-index: 1;position: relative;background-color: white;}#sk-container-id-7 div.sk-parallel-item:first-child::after {align-self: flex-end;width: 50%;}#sk-container-id-7 div.sk-parallel-item:last-child::after {align-self: flex-start;width: 50%;}#sk-container-id-7 div.sk-parallel-item:only-child::after {width: 0;}#sk-container-id-7 div.sk-dashed-wrapped {border: 1px dashed gray;margin: 0 0.4em 0.5em 0.4em;box-sizing: border-box;padding-bottom: 0.4em;background-color: white;}#sk-container-id-7 div.sk-label label {font-family: monospace;font-weight: bold;display: inline-block;line-height: 1.2em;}#sk-container-id-7 div.sk-label-container {text-align: center;}#sk-container-id-7 div.sk-container {/* jupyter's `normalize.less` sets `[hidden] { display: none; }` but bootstrap.min.css set `[hidden] { display: none !important; }` so we also need the `!important` here to be able to override the default hidden behavior on the sphinx rendered scikit-learn.org. See: https://github.com/scikit-learn/scikit-learn/issues/21755 */display: inline-block !important;position: relative;}#sk-container-id-7 div.sk-text-repr-fallback {display: none;}</style><div id=\"sk-container-id-7\" class=\"sk-top-container\"><div class=\"sk-text-repr-fallback\"><pre>Pipeline(steps=[(&#x27;o&#x27;, SMOTE(sampling_strategy={&#x27;Hispanic&#x27;: 1200})),\n",
       "                (&#x27;u&#x27;, RandomUnderSampler(sampling_strategy={&#x27;White&#x27;: 2500})),\n",
       "                (&#x27;scaler&#x27;, MinMaxScaler()),\n",
       "                (&#x27;log&#x27;,\n",
       "                 LogisticRegression(class_weight=&#x27;balanced&#x27;, max_iter=10000,\n",
       "                                    random_state=101))])</pre><b>In a Jupyter environment, please rerun this cell to show the HTML representation or trust the notebook. <br />On GitHub, the HTML representation is unable to render, please try loading this page with nbviewer.org.</b></div><div class=\"sk-container\" hidden><div class=\"sk-item sk-dashed-wrapped\"><div class=\"sk-label-container\"><div class=\"sk-label sk-toggleable\"><input class=\"sk-toggleable__control sk-hidden--visually\" id=\"sk-estimator-id-17\" type=\"checkbox\" ><label for=\"sk-estimator-id-17\" class=\"sk-toggleable__label sk-toggleable__label-arrow\">Pipeline</label><div class=\"sk-toggleable__content\"><pre>Pipeline(steps=[(&#x27;o&#x27;, SMOTE(sampling_strategy={&#x27;Hispanic&#x27;: 1200})),\n",
       "                (&#x27;u&#x27;, RandomUnderSampler(sampling_strategy={&#x27;White&#x27;: 2500})),\n",
       "                (&#x27;scaler&#x27;, MinMaxScaler()),\n",
       "                (&#x27;log&#x27;,\n",
       "                 LogisticRegression(class_weight=&#x27;balanced&#x27;, max_iter=10000,\n",
       "                                    random_state=101))])</pre></div></div></div><div class=\"sk-serial\"><div class=\"sk-item\"><div class=\"sk-estimator sk-toggleable\"><input class=\"sk-toggleable__control sk-hidden--visually\" id=\"sk-estimator-id-18\" type=\"checkbox\" ><label for=\"sk-estimator-id-18\" class=\"sk-toggleable__label sk-toggleable__label-arrow\">SMOTE</label><div class=\"sk-toggleable__content\"><pre>SMOTE(sampling_strategy={&#x27;Hispanic&#x27;: 1200})</pre></div></div></div><div class=\"sk-item\"><div class=\"sk-estimator sk-toggleable\"><input class=\"sk-toggleable__control sk-hidden--visually\" id=\"sk-estimator-id-19\" type=\"checkbox\" ><label for=\"sk-estimator-id-19\" class=\"sk-toggleable__label sk-toggleable__label-arrow\">RandomUnderSampler</label><div class=\"sk-toggleable__content\"><pre>RandomUnderSampler(sampling_strategy={&#x27;White&#x27;: 2500})</pre></div></div></div><div class=\"sk-item\"><div class=\"sk-estimator sk-toggleable\"><input class=\"sk-toggleable__control sk-hidden--visually\" id=\"sk-estimator-id-20\" type=\"checkbox\" ><label for=\"sk-estimator-id-20\" class=\"sk-toggleable__label sk-toggleable__label-arrow\">MinMaxScaler</label><div class=\"sk-toggleable__content\"><pre>MinMaxScaler()</pre></div></div></div><div class=\"sk-item\"><div class=\"sk-estimator sk-toggleable\"><input class=\"sk-toggleable__control sk-hidden--visually\" id=\"sk-estimator-id-21\" type=\"checkbox\" ><label for=\"sk-estimator-id-21\" class=\"sk-toggleable__label sk-toggleable__label-arrow\">LogisticRegression</label><div class=\"sk-toggleable__content\"><pre>LogisticRegression(class_weight=&#x27;balanced&#x27;, max_iter=10000, random_state=101)</pre></div></div></div></div></div></div></div>"
      ],
      "text/plain": [
       "Pipeline(steps=[('o', SMOTE(sampling_strategy={'Hispanic': 1200})),\n",
       "                ('u', RandomUnderSampler(sampling_strategy={'White': 2500})),\n",
       "                ('scaler', MinMaxScaler()),\n",
       "                ('log',\n",
       "                 LogisticRegression(class_weight='balanced', max_iter=10000,\n",
       "                                    random_state=101))])"
      ]
     },
     "execution_count": 155,
     "metadata": {},
     "output_type": "execute_result"
    }
   ],
   "source": [
    "smote_pipeline.fit(X_train, y_train)"
   ]
  },
  {
   "cell_type": "code",
   "execution_count": 156,
   "metadata": {},
   "outputs": [
    {
     "name": "stdout",
     "output_type": "stream",
     "text": [
      "Test_Set\n",
      "[[240  10   8]\n",
      " [  9 100  22]\n",
      " [ 15  85 665]]\n",
      "              precision    recall  f1-score   support\n",
      "\n",
      "       Black       0.91      0.93      0.92       258\n",
      "    Hispanic       0.51      0.76      0.61       131\n",
      "       White       0.96      0.87      0.91       765\n",
      "\n",
      "    accuracy                           0.87      1154\n",
      "   macro avg       0.79      0.85      0.81      1154\n",
      "weighted avg       0.90      0.87      0.88      1154\n",
      "\n",
      "\n",
      "Train_Set\n",
      "[[ 979   28   33]\n",
      " [  32  404  112]\n",
      " [  67  261 2699]]\n",
      "              precision    recall  f1-score   support\n",
      "\n",
      "       Black       0.91      0.94      0.92      1040\n",
      "    Hispanic       0.58      0.74      0.65       548\n",
      "       White       0.95      0.89      0.92      3027\n",
      "\n",
      "    accuracy                           0.88      4615\n",
      "   macro avg       0.81      0.86      0.83      4615\n",
      "weighted avg       0.90      0.88      0.89      4615\n",
      "\n"
     ]
    }
   ],
   "source": [
    "eval_metric(smote_pipeline, X_train, y_train, X_test, y_test)"
   ]
  },
  {
   "cell_type": "code",
   "execution_count": 157,
   "metadata": {},
   "outputs": [
    {
     "data": {
      "text/plain": [
       "test_f1_Hispanic          0.615\n",
       "test_precision_Hispanic   0.548\n",
       "test_recall_Hispanic      0.703\n",
       "dtype: float64"
      ]
     },
     "execution_count": 157,
     "metadata": {},
     "output_type": "execute_result"
    }
   ],
   "source": [
    "model = smote_pipeline = imbpipeline(steps=operations)\n",
    "\n",
    "scores = cross_validate(model, X_train, y_train, scoring = scoring, cv = 10)\n",
    "df_scores = pd.DataFrame(scores, index = range(1, 11))\n",
    "df_scores.mean()[2:]"
   ]
  },
  {
   "cell_type": "markdown",
   "metadata": {
    "heading_collapsed": true,
    "id": "AVnS0UKO1b7P"
   },
   "source": [
    "#  SHAP\n",
    "\n",
    "https://towardsdatascience.com/shap-explain-any-machine-learning-model-in-python-24207127cad7"
   ]
  },
  {
   "cell_type": "code",
   "execution_count": 159,
   "metadata": {
    "hidden": true,
    "id": "-vB4oVMU1b7P",
    "outputId": "f9c79861-e5c2-4a60-a2f7-02e6c52a82f3",
    "scrolled": true
   },
   "outputs": [
    {
     "name": "stdout",
     "output_type": "stream",
     "text": [
      "Collecting shap\n",
      "  Using cached shap-0.41.0-cp39-cp39-win_amd64.whl (435 kB)\n",
      "Requirement already satisfied: scikit-learn in c:\\users\\berkay.akin\\anaconda3\\lib\\site-packages (from shap) (1.1.2)\n",
      "Requirement already satisfied: pandas in c:\\users\\berkay.akin\\anaconda3\\lib\\site-packages (from shap) (1.4.2)\n",
      "Requirement already satisfied: packaging>20.9 in c:\\users\\berkay.akin\\anaconda3\\lib\\site-packages (from shap) (21.3)\n",
      "Requirement already satisfied: cloudpickle in c:\\users\\berkay.akin\\anaconda3\\lib\\site-packages (from shap) (2.0.0)\n",
      "Requirement already satisfied: tqdm>4.25.0 in c:\\users\\berkay.akin\\anaconda3\\lib\\site-packages (from shap) (4.64.0)\n",
      "Requirement already satisfied: numpy in c:\\users\\berkay.akin\\anaconda3\\lib\\site-packages (from shap) (1.21.6)\n",
      "Requirement already satisfied: numba in c:\\users\\berkay.akin\\anaconda3\\lib\\site-packages (from shap) (0.55.1)\n",
      "Collecting slicer==0.0.7\n",
      "  Using cached slicer-0.0.7-py3-none-any.whl (14 kB)\n",
      "Requirement already satisfied: scipy in c:\\users\\berkay.akin\\anaconda3\\lib\\site-packages (from shap) (1.7.3)\n",
      "Requirement already satisfied: pyparsing!=3.0.5,>=2.0.2 in c:\\users\\berkay.akin\\anaconda3\\lib\\site-packages (from packaging>20.9->shap) (3.0.4)\n",
      "Requirement already satisfied: colorama in c:\\users\\berkay.akin\\anaconda3\\lib\\site-packages (from tqdm>4.25.0->shap) (0.4.4)\n",
      "Requirement already satisfied: setuptools in c:\\users\\berkay.akin\\anaconda3\\lib\\site-packages (from numba->shap) (61.2.0)\n",
      "Requirement already satisfied: llvmlite<0.39,>=0.38.0rc1 in c:\\users\\berkay.akin\\anaconda3\\lib\\site-packages (from numba->shap) (0.38.0)\n",
      "Requirement already satisfied: python-dateutil>=2.8.1 in c:\\users\\berkay.akin\\anaconda3\\lib\\site-packages (from pandas->shap) (2.8.2)\n",
      "Requirement already satisfied: pytz>=2020.1 in c:\\users\\berkay.akin\\anaconda3\\lib\\site-packages (from pandas->shap) (2021.3)\n",
      "Requirement already satisfied: six>=1.5 in c:\\users\\berkay.akin\\anaconda3\\lib\\site-packages (from python-dateutil>=2.8.1->pandas->shap) (1.16.0)\n",
      "Requirement already satisfied: joblib>=1.0.0 in c:\\users\\berkay.akin\\anaconda3\\lib\\site-packages (from scikit-learn->shap) (1.1.0)\n",
      "Requirement already satisfied: threadpoolctl>=2.0.0 in c:\\users\\berkay.akin\\anaconda3\\lib\\site-packages (from scikit-learn->shap) (2.2.0)\n",
      "Installing collected packages: slicer, shap\n",
      "Successfully installed shap-0.41.0 slicer-0.0.7\n"
     ]
    }
   ],
   "source": [
    "!pip install shap"
   ]
  },
  {
   "cell_type": "code",
   "execution_count": 161,
   "metadata": {},
   "outputs": [],
   "source": [
    "scaler = MinMaxScaler()\n",
    "X_train_scaled = scaler.fit_transform(X_train)\n",
    "X_test_scaled = scaler.transform(X_test)"
   ]
  },
  {
   "cell_type": "code",
   "execution_count": 162,
   "metadata": {},
   "outputs": [
    {
     "data": {
      "text/html": [
       "<style>#sk-container-id-8 {color: black;background-color: white;}#sk-container-id-8 pre{padding: 0;}#sk-container-id-8 div.sk-toggleable {background-color: white;}#sk-container-id-8 label.sk-toggleable__label {cursor: pointer;display: block;width: 100%;margin-bottom: 0;padding: 0.3em;box-sizing: border-box;text-align: center;}#sk-container-id-8 label.sk-toggleable__label-arrow:before {content: \"▸\";float: left;margin-right: 0.25em;color: #696969;}#sk-container-id-8 label.sk-toggleable__label-arrow:hover:before {color: black;}#sk-container-id-8 div.sk-estimator:hover label.sk-toggleable__label-arrow:before {color: black;}#sk-container-id-8 div.sk-toggleable__content {max-height: 0;max-width: 0;overflow: hidden;text-align: left;background-color: #f0f8ff;}#sk-container-id-8 div.sk-toggleable__content pre {margin: 0.2em;color: black;border-radius: 0.25em;background-color: #f0f8ff;}#sk-container-id-8 input.sk-toggleable__control:checked~div.sk-toggleable__content {max-height: 200px;max-width: 100%;overflow: auto;}#sk-container-id-8 input.sk-toggleable__control:checked~label.sk-toggleable__label-arrow:before {content: \"▾\";}#sk-container-id-8 div.sk-estimator input.sk-toggleable__control:checked~label.sk-toggleable__label {background-color: #d4ebff;}#sk-container-id-8 div.sk-label input.sk-toggleable__control:checked~label.sk-toggleable__label {background-color: #d4ebff;}#sk-container-id-8 input.sk-hidden--visually {border: 0;clip: rect(1px 1px 1px 1px);clip: rect(1px, 1px, 1px, 1px);height: 1px;margin: -1px;overflow: hidden;padding: 0;position: absolute;width: 1px;}#sk-container-id-8 div.sk-estimator {font-family: monospace;background-color: #f0f8ff;border: 1px dotted black;border-radius: 0.25em;box-sizing: border-box;margin-bottom: 0.5em;}#sk-container-id-8 div.sk-estimator:hover {background-color: #d4ebff;}#sk-container-id-8 div.sk-parallel-item::after {content: \"\";width: 100%;border-bottom: 1px solid gray;flex-grow: 1;}#sk-container-id-8 div.sk-label:hover label.sk-toggleable__label {background-color: #d4ebff;}#sk-container-id-8 div.sk-serial::before {content: \"\";position: absolute;border-left: 1px solid gray;box-sizing: border-box;top: 0;bottom: 0;left: 50%;z-index: 0;}#sk-container-id-8 div.sk-serial {display: flex;flex-direction: column;align-items: center;background-color: white;padding-right: 0.2em;padding-left: 0.2em;position: relative;}#sk-container-id-8 div.sk-item {position: relative;z-index: 1;}#sk-container-id-8 div.sk-parallel {display: flex;align-items: stretch;justify-content: center;background-color: white;position: relative;}#sk-container-id-8 div.sk-item::before, #sk-container-id-8 div.sk-parallel-item::before {content: \"\";position: absolute;border-left: 1px solid gray;box-sizing: border-box;top: 0;bottom: 0;left: 50%;z-index: -1;}#sk-container-id-8 div.sk-parallel-item {display: flex;flex-direction: column;z-index: 1;position: relative;background-color: white;}#sk-container-id-8 div.sk-parallel-item:first-child::after {align-self: flex-end;width: 50%;}#sk-container-id-8 div.sk-parallel-item:last-child::after {align-self: flex-start;width: 50%;}#sk-container-id-8 div.sk-parallel-item:only-child::after {width: 0;}#sk-container-id-8 div.sk-dashed-wrapped {border: 1px dashed gray;margin: 0 0.4em 0.5em 0.4em;box-sizing: border-box;padding-bottom: 0.4em;background-color: white;}#sk-container-id-8 div.sk-label label {font-family: monospace;font-weight: bold;display: inline-block;line-height: 1.2em;}#sk-container-id-8 div.sk-label-container {text-align: center;}#sk-container-id-8 div.sk-container {/* jupyter's `normalize.less` sets `[hidden] { display: none; }` but bootstrap.min.css set `[hidden] { display: none !important; }` so we also need the `!important` here to be able to override the default hidden behavior on the sphinx rendered scikit-learn.org. See: https://github.com/scikit-learn/scikit-learn/issues/21755 */display: inline-block !important;position: relative;}#sk-container-id-8 div.sk-text-repr-fallback {display: none;}</style><div id=\"sk-container-id-8\" class=\"sk-top-container\"><div class=\"sk-text-repr-fallback\"><pre>LogisticRegression(class_weight=&#x27;balanced&#x27;, max_iter=10000, penalty=&#x27;l1&#x27;,\n",
       "                   random_state=101, solver=&#x27;saga&#x27;)</pre><b>In a Jupyter environment, please rerun this cell to show the HTML representation or trust the notebook. <br />On GitHub, the HTML representation is unable to render, please try loading this page with nbviewer.org.</b></div><div class=\"sk-container\" hidden><div class=\"sk-item\"><div class=\"sk-estimator sk-toggleable\"><input class=\"sk-toggleable__control sk-hidden--visually\" id=\"sk-estimator-id-22\" type=\"checkbox\" checked><label for=\"sk-estimator-id-22\" class=\"sk-toggleable__label sk-toggleable__label-arrow\">LogisticRegression</label><div class=\"sk-toggleable__content\"><pre>LogisticRegression(class_weight=&#x27;balanced&#x27;, max_iter=10000, penalty=&#x27;l1&#x27;,\n",
       "                   random_state=101, solver=&#x27;saga&#x27;)</pre></div></div></div></div></div>"
      ],
      "text/plain": [
       "LogisticRegression(class_weight='balanced', max_iter=10000, penalty='l1',\n",
       "                   random_state=101, solver='saga')"
      ]
     },
     "execution_count": 162,
     "metadata": {},
     "output_type": "execute_result"
    }
   ],
   "source": [
    "model_shap = LogisticRegression(class_weight='balanced',max_iter=10000, random_state=101, penalty=\"l1\", solver='saga')\n",
    "model_shap.fit(X_train_scaled, y_train)"
   ]
  },
  {
   "cell_type": "code",
   "execution_count": 163,
   "metadata": {},
   "outputs": [
    {
     "name": "stdout",
     "output_type": "stream",
     "text": [
      "Test_Set\n",
      "[[239  11   8]\n",
      " [  5 111  15]\n",
      " [ 15 105 645]]\n",
      "              precision    recall  f1-score   support\n",
      "\n",
      "       Black       0.92      0.93      0.92       258\n",
      "    Hispanic       0.49      0.85      0.62       131\n",
      "       White       0.97      0.84      0.90       765\n",
      "\n",
      "    accuracy                           0.86      1154\n",
      "   macro avg       0.79      0.87      0.81      1154\n",
      "weighted avg       0.90      0.86      0.87      1154\n",
      "\n",
      "\n",
      "Train_Set\n",
      "[[ 973   41   26]\n",
      " [  21  453   74]\n",
      " [  69  349 2609]]\n",
      "              precision    recall  f1-score   support\n",
      "\n",
      "       Black       0.92      0.94      0.93      1040\n",
      "    Hispanic       0.54      0.83      0.65       548\n",
      "       White       0.96      0.86      0.91      3027\n",
      "\n",
      "    accuracy                           0.87      4615\n",
      "   macro avg       0.81      0.87      0.83      4615\n",
      "weighted avg       0.90      0.87      0.88      4615\n",
      "\n"
     ]
    }
   ],
   "source": [
    "eval_metric(model_shap, X_train_scaled, y_train, X_test_scaled, y_test)"
   ]
  },
  {
   "cell_type": "code",
   "execution_count": null,
   "metadata": {
    "hidden": true,
    "id": "eTTPiHfB1b7Q",
    "scrolled": true
   },
   "outputs": [],
   "source": [
    "shap_values"
   ]
  },
  {
   "cell_type": "code",
   "execution_count": null,
   "metadata": {
    "hidden": true,
    "id": "IVG77ukO1b7Q",
    "outputId": "96901cda-3c6c-4fe4-a36b-eb43b08cc86e"
   },
   "outputs": [],
   "source": [
    "print(shap_values[0].shape)"
   ]
  },
  {
   "cell_type": "code",
   "execution_count": null,
   "metadata": {
    "hidden": true,
    "id": "Ea2YZzkQ1b7Q"
   },
   "outputs": [],
   "source": [
    "# %% >> Visualize local predictions\n",
    "shap.initjs()\n",
    "# Force plot\n",
    "prediction = log_model.predict(X_test[start_index:end_index])[0]\n",
    "print(f\"The log_model predicted: {prediction}\")\n",
    "shap.force_plot(explainer.expected_value[1],\n",
    "                shap_values[1],\n",
    "                X_test[start_index:end_index], # for values\n",
    "                feature_names= X.columns,) "
   ]
  },
  {
   "cell_type": "code",
   "execution_count": null,
   "metadata": {
    "hidden": true,
    "id": "DscXral61b7Q",
    "scrolled": true
   },
   "outputs": [],
   "source": [
    "shap.summary_plot(shap_values, X_train,max_display=300,feature_names = X.columns)"
   ]
  },
  {
   "cell_type": "code",
   "execution_count": null,
   "metadata": {
    "id": "4UOn_G0n2N2Z"
   },
   "outputs": [],
   "source": []
  }
 ],
 "metadata": {
  "colab": {
   "collapsed_sections": [
    "K7UZHtvu1b62",
    "C5lJeTBu1b65",
    "TMjCTEG51b67",
    "CS5-GZy0sl4s",
    "zfi_NOw0s2fM",
    "p3gH5QvE1b7I",
    "9hxUcvZG1b7J",
    "9Rqk02x61b7L",
    "aoKU_HZR1b7M",
    "1hBIqmFL1b7O",
    "AVnS0UKO1b7P"
   ],
   "name": "soldier_race_project_students.ipynb",
   "provenance": []
  },
  "hide_input": false,
  "kernelspec": {
   "display_name": "Python 3.9.12 ('base')",
   "language": "python",
   "name": "python3"
  },
  "language_info": {
   "codemirror_mode": {
    "name": "ipython",
    "version": 3
   },
   "file_extension": ".py",
   "mimetype": "text/x-python",
   "name": "python",
   "nbconvert_exporter": "python",
   "pygments_lexer": "ipython3",
   "version": "3.9.12"
  },
  "toc": {
   "base_numbering": 1,
   "nav_menu": {},
   "number_sections": true,
   "sideBar": true,
   "skip_h1_title": false,
   "title_cell": "Table of Contents",
   "title_sidebar": "Contents",
   "toc_cell": false,
   "toc_position": {
    "height": "calc(100% - 180px)",
    "left": "10px",
    "top": "150px",
    "width": "338.797px"
   },
   "toc_section_display": true,
   "toc_window_display": false
  },
  "varInspector": {
   "cols": {
    "lenName": 16,
    "lenType": 16,
    "lenVar": 40
   },
   "kernels_config": {
    "python": {
     "delete_cmd_postfix": "",
     "delete_cmd_prefix": "del ",
     "library": "var_list.py",
     "varRefreshCmd": "print(var_dic_list())"
    },
    "r": {
     "delete_cmd_postfix": ") ",
     "delete_cmd_prefix": "rm(",
     "library": "var_list.r",
     "varRefreshCmd": "cat(var_dic_list()) "
    }
   },
   "oldHeight": 527,
   "position": {
    "height": "40px",
    "left": "1034px",
    "right": "20px",
    "top": "185px",
    "width": "661px"
   },
   "types_to_exclude": [
    "module",
    "function",
    "builtin_function_or_method",
    "instance",
    "_Feature"
   ],
   "varInspector_section_display": "none",
   "window_display": false
  },
  "vscode": {
   "interpreter": {
    "hash": "abea925bf959b3c67201990cd570fbd9a68084cbacfa9b16f471b0eeed5bcd8c"
   }
  }
 },
 "nbformat": 4,
 "nbformat_minor": 1
}
